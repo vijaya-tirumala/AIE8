{
  "cells": [
    {
      "cell_type": "markdown",
      "metadata": {
        "id": "t1ub1OLYZQvz"
      },
      "source": [
        "# Using Ragas to Evaluate an Agent Application built with LangChain and LangGraph\n",
        "\n",
        "In the following notebook, we'll be looking at how [Ragas](https://github.com/explodinggradients/ragas) can be helpful in a number of ways when looking to evaluate your RAG applications!\n",
        "\n",
        "While this example is rooted in LangChain/LangGraph - Ragas is framework agnostic (you don't even need to be using a framework!).\n",
        "\n",
        "We'll:\n",
        "\n",
        "- Collect our data\n",
        "- Create a simple Agent application\n",
        "- Evaluate our Agent application\n",
        "\n",
        "> NOTE: This notebook is very lightly modified from Ragas' [LangGraph tutorial](https://docs.ragas.io/en/stable/howtos/integrations/_langgraph_agent_evaluation/)!"
      ]
    },
    {
      "cell_type": "markdown",
      "metadata": {
        "id": "Q8Ms4ngAZQv1"
      },
      "source": [
        "## Installing Ragas and Other Dependencies\n",
        "Install Ragas and Langgraph with pip."
      ]
    },
    {
      "cell_type": "markdown",
      "metadata": {
        "id": "K7iNPhN9_opo"
      },
      "source": [
        "### metals.dev API Key\n",
        "\n",
        "Sign up for an account on [metals.dev](https://metals.dev/) to get your API key."
      ]
    },
    {
      "cell_type": "code",
      "execution_count": 1,
      "metadata": {
        "colab": {
          "base_uri": "https://localhost:8080/"
        },
        "id": "lB5bVnoV7rz-",
        "outputId": "e06d119b-fc01-466f-864c-f63bc1c299b2"
      },
      "outputs": [],
      "source": [
        "import os\n",
        "import getpass\n",
        "\n",
        "os.environ[\"METAL_API_KEY\"] = getpass.getpass(\"Enter your API key: \")"
      ]
    },
    {
      "cell_type": "markdown",
      "metadata": {
        "id": "wOK8wAl8_zsq"
      },
      "source": [
        "### OpenAI API Key"
      ]
    },
    {
      "cell_type": "code",
      "execution_count": 2,
      "metadata": {
        "colab": {
          "base_uri": "https://localhost:8080/"
        },
        "id": "nGYb7M0x7y2g",
        "outputId": "59b66cbb-d559-4c91-bbf5-542bbe49f31e"
      },
      "outputs": [],
      "source": [
        "os.environ[\"OPENAI_API_KEY\"] = getpass.getpass(\"Enter your OpenAI API key: \")"
      ]
    },
    {
      "cell_type": "markdown",
      "metadata": {
        "id": "eJJ-WKWMZQv2"
      },
      "source": [
        "## Building the ReAct Agent"
      ]
    },
    {
      "cell_type": "markdown",
      "metadata": {
        "id": "2SduQYJbZQv3"
      },
      "source": [
        "### Define the get_metal_price Tool\n",
        "\n",
        "The get_metal_price tool will be used by the agent to fetch the price of a specified metal. We'll create this tool using the @tool decorator from LangChain."
      ]
    },
    {
      "cell_type": "code",
      "execution_count": 3,
      "metadata": {
        "id": "1X2TsFLfZQv3"
      },
      "outputs": [],
      "source": [
        "from langchain_core.tools import tool\n",
        "import requests\n",
        "from requests.structures import CaseInsensitiveDict\n",
        "import os\n",
        "\n",
        "\n",
        "# Define the tools for the agent to use\n",
        "@tool\n",
        "def get_metal_price(metal_name: str) -> float:\n",
        "    \"\"\"Fetches the current per gram price of the specified metal.\n",
        "\n",
        "    Args:\n",
        "        metal_name : The name of the metal (e.g., 'gold', 'silver', 'platinum').\n",
        "\n",
        "    Returns:\n",
        "        float: The current price of the metal in dollars per gram.\n",
        "\n",
        "    Raises:\n",
        "        KeyError: If the specified metal is not found in the data source.\n",
        "    \"\"\"\n",
        "    try:\n",
        "        metal_name = metal_name.lower().strip()\n",
        "        url = f\"https://api.metals.dev/v1/latest?api_key={os.environ['METAL_API_KEY']}&currency=USD&unit=toz\"\n",
        "        headers = CaseInsensitiveDict()\n",
        "        headers[\"Accept\"] = \"application/json\"\n",
        "        resp = requests.get(url, headers=headers)\n",
        "        print(resp)\n",
        "        metal_price = resp.json()[\"metals\"]\n",
        "        if metal_name not in metal_price:\n",
        "            raise KeyError(\n",
        "                f\"Metal '{metal_name}' not found. Available metals: {', '.join(metal_price['metals'].keys())}\"\n",
        "            )\n",
        "        return metal_price[metal_name]\n",
        "    except Exception as e:\n",
        "        raise Exception(f\"Error fetching metal price: {str(e)}\")"
      ]
    },
    {
      "cell_type": "markdown",
      "metadata": {
        "id": "j85XikcLZQv4"
      },
      "source": [
        "### Binding the Tool to the LLM\n",
        "With the get_metal_price tool defined, the next step is to bind it to the ChatOpenAI model. This enables the agent to invoke the tool during its execution based on the user's requests allowing it to interact with external data and perform actions beyond its native capabilities."
      ]
    },
    {
      "cell_type": "code",
      "execution_count": 4,
      "metadata": {
        "id": "lsxVT0lUZQv4"
      },
      "outputs": [],
      "source": [
        "from langchain_openai import ChatOpenAI\n",
        "\n",
        "tools = [get_metal_price]\n",
        "llm = ChatOpenAI(model=\"gpt-4o-mini\")\n",
        "llm_with_tools = llm.bind_tools(tools)"
      ]
    },
    {
      "cell_type": "markdown",
      "metadata": {
        "id": "yuDuSrmQZQv4"
      },
      "source": [
        "In LangGraph, state plays a crucial role in tracking and updating information as the graph executes. As different parts of the graph run, the state evolves to reflect the changes and contains information that is passed between nodes.\n",
        "\n",
        "For example, in a conversational system like this one, the state is used to track the exchanged messages. Each time a new message is generated, it is added to the state and the updated state is passed through the nodes, ensuring the conversation progresses logically.\n",
        "\n",
        "### Defining the State\n",
        "To implement this in LangGraph, we define a state class that maintains a list of messages. Whenever a new message is produced it gets appended to this list, ensuring that the conversation history is continuously updated."
      ]
    },
    {
      "cell_type": "code",
      "execution_count": 5,
      "metadata": {
        "id": "JHHXxYT1ZQv4"
      },
      "outputs": [],
      "source": [
        "from langgraph.graph import END\n",
        "from langchain_core.messages import AnyMessage\n",
        "from langgraph.graph.message import add_messages\n",
        "from typing import Annotated\n",
        "from typing_extensions import TypedDict\n",
        "\n",
        "\n",
        "class GraphState(TypedDict):\n",
        "    messages: Annotated[list[AnyMessage], add_messages]"
      ]
    },
    {
      "cell_type": "markdown",
      "metadata": {
        "id": "1KGbjrAOZQv4"
      },
      "source": [
        "### Defining the should_continue Function\n",
        "The `should_continue` function determines whether the conversation should proceed with further tool interactions or end. Specifically, it checks if the last message contains any tool calls (e.g., a request for metal prices).\n",
        "\n",
        "- If the last message includes tool calls, indicating that the agent has invoked an external tool, the conversation continues and moves to the \"tools\" node.\n",
        "- If there are no tool calls, the conversation ends, represented by the END state."
      ]
    },
    {
      "cell_type": "code",
      "execution_count": 6,
      "metadata": {
        "id": "KjppKPRDZQv4"
      },
      "outputs": [],
      "source": [
        "# Define the function that determines whether to continue or not\n",
        "def should_continue(state: GraphState):\n",
        "    messages = state[\"messages\"]\n",
        "    last_message = messages[-1]\n",
        "    if last_message.tool_calls:\n",
        "        return \"tools\"\n",
        "    return END"
      ]
    },
    {
      "cell_type": "markdown",
      "metadata": {
        "id": "ZbyJRNRvZQv4"
      },
      "source": [
        "### Calling the Model\n",
        "The `call_model` function interacts with the Language Model (LLM) to generate a response based on the current state of the conversation. It takes the updated state as input, processes it and returns a model-generated response."
      ]
    },
    {
      "cell_type": "code",
      "execution_count": 7,
      "metadata": {
        "id": "ZYflc7eZZQv4"
      },
      "outputs": [],
      "source": [
        "# Define the function that calls the model\n",
        "def call_model(state: GraphState):\n",
        "    messages = state[\"messages\"]\n",
        "    response = llm_with_tools.invoke(messages)\n",
        "    return {\"messages\": [response]}"
      ]
    },
    {
      "cell_type": "markdown",
      "metadata": {
        "id": "VzxIHVa2ZQv4"
      },
      "source": [
        "### Creating the Assistant Node\n",
        "The `assistant` node is a key component responsible for processing the current state of the conversation and using the Language Model (LLM) to generate a relevant response. It evaluates the state, determines the appropriate course of action, and invokes the LLM to produce a response that aligns with the ongoing dialogue."
      ]
    },
    {
      "cell_type": "code",
      "execution_count": 8,
      "metadata": {
        "id": "_fPD6W2SZQv4"
      },
      "outputs": [],
      "source": [
        "# Node\n",
        "def assistant(state: GraphState):\n",
        "    response = llm_with_tools.invoke(state[\"messages\"])\n",
        "    return {\"messages\": [response]}"
      ]
    },
    {
      "cell_type": "markdown",
      "metadata": {
        "id": "Vc3No3agZQv5"
      },
      "source": [
        "### Creating the Tool Node\n",
        "The `tool_node` is responsible for managing interactions with external tools, such as fetching metal prices or performing other actions beyond the LLM's native capabilities. The tools themselves are defined earlier in the code, and the tool_node invokes these tools based on the current state and the needs of the conversation."
      ]
    },
    {
      "cell_type": "code",
      "execution_count": 9,
      "metadata": {
        "id": "vz2qlceBZQv5"
      },
      "outputs": [],
      "source": [
        "from langgraph.prebuilt import ToolNode\n",
        "\n",
        "# Node\n",
        "tools = [get_metal_price]\n",
        "tool_node = ToolNode(tools)"
      ]
    },
    {
      "cell_type": "markdown",
      "metadata": {
        "id": "M2FWZfGFZQv5"
      },
      "source": [
        "### Building the Graph\n",
        "The graph structure is the backbone of the agentic workflow, consisting of interconnected nodes and edges. To construct this graph, we use the StateGraph builder which allows us to define and connect various nodes. Each node represents a step in the process (e.g., the assistant node, tool node) and the edges dictate the flow of execution between these steps."
      ]
    },
    {
      "cell_type": "code",
      "execution_count": 10,
      "metadata": {
        "colab": {
          "base_uri": "https://localhost:8080/",
          "height": 266
        },
        "id": "FeGI8G3KZQv5",
        "outputId": "31692c4e-f5c8-477c-cdba-84a1cfd1ad81"
      },
      "outputs": [],
      "source": [
        "from langgraph.graph import START, StateGraph\n",
        "from IPython.display import Image, display\n",
        "\n",
        "# Define a new graph for the agent\n",
        "builder = StateGraph(GraphState)\n",
        "\n",
        "# Define the two nodes we will cycle between\n",
        "builder.add_node(\"assistant\", assistant)\n",
        "builder.add_node(\"tools\", tool_node)\n",
        "\n",
        "# Set the entrypoint as `agent`\n",
        "builder.add_edge(START, \"assistant\")\n",
        "\n",
        "# Making a conditional edge\n",
        "# should_continue will determine which node is called next.\n",
        "builder.add_conditional_edges(\"assistant\", should_continue, [\"tools\", END])\n",
        "\n",
        "# Making a normal edge from `tools` to `agent`.\n",
        "# The `agent` node will be called after the `tool`.\n",
        "builder.add_edge(\"tools\", \"assistant\")\n",
        "\n",
        "# Compile and display the graph for a visual overview\n",
        "react_graph = builder.compile()"
      ]
    },
    {
      "cell_type": "code",
      "execution_count": 11,
      "metadata": {},
      "outputs": [
        {
          "data": {
            "image/png": "[encoded data removed]",
            "text/plain": [
              "<langgraph.graph.state.CompiledStateGraph object at 0x722bbfb6c980>"
            ]
          },
          "execution_count": 11,
          "metadata": {},
          "output_type": "execute_result"
        }
      ],
      "source": [
        "react_graph"
      ]
    },
    {
      "cell_type": "markdown",
      "metadata": {
        "id": "wlNB4fI4ZQv5"
      },
      "source": [
        "To test our setup, we will run the agent with a query. The agent will fetch the price of copper using the metals.dev API."
      ]
    },
    {
      "cell_type": "code",
      "execution_count": 12,
      "metadata": {
        "colab": {
          "base_uri": "https://localhost:8080/"
        },
        "id": "rzt0I-n2ZQv5",
        "outputId": "b4a32beb-1717-462e-9b42-cc698dc5216c"
      },
      "outputs": [
        {
          "name": "stdout",
          "output_type": "stream",
          "text": [
            "<Response [200]>\n"
          ]
        }
      ],
      "source": [
        "from langchain_core.messages import HumanMessage\n",
        "\n",
        "messages = [HumanMessage(content=\"What is the price of copper?\")]\n",
        "result = react_graph.invoke({\"messages\": messages})"
      ]
    },
    {
      "cell_type": "code",
      "execution_count": 13,
      "metadata": {
        "colab": {
          "base_uri": "https://localhost:8080/"
        },
        "id": "esoHsop8ZQv5",
        "outputId": "2889a5e0-7f82-4d19-8319-112ed655c484"
      },
      "outputs": [
        {
          "data": {
            "text/plain": [
              "[HumanMessage(content='What is the price of copper?', additional_kwargs={}, response_metadata={}, id='4c74356e-d119-45f0-b258-15109cb92a7f'),\n",
              " AIMessage(content='', additional_kwargs={'tool_calls': [{'id': 'call_W9lP5PLJ7SQSgtd7crSitPRW', 'function': {'arguments': '{\"metal_name\":\"copper\"}', 'name': 'get_metal_price'}, 'type': 'function'}], 'refusal': None}, response_metadata={'token_usage': {'completion_tokens': 18, 'prompt_tokens': 116, 'total_tokens': 134, 'completion_tokens_details': {'accepted_prediction_tokens': 0, 'audio_tokens': 0, 'reasoning_tokens': 0, 'rejected_prediction_tokens': 0}, 'prompt_tokens_details': {'audio_tokens': 0, 'cached_tokens': 0}}, 'model_name': 'gpt-4o-mini-2024-07-18', 'system_fingerprint': 'fp_560af6e559', 'id': 'chatcmpl-CMHGgeewQyjjvA0vwuJA0uGgnzRRl', 'service_tier': 'default', 'finish_reason': 'tool_calls', 'logprobs': None}, id='run--c93ee87b-5b4e-45b9-add4-83ea8ebddfb7-0', tool_calls=[{'name': 'get_metal_price', 'args': {'metal_name': 'copper'}, 'id': 'call_W9lP5PLJ7SQSgtd7crSitPRW', 'type': 'tool_call'}], usage_metadata={'input_tokens': 116, 'output_tokens': 18, 'total_tokens': 134, 'input_token_details': {'audio': 0, 'cache_read': 0}, 'output_token_details': {'audio': 0, 'reasoning': 0}}),\n",
              " ToolMessage(content='0.3409', name='get_metal_price', id='6a9adf50-fc46-42df-943a-69447156a5f6', tool_call_id='call_W9lP5PLJ7SQSgtd7crSitPRW'),\n",
              " AIMessage(content='The current price of copper is $0.3409 per gram.', additional_kwargs={'refusal': None}, response_metadata={'token_usage': {'completion_tokens': 15, 'prompt_tokens': 148, 'total_tokens': 163, 'completion_tokens_details': {'accepted_prediction_tokens': 0, 'audio_tokens': 0, 'reasoning_tokens': 0, 'rejected_prediction_tokens': 0}, 'prompt_tokens_details': {'audio_tokens': 0, 'cached_tokens': 0}}, 'model_name': 'gpt-4o-mini-2024-07-18', 'system_fingerprint': 'fp_560af6e559', 'id': 'chatcmpl-CMHGjnkJcB3gtjYvfNvyG9tf8c5FS', 'service_tier': 'default', 'finish_reason': 'stop', 'logprobs': None}, id='run--7d236160-5f28-4330-8766-3661ed19077d-0', usage_metadata={'input_tokens': 148, 'output_tokens': 15, 'total_tokens': 163, 'input_token_details': {'audio': 0, 'cache_read': 0}, 'output_token_details': {'audio': 0, 'reasoning': 0}})]"
            ]
          },
          "execution_count": 13,
          "metadata": {},
          "output_type": "execute_result"
        }
      ],
      "source": [
        "result[\"messages\"]"
      ]
    },
    {
      "cell_type": "markdown",
      "metadata": {
        "id": "wsK_VEDSZQv6"
      },
      "source": [
        "### Converting Messages to Ragas Evaluation Format\n",
        "\n",
        "In the current implementation, the GraphState stores messages exchanged between the human user, the AI (LLM's responses), and any external tools (APIs or services the AI uses) in a list. Each message is an object in LangChain's format\n",
        "\n",
        "```python\n",
        "# Implementation of Graph State\n",
        "class GraphState(TypedDict):\n",
        "    messages: Annotated[list[AnyMessage], add_messages]\n",
        "```\n",
        "\n",
        "Each time a message is exchanged during agent execution, it gets added to the messages list in the GraphState. However, Ragas requires a specific message format for evaluating interactions.\n",
        "\n",
        "Ragas uses its own format to evaluate agent interactions. So, if you're using LangGraph, you will need to convert the LangChain message objects into Ragas message objects. This allows you to evaluate your AI agents with Ragas’ built-in evaluation tools.\n",
        "\n",
        "**Goal:**  Convert the list of LangChain messages (e.g., HumanMessage, AIMessage, and ToolMessage) into the format expected by Ragas, so the evaluation framework can understand and process them properly."
      ]
    },
    {
      "cell_type": "markdown",
      "metadata": {
        "id": "edpIDCgi6hkx"
      },
      "source": [
        "To convert a list of LangChain messages into a format suitable for Ragas evaluation, Ragas provides the function [convert_to_ragas_messages][ragas.integrations.langgraph.convert_to_ragas_messages], which can be used to transform LangChain messages into the format expected by Ragas.\n",
        "\n",
        "Here's how you can use the function:"
      ]
    },
    {
      "cell_type": "code",
      "execution_count": 14,
      "metadata": {
        "id": "oGX9bx286hkx"
      },
      "outputs": [
        {
          "name": "stderr",
          "output_type": "stream",
          "text": [
            "/home/chris/Code/AI Makerspace/Classes/AIE8 Staging/08_Evaluating_RAG_With_Ragas/.venv/lib/python3.13/site-packages/pysbd/segmenter.py:66: SyntaxWarning: invalid escape sequence '\\s'\n",
            "  for match in re.finditer('{0}\\s*'.format(re.escape(sent)), self.original_text):\n",
            "/home/chris/Code/AI Makerspace/Classes/AIE8 Staging/08_Evaluating_RAG_With_Ragas/.venv/lib/python3.13/site-packages/pysbd/lang/arabic.py:29: SyntaxWarning: invalid escape sequence '\\.'\n",
            "  txt = re.sub('(?<={0})\\.'.format(am), '∯', txt)\n",
            "/home/chris/Code/AI Makerspace/Classes/AIE8 Staging/08_Evaluating_RAG_With_Ragas/.venv/lib/python3.13/site-packages/pysbd/lang/persian.py:29: SyntaxWarning: invalid escape sequence '\\.'\n",
            "  txt = re.sub('(?<={0})\\.'.format(am), '∯', txt)\n"
          ]
        }
      ],
      "source": [
        "from ragas.integrations.langgraph import convert_to_ragas_messages\n",
        "\n",
        "# Assuming 'result[\"messages\"]' contains the list of LangChain messages\n",
        "ragas_trace = convert_to_ragas_messages(result[\"messages\"])"
      ]
    },
    {
      "cell_type": "code",
      "execution_count": 15,
      "metadata": {
        "colab": {
          "base_uri": "https://localhost:8080/"
        },
        "id": "Udcg7kCH6hkx",
        "outputId": "ac21080d-76de-4043-8604-40930aacac20"
      },
      "outputs": [
        {
          "data": {
            "text/plain": [
              "[HumanMessage(content='What is the price of copper?', metadata=None, type='human'),\n",
              " AIMessage(content='', metadata=None, type='ai', tool_calls=[ToolCall(name='get_metal_price', args={'metal_name': 'copper'})]),\n",
              " ToolMessage(content='0.3409', metadata=None, type='tool'),\n",
              " AIMessage(content='The current price of copper is $0.3409 per gram.', metadata=None, type='ai', tool_calls=[])]"
            ]
          },
          "execution_count": 15,
          "metadata": {},
          "output_type": "execute_result"
        }
      ],
      "source": [
        "ragas_trace  # List of Ragas messages"
      ]
    },
    {
      "cell_type": "markdown",
      "metadata": {},
      "source": [
        "#### ❓ Question: \n",
        "\n",
        "Describe in your own words what a \"trace\" is."
      ]
    },
    {
      "cell_type": "markdown",
      "metadata": {
        "id": "n5mbTp5aZQv6"
      },
      "source": [
        "## Evaluating the Agent's Performance"
      ]
    },
    {
      "cell_type": "markdown",
      "metadata": {
        "id": "H885v5sxZQv6"
      },
      "source": [
        "For this tutorial, let us evaluate the Agent with the following metrics:\n",
        "\n",
        "- [Tool call Accuracy](https://docs.ragas.io/en/stable/concepts/metrics/available_metrics/agents/#tool-call-accuracy):ToolCallAccuracy is a metric that can be used to evaluate the performance of the LLM in identifying and calling the required tools to complete a given task.  \n",
        "\n",
        "- [Agent Goal accuracy](https://docs.ragas.io/en/stable/concepts/metrics/available_metrics/agents/#agent-goal-accuracy): Agent goal accuracy is a metric that can be used to evaluate the performance of the LLM in identifying and achieving the goals of the user. This is a binary metric, with 1 indicating that the AI has achieved the goal and 0 indicating that the AI has not achieved the goal.\n",
        "- [Topic Adherence](https://docs.ragas.io/en/stable/concepts/metrics/available_metrics/agents/): Topic adherence is a metric that can be used to ensure the Agent system is staying \"on-topic\", meaning that it's not straying from the intended use case. You can think of this as a kinda of faithfulness, where the responses of the LLM should stay faithful to the topic provided.\n",
        "\n",
        "\n",
        "First, let us actually run our Agent with a couple of queries, and make sure we have the ground truth labels for these queries."
      ]
    },
    {
      "cell_type": "markdown",
      "metadata": {},
      "source": [
        "#### ❓ Question: \n",
        "\n",
        "Describe *how* each of the above metrics are calculated. This will require you to read the documentation for each metric."
      ]
    },
    {
      "cell_type": "markdown",
      "metadata": {
        "id": "7kRRIyTAZQv6"
      },
      "source": [
        "### Tool Call Accuracy"
      ]
    },
    {
      "cell_type": "code",
      "execution_count": 16,
      "metadata": {
        "colab": {
          "base_uri": "https://localhost:8080/"
        },
        "id": "CC973Yq1ZQv6",
        "outputId": "8d18667e-a32c-4649-a9c9-49c734177b55"
      },
      "outputs": [
        {
          "data": {
            "text/plain": [
              "1.0"
            ]
          },
          "execution_count": 16,
          "metadata": {},
          "output_type": "execute_result"
        }
      ],
      "source": [
        "from ragas.metrics import ToolCallAccuracy\n",
        "from ragas.dataset_schema import MultiTurnSample\n",
        "from ragas.integrations.langgraph import convert_to_ragas_messages\n",
        "import ragas.messages as r\n",
        "\n",
        "\n",
        "ragas_trace = convert_to_ragas_messages(\n",
        "    messages=result[\"messages\"]\n",
        ")  # List of Ragas messages converted using the Ragas function\n",
        "\n",
        "sample = MultiTurnSample(\n",
        "    user_input=ragas_trace,\n",
        "    reference_tool_calls=[\n",
        "        r.ToolCall(name=\"get_metal_price\", args={\"metal_name\": \"copper\"})\n",
        "    ],\n",
        ")\n",
        "\n",
        "tool_accuracy_scorer = ToolCallAccuracy()\n",
        "tool_accuracy_scorer.llm = ChatOpenAI(model=\"gpt-4o-mini\")\n",
        "await tool_accuracy_scorer.multi_turn_ascore(sample)"
      ]
    },
    {
      "cell_type": "markdown",
      "metadata": {
        "id": "S14jlVw06hkx"
      },
      "source": [
        "Tool Call Accuracy: 1, because the LLM correctly identified and used the necessary tool (get_metal_price) with the correct parameters (i.e., metal name as \"copper\")."
      ]
    },
    {
      "cell_type": "markdown",
      "metadata": {
        "id": "rGOL1CBsZQv6"
      },
      "source": [
        "### Agent Goal Accuracy"
      ]
    },
    {
      "cell_type": "code",
      "execution_count": 17,
      "metadata": {
        "colab": {
          "base_uri": "https://localhost:8080/"
        },
        "id": "FA0kMvTfZQwB",
        "outputId": "1e2e4979-ef59-4af4-b395-b4bc846a16ee"
      },
      "outputs": [
        {
          "name": "stdout",
          "output_type": "stream",
          "text": [
            "<Response [200]>\n"
          ]
        }
      ],
      "source": [
        "messages = [HumanMessage(content=\"What is the price of 10 grams of silver?\")]\n",
        "\n",
        "result = react_graph.invoke({\"messages\": messages})"
      ]
    },
    {
      "cell_type": "code",
      "execution_count": 18,
      "metadata": {
        "colab": {
          "base_uri": "https://localhost:8080/"
        },
        "id": "YJr4Hxn8ZQwB",
        "outputId": "0282a461-d379-40c4-b186-fe4242bad882"
      },
      "outputs": [
        {
          "data": {
            "text/plain": [
              "[HumanMessage(content='What is the price of 10 grams of silver?', additional_kwargs={}, response_metadata={}, id='02ccd2f2-1067-4919-8c01-78509621b604'),\n",
              " AIMessage(content='', additional_kwargs={'tool_calls': [{'id': 'call_q0Zm7HkZbYzx94hHvvTc5Lol', 'function': {'arguments': '{\"metal_name\":\"silver\"}', 'name': 'get_metal_price'}, 'type': 'function'}], 'refusal': None}, response_metadata={'token_usage': {'completion_tokens': 17, 'prompt_tokens': 120, 'total_tokens': 137, 'completion_tokens_details': {'accepted_prediction_tokens': 0, 'audio_tokens': 0, 'reasoning_tokens': 0, 'rejected_prediction_tokens': 0}, 'prompt_tokens_details': {'audio_tokens': 0, 'cached_tokens': 0}}, 'model_name': 'gpt-4o-mini-2024-07-18', 'system_fingerprint': 'fp_560af6e559', 'id': 'chatcmpl-CMHGp5LEWC9799kEwt6rqGNmHZ2R8', 'service_tier': 'default', 'finish_reason': 'tool_calls', 'logprobs': None}, id='run--1e2c301b-dd37-4b1c-8bd0-f0067617fb47-0', tool_calls=[{'name': 'get_metal_price', 'args': {'metal_name': 'silver'}, 'id': 'call_q0Zm7HkZbYzx94hHvvTc5Lol', 'type': 'tool_call'}], usage_metadata={'input_tokens': 120, 'output_tokens': 17, 'total_tokens': 137, 'input_token_details': {'audio': 0, 'cache_read': 0}, 'output_token_details': {'audio': 0, 'reasoning': 0}}),\n",
              " ToolMessage(content='46.5025', name='get_metal_price', id='c367042f-be67-4f10-a6dd-8f3d18a07942', tool_call_id='call_q0Zm7HkZbYzx94hHvvTc5Lol'),\n",
              " AIMessage(content='The current price of silver is approximately $46.50 per gram. Therefore, 10 grams of silver would cost about $465.25.', additional_kwargs={'refusal': None}, response_metadata={'token_usage': {'completion_tokens': 30, 'prompt_tokens': 151, 'total_tokens': 181, 'completion_tokens_details': {'accepted_prediction_tokens': 0, 'audio_tokens': 0, 'reasoning_tokens': 0, 'rejected_prediction_tokens': 0}, 'prompt_tokens_details': {'audio_tokens': 0, 'cached_tokens': 0}}, 'model_name': 'gpt-4o-mini-2024-07-18', 'system_fingerprint': 'fp_560af6e559', 'id': 'chatcmpl-CMHGrfOMHMf5RxYO6W1PcZw57urhW', 'service_tier': 'default', 'finish_reason': 'stop', 'logprobs': None}, id='run--939791c0-ca9a-4245-9dc1-26d779e30ee4-0', usage_metadata={'input_tokens': 151, 'output_tokens': 30, 'total_tokens': 181, 'input_token_details': {'audio': 0, 'cache_read': 0}, 'output_token_details': {'audio': 0, 'reasoning': 0}})]"
            ]
          },
          "execution_count": 18,
          "metadata": {},
          "output_type": "execute_result"
        }
      ],
      "source": [
        "result[\"messages\"]  # List of Langchain messages"
      ]
    },
    {
      "cell_type": "code",
      "execution_count": 19,
      "metadata": {
        "colab": {
          "base_uri": "https://localhost:8080/"
        },
        "id": "StDNqR2vZQwB",
        "outputId": "a92e93c6-ece8-4f72-a92d-d1e512175899"
      },
      "outputs": [
        {
          "data": {
            "text/plain": [
              "[HumanMessage(content='What is the price of 10 grams of silver?', metadata=None, type='human'),\n",
              " AIMessage(content='', metadata=None, type='ai', tool_calls=[ToolCall(name='get_metal_price', args={'metal_name': 'silver'})]),\n",
              " ToolMessage(content='46.5025', metadata=None, type='tool'),\n",
              " AIMessage(content='The current price of silver is approximately $46.50 per gram. Therefore, 10 grams of silver would cost about $465.25.', metadata=None, type='ai', tool_calls=[])]"
            ]
          },
          "execution_count": 19,
          "metadata": {},
          "output_type": "execute_result"
        }
      ],
      "source": [
        "from ragas.integrations.langgraph import convert_to_ragas_messages\n",
        "\n",
        "ragas_trace = convert_to_ragas_messages(\n",
        "    result[\"messages\"]\n",
        ")  # List of Ragas messages converted using the Ragas function\n",
        "ragas_trace"
      ]
    },
    {
      "cell_type": "code",
      "execution_count": 20,
      "metadata": {
        "colab": {
          "base_uri": "https://localhost:8080/"
        },
        "id": "c6u9-RYdZQwB",
        "outputId": "76ffcaa7-676b-46f9-e931-dddfabee16c3"
      },
      "outputs": [
        {
          "data": {
            "text/plain": [
              "1.0"
            ]
          },
          "execution_count": 20,
          "metadata": {},
          "output_type": "execute_result"
        }
      ],
      "source": [
        "from ragas.dataset_schema import MultiTurnSample\n",
        "from ragas.metrics import AgentGoalAccuracyWithReference\n",
        "from ragas.llms import LangchainLLMWrapper\n",
        "\n",
        "\n",
        "sample = MultiTurnSample(\n",
        "    user_input=ragas_trace,\n",
        "    reference=\"Price of 10 grams of silver\",\n",
        ")\n",
        "\n",
        "scorer = AgentGoalAccuracyWithReference()\n",
        "\n",
        "evaluator_llm = LangchainLLMWrapper(ChatOpenAI(model=\"gpt-4o-mini\"))\n",
        "scorer.llm = evaluator_llm\n",
        "await scorer.multi_turn_ascore(sample)"
      ]
    },
    {
      "cell_type": "markdown",
      "metadata": {
        "id": "K71VkA7o6hk0"
      },
      "source": [
        "Agent Goal Accuracy: 1, because the LLM correctly achieved the user’s goal of retrieving the price of 10 grams of silver."
      ]
    },
    {
      "cell_type": "markdown",
      "metadata": {
        "id": "N0fKvUqpDQVK"
      },
      "source": [
        "### Topic Adherence\n",
        "\n"
      ]
    },
    {
      "cell_type": "code",
      "execution_count": 21,
      "metadata": {
        "id": "4ouIaXBNDZgc"
      },
      "outputs": [],
      "source": [
        "messages = [HumanMessage(content=\"How fast can an eagle fly?\")]\n",
        "\n",
        "result = react_graph.invoke({\"messages\": messages})"
      ]
    },
    {
      "cell_type": "code",
      "execution_count": 22,
      "metadata": {
        "colab": {
          "base_uri": "https://localhost:8080/"
        },
        "id": "OBRGGNb4DyBa",
        "outputId": "b1de5ece-c17d-4ea1-bdfb-ba90da3ae343"
      },
      "outputs": [
        {
          "data": {
            "text/plain": [
              "[HumanMessage(content='How fast can an eagle fly?', additional_kwargs={}, response_metadata={}, id='0ba5ef12-2d49-4d63-aac5-4aafa5c6f5f2'),\n",
              " AIMessage(content=\"Eagles can fly at varying speeds depending on the species and the circumstances. Generally, eagles can reach speeds of:\\n\\n- **Level flight:** Around 30-50 miles per hour (48-80 kilometers per hour).\\n- **Diving:** When diving to catch prey, eagles can reach speeds of over 100 miles per hour (160 kilometers per hour). \\n\\nThe exact speed can vary among different species of eagles, such as the Bald Eagle or the Golden Eagle, as well as the individual's health, age, and flying conditions.\", additional_kwargs={'refusal': None}, response_metadata={'token_usage': {'completion_tokens': 111, 'prompt_tokens': 116, 'total_tokens': 227, 'completion_tokens_details': {'accepted_prediction_tokens': 0, 'audio_tokens': 0, 'reasoning_tokens': 0, 'rejected_prediction_tokens': 0}, 'prompt_tokens_details': {'audio_tokens': 0, 'cached_tokens': 0}}, 'model_name': 'gpt-4o-mini-2024-07-18', 'system_fingerprint': 'fp_560af6e559', 'id': 'chatcmpl-CMHGzCRjEjAxhsUO9A9jyvKzhK0GN', 'service_tier': 'default', 'finish_reason': 'stop', 'logprobs': None}, id='run--7bdb3a15-9b8d-4bee-b0ba-4a1d214202a3-0', usage_metadata={'input_tokens': 116, 'output_tokens': 111, 'total_tokens': 227, 'input_token_details': {'audio': 0, 'cache_read': 0}, 'output_token_details': {'audio': 0, 'reasoning': 0}})]"
            ]
          },
          "execution_count": 22,
          "metadata": {},
          "output_type": "execute_result"
        }
      ],
      "source": [
        "result[\"messages\"]"
      ]
    },
    {
      "cell_type": "code",
      "execution_count": 23,
      "metadata": {
        "colab": {
          "base_uri": "https://localhost:8080/"
        },
        "id": "f3i7NIgjD8ec",
        "outputId": "4aaa7855-2108-48d4-a872-9428b0981572"
      },
      "outputs": [
        {
          "data": {
            "text/plain": [
              "[HumanMessage(content='How fast can an eagle fly?', metadata=None, type='human'),\n",
              " AIMessage(content=\"Eagles can fly at varying speeds depending on the species and the circumstances. Generally, eagles can reach speeds of:\\n\\n- **Level flight:** Around 30-50 miles per hour (48-80 kilometers per hour).\\n- **Diving:** When diving to catch prey, eagles can reach speeds of over 100 miles per hour (160 kilometers per hour). \\n\\nThe exact speed can vary among different species of eagles, such as the Bald Eagle or the Golden Eagle, as well as the individual's health, age, and flying conditions.\", metadata=None, type='ai', tool_calls=[])]"
            ]
          },
          "execution_count": 23,
          "metadata": {},
          "output_type": "execute_result"
        }
      ],
      "source": [
        "from ragas.integrations.langgraph import convert_to_ragas_messages\n",
        "\n",
        "ragas_trace = convert_to_ragas_messages(\n",
        "    result[\"messages\"]\n",
        ")  # List of Ragas messages converted using the Ragas function\n",
        "ragas_trace"
      ]
    },
    {
      "cell_type": "code",
      "execution_count": 24,
      "metadata": {
        "colab": {
          "base_uri": "https://localhost:8080/"
        },
        "id": "iLTMVPaMDzal",
        "outputId": "44fb96b3-0628-4c65-e87c-4e0a5a795047"
      },
      "outputs": [
        {
          "data": {
            "text/plain": [
              "np.float64(0.0)"
            ]
          },
          "execution_count": 24,
          "metadata": {},
          "output_type": "execute_result"
        }
      ],
      "source": [
        "from ragas.metrics import TopicAdherenceScore\n",
        "\n",
        "sample = MultiTurnSample(\n",
        "    user_input=ragas_trace,\n",
        "    reference_topics = [\"metals\"]\n",
        ")\n",
        "\n",
        "evaluator_llm = LangchainLLMWrapper(ChatOpenAI(model=\"gpt-4o-mini\"))\n",
        "scorer = TopicAdherenceScore(llm = evaluator_llm, mode=\"precision\")\n",
        "await scorer.multi_turn_ascore(sample)"
      ]
    },
    {
      "cell_type": "markdown",
      "metadata": {
        "id": "Ac2I2MZJEcK5"
      },
      "source": [
        "As we can see, the current implementation fails due to talking about birds, when it should be talking about metal!"
      ]
    }
  ],
  "metadata": {
    "colab": {
      "provenance": []
    },
    "kernelspec": {
      "display_name": ".venv",
      "language": "python",
      "name": "python3"
    },
    "language_info": {
      "codemirror_mode": {
        "name": "ipython",
        "version": 3
      },
      "file_extension": ".py",
      "mimetype": "text/x-python",
      "name": "python",
      "nbconvert_exporter": "python",
      "pygments_lexer": "ipython3",
      "version": "3.13.4"
    }
  },
  "nbformat": 4,
  "nbformat_minor": 0
}
