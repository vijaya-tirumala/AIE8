{
  "cells": [
    {
      "cell_type": "markdown",
      "metadata": {
        "id": "gJXW_DgiSebM"
      },
      "source": [
        "# LangGraph and LangSmith - Agentic RAG Powered by LangChain\n",
        "\n",
        "In the following notebook we'll complete the following tasks:\n",
        "\n",
        "- 🤝 Breakout Room #1:\n",
        "  1. Install required libraries\n",
        "  2. Set Environment Variables\n",
        "  3. Creating our Tool Belt\n",
        "  4. Creating Our State\n",
        "  5. Creating and Compiling A Graph!\n",
        "\n",
        "- 🤝 Breakout Room #2:\n",
        "  1. Evaluating the LangGraph Application with LangSmith\n",
        "  2. Adding Helpfulness Check and \"Loop\" Limits\n",
        "  3. LangGraph for the \"Patterns\" of GenAI"
      ]
    },
    {
      "cell_type": "markdown",
      "metadata": {
        "id": "djQ3nRAgoF67"
      },
      "source": [
        "# 🤝 Breakout Room #1"
      ]
    },
    {
      "cell_type": "markdown",
      "metadata": {
        "id": "e7pQDUhUnIo8"
      },
      "source": [
        "## Part 1: LangGraph - Building Cyclic Applications with LangChain\n",
        "\n",
        "LangGraph is a tool that leverages LangChain Expression Language to build coordinated multi-actor and stateful applications that includes cyclic behaviour.\n",
        "\n",
        "### Why Cycles?\n",
        "\n",
        "In essence, we can think of a cycle in our graph as a more robust and customizable loop. It allows us to keep our application agent-forward while still giving the powerful functionality of traditional loops.\n",
        "\n",
        "Due to the inclusion of cycles over loops, we can also compose rather complex flows through our graph in a much more readable and natural fashion. Effectively allowing us to recreate application flowcharts in code in an almost 1-to-1 fashion.\n",
        "\n",
        "### Why LangGraph?\n",
        "\n",
        "Beyond the agent-forward approach - we can easily compose and combine traditional \"DAG\" (directed acyclic graph) chains with powerful cyclic behaviour due to the tight integration with LCEL. This means it's a natural extension to LangChain's core offerings!"
      ]
    },
    {
      "cell_type": "markdown",
      "metadata": {
        "id": "3_fLDElOVoop"
      },
      "source": [
        "## Task 1:  Dependencies\n"
      ]
    },
    {
      "cell_type": "markdown",
      "metadata": {
        "id": "wujPjGJuoPwg"
      },
      "source": [
        "## Task 2: Environment Variables\n",
        "\n",
        "We'll want to set our OpenAI, Tavily, and LangSmith API keys along with our LangSmith environment variables."
      ]
    },
    {
      "cell_type": "code",
      "execution_count": 1,
      "metadata": {
        "colab": {
          "base_uri": "https://localhost:8080/"
        },
        "id": "Jdh8CoVWHRvs",
        "outputId": "3fa78560-393c-4ee5-b871-9886bf0d70f4"
      },
      "outputs": [],
      "source": [
        "import os\n",
        "import getpass\n",
        "\n",
        "os.environ[\"OPENAI_API_KEY\"] = getpass.getpass(\"OpenAI API Key:\")"
      ]
    },
    {
      "cell_type": "code",
      "execution_count": 2,
      "metadata": {
        "colab": {
          "base_uri": "https://localhost:8080/"
        },
        "id": "Jkla2fpx28QK",
        "outputId": "52d7ad22-fcb1-4abe-853b-216c55a12650"
      },
      "outputs": [],
      "source": [
        "os.environ[\"TAVILY_API_KEY\"] = getpass.getpass(\"TAVILY_API_KEY\")"
      ]
    },
    {
      "cell_type": "code",
      "execution_count": 3,
      "metadata": {
        "colab": {
          "base_uri": "https://localhost:8080/"
        },
        "id": "Nv0glIDyHmRt",
        "outputId": "b69df90a-b4e1-4ddb-9de0-882d98b68ab2"
      },
      "outputs": [],
      "source": [
        "from uuid import uuid4\n",
        "\n",
        "os.environ[\"LANGCHAIN_TRACING_V2\"] = \"true\"\n",
        "os.environ[\"LANGCHAIN_PROJECT\"] = f\"AIE8 - LangGraph - {uuid4().hex[0:8]}\"\n",
        "os.environ[\"LANGCHAIN_API_KEY\"] = getpass.getpass(\"LangSmith API Key: \")"
      ]
    },
    {
      "cell_type": "markdown",
      "metadata": {
        "id": "sBRyQmEAVzua"
      },
      "source": [
        "## Task 3: Creating our Tool Belt\n",
        "\n",
        "As is usually the case, we'll want to equip our agent with a toolbelt to help answer questions and add external knowledge.\n",
        "\n",
        "There's a tonne of tools in the [LangChain Community Repo](https://github.com/langchain-ai/langchain-community/tree/main/libs/community) but we'll stick to a couple just so we can observe the cyclic nature of LangGraph in action!\n",
        "\n",
        "We'll leverage:\n",
        "\n",
        "- [Tavily Search Results](https://github.com/langchain-ai/langchain-community/blob/main/libs/community/langchain_community/tools/tavily_search/tool.py)\n",
        "- [Arxiv](https://github.com/langchain-ai/langchain-community/blob/main/libs/community/langchain_community/tools/arxiv/tool.py)"
      ]
    },
    {
      "cell_type": "markdown",
      "metadata": {
        "id": "2k6n_Dob2F46"
      },
      "source": [
        "#### 🏗️ Activity #1:\n",
        "\n",
        "Please add the tools to use into our toolbelt.\n",
        "\n",
        "> NOTE: Each tool in our toolbelt should be a method."
      ]
    },
    {
      "cell_type": "code",
      "execution_count": 4,
      "metadata": {
        "id": "lAxaSvlfIeOg"
      },
      "outputs": [
        {
          "name": "stderr",
          "output_type": "stream",
          "text": [
            "/var/folders/tk/bgf_wkp116b2ywt2295ppgv80000gn/T/ipykernel_2907/1203815797.py:4: LangChainDeprecationWarning: The class `TavilySearchResults` was deprecated in LangChain 0.3.25 and will be removed in 1.0. An updated version of the class exists in the :class:`~langchain-tavily package and should be used instead. To use it run `pip install -U :class:`~langchain-tavily` and import as `from :class:`~langchain_tavily import TavilySearch``.\n",
            "  tavily_tool = TavilySearchResults(max_results=5)\n"
          ]
        }
      ],
      "source": [
        "from langchain_community.tools.tavily_search import TavilySearchResults\n",
        "from langchain_community.tools.arxiv.tool import ArxivQueryRun\n",
        "\n",
        "tavily_tool = TavilySearchResults(max_results=5)\n",
        "\n",
        "tool_belt = [\n",
        "    tavily_tool,\n",
        "    ArxivQueryRun(),\n",
        "]"
      ]
    },
    {
      "cell_type": "markdown",
      "metadata": {
        "id": "VI-C669ZYVI5"
      },
      "source": [
        "### Model\n",
        "\n",
        "Now we can set-up our model! We'll leverage the familiar OpenAI model suite for this example - but it's not *necessary* to use with LangGraph. LangGraph supports all models - though you might not find success with smaller models - as such, they recommend you stick with:\n",
        "\n",
        "- OpenAI's GPT-3.5 and GPT-4\n",
        "- Anthropic's Claude\n",
        "- Google's Gemini\n",
        "\n",
        "> NOTE: Because we're leveraging the OpenAI function calling API - we'll need to use OpenAI *for this specific example* (or any other service that exposes an OpenAI-style function calling API."
      ]
    },
    {
      "cell_type": "code",
      "execution_count": 5,
      "metadata": {
        "id": "QkNS8rNZJs4z"
      },
      "outputs": [],
      "source": [
        "from langchain_openai import ChatOpenAI\n",
        "\n",
        "model = ChatOpenAI(model=\"gpt-4.1-nano\", temperature=0)"
      ]
    },
    {
      "cell_type": "markdown",
      "metadata": {
        "id": "Ugkj3GzuZpQv"
      },
      "source": [
        "Now that we have our model set-up, let's \"put on the tool belt\", which is to say: We'll bind our LangChain formatted tools to the model in an OpenAI function calling format."
      ]
    },
    {
      "cell_type": "code",
      "execution_count": 6,
      "metadata": {
        "id": "4OdMqFafZ_0V"
      },
      "outputs": [],
      "source": [
        "model = model.bind_tools(tool_belt)"
      ]
    },
    {
      "cell_type": "markdown",
      "metadata": {
        "id": "ERzuGo6W18Lr"
      },
      "source": [
        "#### ❓ Question #1:\n",
        "\n",
        "How does the model determine which tool to use?"
      ]
    },
    {
      "cell_type": "markdown",
      "metadata": {},
      "source": [
        "##### ✅ Answer:\n",
        "The model uses OpenAI's function calling API to decide which tools to use based on the user's query. The tool_belt is attached to the model gpt-4.1-nano using bind_tools in the above example. It analyzes the the user input to udnerstand what information is needed then it determines decide whether to use search query or not."
      ]
    },
    {
      "cell_type": "markdown",
      "metadata": {
        "id": "_296Ub96Z_H8"
      },
      "source": [
        "## Task 4: Putting the State in Stateful\n",
        "\n",
        "Earlier we used this phrasing:\n",
        "\n",
        "`coordinated multi-actor and stateful applications`\n",
        "\n",
        "So what does that \"stateful\" mean?\n",
        "\n",
        "To put it simply - we want to have some kind of object which we can pass around our application that holds information about what the current situation (state) is. Since our system will be constructed of many parts moving in a coordinated fashion - we want to be able to ensure we have some commonly understood idea of that state.\n",
        "\n",
        "LangGraph leverages a `StatefulGraph` which uses an `AgentState` object to pass information between the various nodes of the graph.\n",
        "\n",
        "There are more options than what we'll see below - but this `AgentState` object is one that is stored in a `TypedDict` with the key `messages` and the value is a `Sequence` of `BaseMessages` that will be appended to whenever the state changes.\n",
        "\n",
        "Let's think about a simple example to help understand exactly what this means (we'll simplify a great deal to try and clearly communicate what state is doing):\n",
        "\n",
        "1. We initialize our state object:\n",
        "  - `{\"messages\" : []}`\n",
        "2. Our user submits a query to our application.\n",
        "  - New State: `HumanMessage(#1)`\n",
        "  - `{\"messages\" : [HumanMessage(#1)}`\n",
        "3. We pass our state object to an Agent node which is able to read the current state. It will use the last `HumanMessage` as input. It gets some kind of output which it will add to the state.\n",
        "  - New State: `AgentMessage(#1, additional_kwargs {\"function_call\" : \"WebSearchTool\"})`\n",
        "  - `{\"messages\" : [HumanMessage(#1), AgentMessage(#1, ...)]}`\n",
        "4. We pass our state object to a \"conditional node\" (more on this later) which reads the last state to determine if we need to use a tool - which it can determine properly because of our provided object!"
      ]
    },
    {
      "cell_type": "code",
      "execution_count": 7,
      "metadata": {
        "id": "mxL9b_NZKUdL"
      },
      "outputs": [],
      "source": [
        "from typing import TypedDict, Annotated\n",
        "from langgraph.graph.message import add_messages\n",
        "import operator\n",
        "from langchain_core.messages import BaseMessage\n",
        "\n",
        "class AgentState(TypedDict):\n",
        "  messages: Annotated[list, add_messages]"
      ]
    },
    {
      "cell_type": "markdown",
      "metadata": {
        "id": "vWsMhfO9grLu"
      },
      "source": [
        "## Task 5: It's Graphing Time!\n",
        "\n",
        "Now that we have state, and we have tools, and we have an LLM - we can finally start making our graph!\n",
        "\n",
        "Let's take a second to refresh ourselves about what a graph is in this context.\n",
        "\n",
        "Graphs, also called networks in some circles, are a collection of connected objects.\n",
        "\n",
        "The objects in question are typically called nodes, or vertices, and the connections are called edges.\n",
        "\n",
        "Let's look at a simple graph.\n",
        "\n",
        "![image](https://i.imgur.com/2NFLnIc.png)\n",
        "\n",
        "Here, we're using the coloured circles to represent the nodes and the yellow lines to represent the edges. In this case, we're looking at a fully connected graph - where each node is connected by an edge to each other node.\n",
        "\n",
        "If we were to think about nodes in the context of LangGraph - we would think of a function, or an LCEL runnable.\n",
        "\n",
        "If we were to think about edges in the context of LangGraph - we might think of them as \"paths to take\" or \"where to pass our state object next\".\n",
        "\n",
        "Let's create some nodes and expand on our diagram.\n",
        "\n",
        "> NOTE: Due to the tight integration with LCEL - we can comfortably create our nodes in an async fashion!"
      ]
    },
    {
      "cell_type": "code",
      "execution_count": 8,
      "metadata": {
        "id": "91flJWtZLUrl"
      },
      "outputs": [],
      "source": [
        "from langgraph.prebuilt import ToolNode\n",
        "\n",
        "def call_model(state):\n",
        "  messages = state[\"messages\"]\n",
        "  response = model.invoke(messages)\n",
        "  return {\"messages\" : [response]}\n",
        "\n",
        "tool_node = ToolNode(tool_belt)"
      ]
    },
    {
      "cell_type": "markdown",
      "metadata": {
        "id": "2bwR7MgWj3Wg"
      },
      "source": [
        "Now we have two total nodes. We have:\n",
        "\n",
        "- `call_model` is a node that will...well...call the model\n",
        "- `tool_node` is a node which can call a tool\n",
        "\n",
        "Let's start adding nodes! We'll update our diagram along the way to keep track of what this looks like!\n"
      ]
    },
    {
      "cell_type": "code",
      "execution_count": 9,
      "metadata": {
        "colab": {
          "base_uri": "https://localhost:8080/"
        },
        "id": "_vF4_lgtmQNo",
        "outputId": "a4384377-8f7a-415f-be1b-fee6169cb101"
      },
      "outputs": [
        {
          "data": {
            "text/plain": [
              "<langgraph.graph.state.StateGraph at 0x10ecd27b0>"
            ]
          },
          "execution_count": 9,
          "metadata": {},
          "output_type": "execute_result"
        }
      ],
      "source": [
        "from langgraph.graph import StateGraph, END\n",
        "\n",
        "uncompiled_graph = StateGraph(AgentState)\n",
        "\n",
        "uncompiled_graph.add_node(\"agent\", call_model)\n",
        "uncompiled_graph.add_node(\"action\", tool_node)"
      ]
    },
    {
      "cell_type": "markdown",
      "metadata": {
        "id": "b8CjRlbVmRpW"
      },
      "source": [
        "Let's look at what we have so far:\n",
        "\n",
        "![image](https://i.imgur.com/md7inqG.png)"
      ]
    },
    {
      "cell_type": "markdown",
      "metadata": {
        "id": "uaXHpPeSnOWC"
      },
      "source": [
        "Next, we'll add our entrypoint. All our entrypoint does is indicate which node is called first."
      ]
    },
    {
      "cell_type": "code",
      "execution_count": 10,
      "metadata": {
        "colab": {
          "base_uri": "https://localhost:8080/"
        },
        "id": "YGCbaYqRnmiw",
        "outputId": "5351807c-2ac7-4316-a3a3-878abeacd114"
      },
      "outputs": [
        {
          "data": {
            "text/plain": [
              "<langgraph.graph.state.StateGraph at 0x10ecd27b0>"
            ]
          },
          "execution_count": 10,
          "metadata": {},
          "output_type": "execute_result"
        }
      ],
      "source": [
        "uncompiled_graph.set_entry_point(\"agent\")"
      ]
    },
    {
      "cell_type": "markdown",
      "metadata": {
        "id": "BUsfGoSpoF9U"
      },
      "source": [
        "![image](https://i.imgur.com/wNixpJe.png)"
      ]
    },
    {
      "cell_type": "markdown",
      "metadata": {
        "id": "0Q_pQgHmoW0M"
      },
      "source": [
        "Now we want to build a \"conditional edge\" which will use the output state of a node to determine which path to follow.\n",
        "\n",
        "We can help conceptualize this by thinking of our conditional edge as a conditional in a flowchart!\n",
        "\n",
        "Notice how our function simply checks if there is a \"function_call\" kwarg present.\n",
        "\n",
        "Then we create an edge where the origin node is our agent node and our destination node is *either* the action node or the END (finish the graph).\n",
        "\n",
        "It's important to highlight that the dictionary passed in as the third parameter (the mapping) should be created with the possible outputs of our conditional function in mind. In this case `should_continue` outputs either `\"end\"` or `\"continue\"` which are subsequently mapped to the action node or the END node."
      ]
    },
    {
      "cell_type": "code",
      "execution_count": 11,
      "metadata": {
        "colab": {
          "base_uri": "https://localhost:8080/"
        },
        "id": "1BZgb81VQf9o",
        "outputId": "73a07c15-5f0b-40f2-b033-38b57d056dd8"
      },
      "outputs": [
        {
          "data": {
            "text/plain": [
              "<langgraph.graph.state.StateGraph at 0x10ecd27b0>"
            ]
          },
          "execution_count": 11,
          "metadata": {},
          "output_type": "execute_result"
        }
      ],
      "source": [
        "def should_continue(state):\n",
        "  last_message = state[\"messages\"][-1]\n",
        "\n",
        "  if last_message.tool_calls:\n",
        "    return \"action\"\n",
        "\n",
        "  return END\n",
        "\n",
        "uncompiled_graph.add_conditional_edges(\n",
        "    \"agent\",\n",
        "    should_continue\n",
        ")"
      ]
    },
    {
      "cell_type": "markdown",
      "metadata": {
        "id": "-Cvhcf4jp0Ce"
      },
      "source": [
        "Let's visualize what this looks like.\n",
        "\n",
        "![image](https://i.imgur.com/8ZNwKI5.png)"
      ]
    },
    {
      "cell_type": "markdown",
      "metadata": {
        "id": "yKCjWJCkrJb9"
      },
      "source": [
        "Finally, we can add our last edge which will connect our action node to our agent node. This is because we *always* want our action node (which is used to call our tools) to return its output to our agent!"
      ]
    },
    {
      "cell_type": "code",
      "execution_count": 12,
      "metadata": {
        "colab": {
          "base_uri": "https://localhost:8080/"
        },
        "id": "UvcgbHf1rIXZ",
        "outputId": "45d4bdd6-d6bb-4a1d-bb79-cad43c130bf2"
      },
      "outputs": [
        {
          "data": {
            "text/plain": [
              "<langgraph.graph.state.StateGraph at 0x10ecd27b0>"
            ]
          },
          "execution_count": 12,
          "metadata": {},
          "output_type": "execute_result"
        }
      ],
      "source": [
        "uncompiled_graph.add_edge(\"action\", \"agent\")"
      ]
    },
    {
      "cell_type": "markdown",
      "metadata": {
        "id": "EiWDwBQtrw7Z"
      },
      "source": [
        "Let's look at the final visualization.\n",
        "\n",
        "![image](https://i.imgur.com/NWO7usO.png)"
      ]
    },
    {
      "cell_type": "markdown",
      "metadata": {
        "id": "KYqDpErlsCsu"
      },
      "source": [
        "All that's left to do now is to compile our workflow - and we're off!"
      ]
    },
    {
      "cell_type": "code",
      "execution_count": 13,
      "metadata": {
        "id": "zt9-KS8DpzNx"
      },
      "outputs": [],
      "source": [
        "simple_agent_graph = uncompiled_graph.compile()"
      ]
    },
    {
      "cell_type": "markdown",
      "metadata": {
        "id": "xhNWIwBL1W4Q"
      },
      "source": [
        "#### ❓ Question #2:\n",
        "\n",
        "Is there any specific limit to how many times we can cycle?\n",
        "\n",
        "If not, how could we impose a limit to the number of cycles?"
      ]
    },
    {
      "cell_type": "markdown",
      "metadata": {},
      "source": [
        "##### ✅ Answer:\n",
        "\n",
        " There is no specific limit howmany times we can cycle. However, for a better user experience and optimal token use and cost we can create limit on messages ( for ex: top k, 10 messages in this notebook), can also include time out limit if answer is not retrieved in 30/60 sec, howmany times a tool can be called in a certain time window and also howmany times the cycle can repeat before it ends (final state) to avoid infinite loop"
      ]
    },
    {
      "cell_type": "markdown",
      "metadata": {
        "id": "VEYcTShCsPaa"
      },
      "source": [
        "## Using Our Graph\n",
        "\n",
        "Now that we've created and compiled our graph - we can call it *just as we'd call any other* `Runnable`!\n",
        "\n",
        "Let's try out a few examples to see how it fairs:"
      ]
    },
    {
      "cell_type": "code",
      "execution_count": 14,
      "metadata": {
        "colab": {
          "base_uri": "https://localhost:8080/"
        },
        "id": "Qn4n37PQRPII",
        "outputId": "5eeedfae-089d-496e-e71f-071939fa5832"
      },
      "outputs": [
        {
          "name": "stdout",
          "output_type": "stream",
          "text": [
            "Receiving update from node: 'agent'\n",
            "[AIMessage(content='Technical professionals are using AI in various ways to enhance their work, including automating repetitive tasks, improving data analysis, developing smarter algorithms, enhancing cybersecurity, and creating innovative products. Would you like me to provide specific examples or recent trends in AI applications across different technical fields?', additional_kwargs={'refusal': None}, response_metadata={'token_usage': {'completion_tokens': 55, 'prompt_tokens': 163, 'total_tokens': 218, 'completion_tokens_details': {'accepted_prediction_tokens': 0, 'audio_tokens': 0, 'reasoning_tokens': 0, 'rejected_prediction_tokens': 0}, 'prompt_tokens_details': {'audio_tokens': 0, 'cached_tokens': 0}}, 'model_name': 'gpt-4.1-nano-2025-04-14', 'system_fingerprint': 'fp_7c233bf9d1', 'id': 'chatcmpl-CKtUzpA1Is8cfY15vbPFQAo4Uojy8', 'service_tier': 'default', 'finish_reason': 'stop', 'logprobs': None}, id='run--2232fd9f-afd6-487a-b8cb-c5ae3c997d70-0', usage_metadata={'input_tokens': 163, 'output_tokens': 55, 'total_tokens': 218, 'input_token_details': {'audio': 0, 'cache_read': 0}, 'output_token_details': {'audio': 0, 'reasoning': 0}})]\n",
            "\n",
            "\n",
            "\n"
          ]
        }
      ],
      "source": [
        "from langchain_core.messages import HumanMessage\n",
        "\n",
        "inputs = {\"messages\" : [HumanMessage(content=\"How are technical professionals using AI to improve their work?\")]}\n",
        "\n",
        "async for chunk in simple_agent_graph.astream(inputs, stream_mode=\"updates\"):\n",
        "    for node, values in chunk.items():\n",
        "        print(f\"Receiving update from node: '{node}'\")\n",
        "        print(values[\"messages\"])\n",
        "        print(\"\\n\\n\")"
      ]
    },
    {
      "cell_type": "markdown",
      "metadata": {
        "id": "DBHnUtLSscRr"
      },
      "source": [
        "Let's look at what happened:\n",
        "\n",
        "1. Our state object was populated with our request\n",
        "2. The state object was passed into our entry point (agent node) and the agent node added an `AIMessage` to the state object and passed it along the conditional edge\n",
        "3. The conditional edge received the state object, found the \"tool_calls\" `additional_kwarg`, and sent the state object to the action node\n",
        "4. The action node added the response from the OpenAI function calling endpoint to the state object and passed it along the edge to the agent node\n",
        "5. The agent node added a response to the state object and passed it along the conditional edge\n",
        "6. The conditional edge received the state object, could not find the \"tool_calls\" `additional_kwarg` and passed the state object to END where we see it output in the cell above!\n",
        "\n",
        "Now let's look at an example that shows a multiple tool usage - all with the same flow!"
      ]
    },
    {
      "cell_type": "code",
      "execution_count": 15,
      "metadata": {
        "colab": {
          "base_uri": "https://localhost:8080/"
        },
        "id": "afv2BuEsV5JG",
        "outputId": "ff009536-d281-4a56-c126-9cd245352bfe"
      },
      "outputs": [
        {
          "name": "stdout",
          "output_type": "stream",
          "text": [
            "Receiving update from node: 'agent'\n",
            "[AIMessage(content='', additional_kwargs={'tool_calls': [{'id': 'call_1G9nErbgpkHYcfzNCxjWMINP', 'function': {'arguments': '{\"query\": \"A Comprehensive Survey of Deep Research\"}', 'name': 'arxiv'}, 'type': 'function'}, {'id': 'call_UOCX8bO851frBkkZwDLeJ0TK', 'function': {'arguments': '{\"query\": \"author of A Comprehensive Survey of Deep Research\"}', 'name': 'tavily_search_results_json'}, 'type': 'function'}], 'refusal': None}, response_metadata={'token_usage': {'completion_tokens': 60, 'prompt_tokens': 182, 'total_tokens': 242, 'completion_tokens_details': {'accepted_prediction_tokens': 0, 'audio_tokens': 0, 'reasoning_tokens': 0, 'rejected_prediction_tokens': 0}, 'prompt_tokens_details': {'audio_tokens': 0, 'cached_tokens': 0}}, 'model_name': 'gpt-4.1-nano-2025-04-14', 'system_fingerprint': 'fp_7c233bf9d1', 'id': 'chatcmpl-CKtX0N20Q35FxOijmVW8HsmTsDjri', 'service_tier': 'default', 'finish_reason': 'tool_calls', 'logprobs': None}, id='run--6a6b158b-9198-4f89-a38a-5526f7137526-0', tool_calls=[{'name': 'arxiv', 'args': {'query': 'A Comprehensive Survey of Deep Research'}, 'id': 'call_1G9nErbgpkHYcfzNCxjWMINP', 'type': 'tool_call'}, {'name': 'tavily_search_results_json', 'args': {'query': 'author of A Comprehensive Survey of Deep Research'}, 'id': 'call_UOCX8bO851frBkkZwDLeJ0TK', 'type': 'tool_call'}], usage_metadata={'input_tokens': 182, 'output_tokens': 60, 'total_tokens': 242, 'input_token_details': {'audio': 0, 'cache_read': 0}, 'output_token_details': {'audio': 0, 'reasoning': 0}})]\n",
            "\n",
            "\n",
            "\n",
            "Receiving update from node: 'action'\n",
            "Tool Used: arxiv\n",
            "[ToolMessage(content='Published: 2025-06-14\\nTitle: A Comprehensive Survey of Deep Research: Systems, Methodologies, and Applications\\nAuthors: Renjun Xu, Jingwen Peng\\nSummary: This survey examines the rapidly evolving field of Deep Research systems --\\nAI-powered applications that automate complex research workflows through the\\nintegration of large language models, advanced information retrieval, and\\nautonomous reasoning capabilities. We analyze more than 80 commercial and\\nnon-commercial implementations that have emerged since 2023, including\\nOpenAI/Deep Research, Gemini/Deep Research, Perplexity/Deep Research, and\\nnumerous open-source alternatives. Through comprehensive examination, we\\npropose a novel hierarchical taxonomy that categorizes systems according to\\nfour fundamental technical dimensions: foundation models and reasoning engines,\\ntool utilization and environmental interaction, task planning and execution\\ncontrol, and knowledge synthesis and output generation. We explore the\\narchitectural patterns, implementation approaches, and domain-specific\\nadaptations that characterize these systems across academic, scientific,\\nbusiness, and educational applications. Our analysis reveals both the\\nsignificant capabilities of current implementations and the technical and\\nethical challenges they present regarding information accuracy, privacy,\\nintellectual property, and accessibility. The survey concludes by identifying\\npromising research directions in advanced reasoning architectures, multimodal\\nintegration, domain specialization, human-AI collaboration, and ecosystem\\nstandardization that will likely shape the future evolution of this\\ntransformative technology. By providing a comprehensive framework for\\nunderstanding Deep Research systems, this survey contributes to both the\\ntheoretical understanding of AI-augmented knowledge work and the practical\\ndevelopment of more capable, responsible, and accessible research technologies.\\nThe paper resources can be viewed at\\nhttps://github.com/scienceaix/deepresearch.\\n\\nPublished: 2021-03-05\\nTitle: A comprehensive survey on point cloud registration\\nAuthors: Xiaoshui Huang, Guofeng Mei, Jian Zhang, Rana Abbas\\nSummary: Registration is a transformation estimation problem between two point clouds,\\nwhich has a unique and critical role in numerous computer vision applications.\\nThe developments of optimization-based methods and deep learning methods have\\nimproved registration robustness and efficiency. Recently, the combinations of\\noptimization-based and deep learning methods have further improved performance.\\nHowever, the connections between optimization-based and deep learning methods\\nare still unclear. Moreover, with the recent development of 3D sensors and 3D\\nreconstruction techniques, a new research direction emerges to align\\ncross-source point clouds. This survey conducts a comprehensive survey,\\nincluding both same-source and cross-source registration methods, and summarize\\nthe connections between optimization-based and deep learning methods, to\\nprovide further research insight. This survey also builds a new benchmark to\\nevaluate the state-of-the-art registration algorithms in solving cross-source\\nchallenges. Besides, this survey summarizes the benchmark data sets and\\ndiscusses point cloud registration applications across various domains.\\nFinally, this survey proposes potential research directions in this rapidly\\ngrowing field.\\n\\nPublished: 2023-07-07\\nTitle: A Survey of Deep Learning in Sports Applications: Perception, Comprehension, and Decision\\nAuthors: Zhonghan Zhao, Wenhao Chai, Shengyu Hao, Wenhao Hu, Guanhong Wang, Shidong Cao, Mingli Song, Jenq-Neng Hwang, Gaoang Wang\\nSummary: Deep learning has the potential to revolutionize sports performance, with\\napplications ranging from perception and comprehension to decision. This paper\\npresents a comprehensive survey of deep learning in sports performance,\\nfocusing on three main aspects: algorithms, datasets and virtual environments,\\nand challenges. Firstly, we discuss th', name='arxiv', id='d71af6fa-4d1e-4d9d-a191-ab81dd25af02', tool_call_id='call_1G9nErbgpkHYcfzNCxjWMINP'), ToolMessage(content='[{\"title\": \"[2506.12594] A Comprehensive Survey of Deep Research\", \"url\": \"https://arxiv.org/abs/2506.12594\", \"content\": \"We gratefully acknowledge support from the Simons Foundation, member institutions, and all contributors. Donate\\\\n\\\\n> cs > arXiv:2506.12594\\\\n\\\\n# Computer Science > Artificial Intelligence\\\\n\\\\narXiv:2506.12594 (cs)\\\\n\\\\n[Submitted on 14 Jun 2025]\\\\n\\\\n# Title:A Comprehensive Survey of Deep Research: Systems, Methodologies, and Applications\\\\n\\\\nAuthors:Renjun Xu, Jingwen Peng [...] View a PDF of the paper titled A Comprehensive Survey of Deep Research: Systems, Methodologies, and Applications, by Renjun Xu and 1 other authors [...] View a PDF of the paper titled A Comprehensive Survey of Deep Research: Systems, Methodologies, and Applications, by Renjun Xu and 1 other authors\\\\n\\\\n View PDF\\\\n HTML (experimental)\\\\n TeX Source\\\\n Other Formats\\\\n\\\\nview license\\\\n\\\\nCurrent browse context:\\\\n\\\\ncs.AI\\\\n\\\\n< prev\\\\\")    |    next >\\\\\")\\\\n\\\\nnew  |  recent  | 2025-06\\\\n\\\\nChange to browse by:\\\\n\\\\ncs cs.MA\\\\n\\\\n### References & Citations\\\\n\\\\n NASA ADS\\\\n Google Scholar\\\\n Semantic Scholar\\\\n\\\\na export BibTeX citation Loading...\\\\n\\\\n## BibTeX formatted citation\\\\n\\\\n×\", \"score\": 0.90227455}, {\"title\": \"A Comprehensive Survey of Deep Research\", \"url\": \"https://www.threads.com/@sung.kim.mw/post/DK_1pTrxMs8/a-comprehensive-survey-of-deep-research-systems-methodologies-and-applicationsth\", \"content\": \"# Thread\\\\n\\\\n922 views\\\\n\\\\nsung.kim.mw\\\\n\\\\nA Comprehensive Survey of Deep Research: Systems, Methodologies, and ApplicationsThey analyzed more than 80 commercial and non-commercial implementations that have emerged since 2023, including OpenAI/Deep Research, Gemini/Deep Research, Perplexity/Deep Research, and numerous open-source alternatives.Based on that analysis, they wrote this 95-page survey.\\\\n\\\\n16\\\\n\\\\n1\\\\n\\\\n5\\\\n\\\\nsung.kim.mw\\\\n\\\\n·Author [...] Paper: arxiv.org/abs/2…\\\\nRepo: Awesome Deep Research Projects\\\\n( github.com/scien… )\\\\n\\\\ngithub.com\\\\n\\\\nGitHub - scienceaix/deepresearch: Awesome Deep Research list\\\\n\\\\n7\\\\n\\\\n1\\\\n\\\\nRelated threads\\\\n\\\\nsheknowssports\\\\\\\\_\\\\n\\\\nBlackThreads\\\\n\\\\nSaturday pop out 😜🥰\\\\n\\\\n27\\\\n\\\\n2\\\\n\\\\nginmalfashion\\\\n\\\\nNEW | \\\\n\\\\n@libbyybennett\\\\n\\\\n for #bottegaveneta SS26\\\\n\\\\nSorry, we\\'re having trouble playing this video.\\\\n\\\\nLearn more\\\\n\\\\n3\\\\n\\\\nburattinopizzatoronto [...] You need to try 120 pepperoni with hot honey!🍯 🍕👌foodasmr, #crunchyfood, #satisfyingvideos #mukbang\\\\n#pizzatoronto #bestfoodtoronto\\\\n#todotoronto #asmr #pizzalovers #pizza #foodtoronto #pizzagourmet\\\\n#torontofoodie #pizzagram #foodie #asmrcrunch #120pepperoni #crunchy\\\\n\\\\n15\\\\n\\\\n2\\\\n\\\\nwristbanger\\\\n\\\\ni got perceived and wanna throw up\\\\n\\\\n2\\\\n\\\\n“War ravaged Portland”\\\\n\\\\n2\\\\n\\\\n5\\\\n\\\\nLog in or sign up for ThreadsSee what people are talking about and join the conversation.\\\\n\\\\nContinue with Instagram\", \"score\": 0.7646988}, {\"title\": \"A Comprehensive Survey of Deep Learning Approaches in ...\", \"url\": \"https://www.mdpi.com/1424-8220/25/2/531\", \"content\": \"Elias Dritsas\\\\n\\\\nElias Dritsas\\\\n\\\\nSciProfiles  Scilit  Preprints.org  Google Scholar\\\\n\\\\n \\\\\\\\\\\\n\\\\nIndustrial Systems Institute (ISI), Athena Research and Innovation Center, 26504 Patras, Greece\\\\n\\\\n\\\\\\\\\\\\n\\\\nAuthor to whom correspondence should be addressed.\\\\n\\\\nSensors 2025, 25(2), 531; \\\\n\\\\nSubmission received: 20 December 2024 / Revised: 13 January 2025 / Accepted: 13 January 2025 / Published: 17 January 2025 [...] Visit our dedicated information section to learn more about MDPI.\\\\n\\\\n Get Information\\\\n\\\\nclear\\\\n\\\\n## JSmol Viewer\\\\n\\\\nclear\\\\n\\\\nfirst\\\\\\\\_page\\\\n\\\\n Download PDF \\\\n\\\\nsettings\\\\n\\\\n Order Article Reprints\\\\n\\\\nFont Type:\\\\n\\\\nArial Georgia Verdana\\\\n\\\\nFont Size:\\\\n\\\\nAa Aa Aa\\\\n\\\\nLine Spacing:\\\\n\\\\n\\uf034   \\uf034   \\uf034\\\\n\\\\nColumn Width:\\\\n\\\\n\\uf035   \\uf035   \\uf035\\\\n\\\\nBackground:\\\\n\\\\nOpen AccessReview\\\\n\\\\n# A Comprehensive Survey of Deep Learning Approaches in Image Processing\\\\n\\\\nby \\\\n\\\\nMaria Trigka\\\\n\\\\nMaria Trigka\\\\n\\\\nSciProfiles  Scilit  Preprints.org  Google Scholar\\\\n\\\\nand [...] The introduction of self-attention mechanisms, particularly through vision transformers (ViTs), has expanded the capabilities of DL models in image processing. Unlike traditional CNNs, which focus on local features through fixed convolutional filters, transformers model global dependencies within an image. This capability allows ViTs to capture long-range relationships that are crucial for understanding complex scenes, making them particularly effective in tasks that require holistic image\", \"score\": 0.65914243}, {\"title\": \"A Comprehensive Survey of Deep Research\", \"url\": \"https://arxiv.org/pdf/2506.12594?\", \"content\": \"2.4.3 Interactive Presentation Technology Development. Beyond static reports, interactive result exploration enhances insight discovery and utilization: 14 Xu et al. [...] Human-AI Collaboration and Standardization 72 9 Conclusion 76 9.1 Key Findings and Contributions 76 9.2 Limitations and Outlook 78 9.3 Broader Implications 79 9.4 Final Thoughts 80 References 81 4 Xu et al. [...] > (2023 - February 2025) Early prototypes and foundational approaches (February - March 2025) Commercial releases and competitive rivalry (March 2025 - Present) Multi-modal integration and diverse applications\\\\n> Google Gemini Deep Research\\\\n> Dec 2024\\\\n> OpenAI Deep Research\\\\n> Feb 2025\\\\n> Manus\\\\n> Mar 2025\\\\n> Perplexity Deep Research\\\\n> Feb 2025\\\\n> AutoGLM-Research\\\\n> Mar 2025\\\\n> QwenLM/ Qwen-Agent\\\\n> Apr 2024\\\\n> n8n\\\\n> 2023 mshumer/ OpenDeepResearcher\\\\n> Feb 2025\\\\n> nickscamara/ open-deep-research\", \"score\": 0.64047897}, {\"title\": \"A Comprehensive Survey of Deep Learning Applications in ...\", \"url\": \"https://papers.ssrn.com/sol3/papers.cfm?abstract_id=5005162\", \"content\": \"Keywords: Deep learning, Big Data Analytics, Convolutional neural networks, recurrent neural networks, Long short-term memory\\\\n\\\\nSuggested Citation:\\\\nSuggested Citation\\\\n\\\\nKhan, Ayaz H., A Comprehensive Survey of Deep Learning Applications in Big Data Analytics: Trends, Techniques, and Future Directions. Available at SSRN:  or \\\\n\\\\n### Ayaz H. Khan (Contact Author)\\\\n\\\\n#### affiliation not provided to SSRN ( email) )\\\\n\\\\nDownload This Paper\\\\n\\\\nOpen PDF in Browser\\\\n\\\\n### 0 Citations [...] Skip to main content\\\\n\\\\nDownload This Paper\\\\n\\\\nOpen PDF in Browser\\\\n\\\\nAdd Paper to My Library\\\\n\\\\nUsing these links will ensure access to this page indefinitely\\\\n\\\\nCopy URL\\\\n\\\\nCopy DOI\\\\n\\\\n# A Comprehensive Survey of Deep Learning Applications in Big Data Analytics: Trends, Techniques, and Future Directions\\\\n\\\\n27 Pages\\\\nPosted: 19 Nov 2024\\\\n\\\\nSee all articles by Ayaz H. Khan\\\\n\\\\n## Ayaz H. Khan\\\\n\\\\naffiliation not provided to SSRN\\\\n\\\\n### Abstract [...] 204\\\\n\\\\n  PAPERS\\\\n\\\\n  16,267\\\\n Probability & Statistics eJournal\\\\n\\\\n  Follow;)\\\\n\\\\n  #### Probability & Statistics eJournal\\\\n\\\\n  Subscribe to this fee journal for more curated articles on this topic\\\\n\\\\n  FOLLOWERS\\\\n\\\\n  43\\\\n\\\\n  PAPERS\\\\n\\\\n  4,602\\\\n Frontiers in Information Systems Research & Applications eJournal\\\\n\\\\n  Follow;)\\\\n\\\\n  #### Frontiers in Information Systems Research & Applications eJournal\\\\n\\\\n  Subscribe to this fee journal for more curated articles on this topic\\\\n\\\\n  FOLLOWERS\\\\n\\\\n  11\\\\n\\\\n  PAPERS\\\\n\\\\n  1,771\", \"score\": 0.638588}]', name='tavily_search_results_json', id='3657cf96-d404-461c-b47d-298fb8b46937', tool_call_id='call_UOCX8bO851frBkkZwDLeJ0TK', artifact={'query': 'author of A Comprehensive Survey of Deep Research', 'follow_up_questions': None, 'answer': None, 'images': [], 'results': [{'url': 'https://arxiv.org/abs/2506.12594', 'title': '[2506.12594] A Comprehensive Survey of Deep Research', 'content': 'We gratefully acknowledge support from the Simons Foundation, member institutions, and all contributors. Donate\\n\\n> cs > arXiv:2506.12594\\n\\n# Computer Science > Artificial Intelligence\\n\\narXiv:2506.12594 (cs)\\n\\n[Submitted on 14 Jun 2025]\\n\\n# Title:A Comprehensive Survey of Deep Research: Systems, Methodologies, and Applications\\n\\nAuthors:Renjun Xu, Jingwen Peng [...] View a PDF of the paper titled A Comprehensive Survey of Deep Research: Systems, Methodologies, and Applications, by Renjun Xu and 1 other authors [...] View a PDF of the paper titled A Comprehensive Survey of Deep Research: Systems, Methodologies, and Applications, by Renjun Xu and 1 other authors\\n\\n View PDF\\n HTML (experimental)\\n TeX Source\\n Other Formats\\n\\nview license\\n\\nCurrent browse context:\\n\\ncs.AI\\n\\n< prev\")    |    next >\")\\n\\nnew  |  recent  | 2025-06\\n\\nChange to browse by:\\n\\ncs cs.MA\\n\\n### References & Citations\\n\\n NASA ADS\\n Google Scholar\\n Semantic Scholar\\n\\na export BibTeX citation Loading...\\n\\n## BibTeX formatted citation\\n\\n×', 'score': 0.90227455, 'raw_content': None}, {'url': 'https://www.threads.com/@sung.kim.mw/post/DK_1pTrxMs8/a-comprehensive-survey-of-deep-research-systems-methodologies-and-applicationsth', 'title': 'A Comprehensive Survey of Deep Research', 'content': \"# Thread\\n\\n922 views\\n\\nsung.kim.mw\\n\\nA Comprehensive Survey of Deep Research: Systems, Methodologies, and ApplicationsThey analyzed more than 80 commercial and non-commercial implementations that have emerged since 2023, including OpenAI/Deep Research, Gemini/Deep Research, Perplexity/Deep Research, and numerous open-source alternatives.Based on that analysis, they wrote this 95-page survey.\\n\\n16\\n\\n1\\n\\n5\\n\\nsung.kim.mw\\n\\n·Author [...] Paper: arxiv.org/abs/2…\\nRepo: Awesome Deep Research Projects\\n( github.com/scien… )\\n\\ngithub.com\\n\\nGitHub - scienceaix/deepresearch: Awesome Deep Research list\\n\\n7\\n\\n1\\n\\nRelated threads\\n\\nsheknowssports\\\\_\\n\\nBlackThreads\\n\\nSaturday pop out 😜🥰\\n\\n27\\n\\n2\\n\\nginmalfashion\\n\\nNEW | \\n\\n@libbyybennett\\n\\n for #bottegaveneta SS26\\n\\nSorry, we're having trouble playing this video.\\n\\nLearn more\\n\\n3\\n\\nburattinopizzatoronto [...] You need to try 120 pepperoni with hot honey!🍯 🍕👌foodasmr, #crunchyfood, #satisfyingvideos #mukbang\\n#pizzatoronto #bestfoodtoronto\\n#todotoronto #asmr #pizzalovers #pizza #foodtoronto #pizzagourmet\\n#torontofoodie #pizzagram #foodie #asmrcrunch #120pepperoni #crunchy\\n\\n15\\n\\n2\\n\\nwristbanger\\n\\ni got perceived and wanna throw up\\n\\n2\\n\\n“War ravaged Portland”\\n\\n2\\n\\n5\\n\\nLog in or sign up for ThreadsSee what people are talking about and join the conversation.\\n\\nContinue with Instagram\", 'score': 0.7646988, 'raw_content': None}, {'url': 'https://www.mdpi.com/1424-8220/25/2/531', 'title': 'A Comprehensive Survey of Deep Learning Approaches in ...', 'content': 'Elias Dritsas\\n\\nElias Dritsas\\n\\nSciProfiles  Scilit  Preprints.org  Google Scholar\\n\\n \\\\\\n\\nIndustrial Systems Institute (ISI), Athena Research and Innovation Center, 26504 Patras, Greece\\n\\n\\\\\\n\\nAuthor to whom correspondence should be addressed.\\n\\nSensors 2025, 25(2), 531; \\n\\nSubmission received: 20 December 2024 / Revised: 13 January 2025 / Accepted: 13 January 2025 / Published: 17 January 2025 [...] Visit our dedicated information section to learn more about MDPI.\\n\\n Get Information\\n\\nclear\\n\\n## JSmol Viewer\\n\\nclear\\n\\nfirst\\\\_page\\n\\n Download PDF \\n\\nsettings\\n\\n Order Article Reprints\\n\\nFont Type:\\n\\nArial Georgia Verdana\\n\\nFont Size:\\n\\nAa Aa Aa\\n\\nLine Spacing:\\n\\n\\uf034   \\uf034   \\uf034\\n\\nColumn Width:\\n\\n\\uf035   \\uf035   \\uf035\\n\\nBackground:\\n\\nOpen AccessReview\\n\\n# A Comprehensive Survey of Deep Learning Approaches in Image Processing\\n\\nby \\n\\nMaria Trigka\\n\\nMaria Trigka\\n\\nSciProfiles  Scilit  Preprints.org  Google Scholar\\n\\nand [...] The introduction of self-attention mechanisms, particularly through vision transformers (ViTs), has expanded the capabilities of DL models in image processing. Unlike traditional CNNs, which focus on local features through fixed convolutional filters, transformers model global dependencies within an image. This capability allows ViTs to capture long-range relationships that are crucial for understanding complex scenes, making them particularly effective in tasks that require holistic image', 'score': 0.65914243, 'raw_content': None}, {'url': 'https://arxiv.org/pdf/2506.12594?', 'title': 'A Comprehensive Survey of Deep Research', 'content': '2.4.3 Interactive Presentation Technology Development. Beyond static reports, interactive result exploration enhances insight discovery and utilization: 14 Xu et al. [...] Human-AI Collaboration and Standardization 72 9 Conclusion 76 9.1 Key Findings and Contributions 76 9.2 Limitations and Outlook 78 9.3 Broader Implications 79 9.4 Final Thoughts 80 References 81 4 Xu et al. [...] > (2023 - February 2025) Early prototypes and foundational approaches (February - March 2025) Commercial releases and competitive rivalry (March 2025 - Present) Multi-modal integration and diverse applications\\n> Google Gemini Deep Research\\n> Dec 2024\\n> OpenAI Deep Research\\n> Feb 2025\\n> Manus\\n> Mar 2025\\n> Perplexity Deep Research\\n> Feb 2025\\n> AutoGLM-Research\\n> Mar 2025\\n> QwenLM/ Qwen-Agent\\n> Apr 2024\\n> n8n\\n> 2023 mshumer/ OpenDeepResearcher\\n> Feb 2025\\n> nickscamara/ open-deep-research', 'score': 0.64047897, 'raw_content': None}, {'url': 'https://papers.ssrn.com/sol3/papers.cfm?abstract_id=5005162', 'title': 'A Comprehensive Survey of Deep Learning Applications in ...', 'content': 'Keywords: Deep learning, Big Data Analytics, Convolutional neural networks, recurrent neural networks, Long short-term memory\\n\\nSuggested Citation:\\nSuggested Citation\\n\\nKhan, Ayaz H., A Comprehensive Survey of Deep Learning Applications in Big Data Analytics: Trends, Techniques, and Future Directions. Available at SSRN:  or \\n\\n### Ayaz H. Khan (Contact Author)\\n\\n#### affiliation not provided to SSRN ( email) )\\n\\nDownload This Paper\\n\\nOpen PDF in Browser\\n\\n### 0 Citations [...] Skip to main content\\n\\nDownload This Paper\\n\\nOpen PDF in Browser\\n\\nAdd Paper to My Library\\n\\nUsing these links will ensure access to this page indefinitely\\n\\nCopy URL\\n\\nCopy DOI\\n\\n# A Comprehensive Survey of Deep Learning Applications in Big Data Analytics: Trends, Techniques, and Future Directions\\n\\n27 Pages\\nPosted: 19 Nov 2024\\n\\nSee all articles by Ayaz H. Khan\\n\\n## Ayaz H. Khan\\n\\naffiliation not provided to SSRN\\n\\n### Abstract [...] 204\\n\\n  PAPERS\\n\\n  16,267\\n Probability & Statistics eJournal\\n\\n  Follow;)\\n\\n  #### Probability & Statistics eJournal\\n\\n  Subscribe to this fee journal for more curated articles on this topic\\n\\n  FOLLOWERS\\n\\n  43\\n\\n  PAPERS\\n\\n  4,602\\n Frontiers in Information Systems Research & Applications eJournal\\n\\n  Follow;)\\n\\n  #### Frontiers in Information Systems Research & Applications eJournal\\n\\n  Subscribe to this fee journal for more curated articles on this topic\\n\\n  FOLLOWERS\\n\\n  11\\n\\n  PAPERS\\n\\n  1,771', 'score': 0.638588, 'raw_content': None}], 'response_time': 2.4, 'request_id': '1c73cb59-3ac1-4633-8d4b-34627f3a6a33'})]\n",
            "\n",
            "\n",
            "\n",
            "Receiving update from node: 'agent'\n",
            "[AIMessage(content='I found the research paper titled \"A Comprehensive Survey of Deep Research: Systems, Methodologies, and Applications\" published on June 14, 2025, authored by Renjun Xu and Jingwen Peng. \\n\\nRegarding the authors\\' current affiliations, I will now search for each of them to find out where they work now.', additional_kwargs={'tool_calls': [{'id': 'call_E7Bg2M2LNjmzKy6SBYM061lD', 'function': {'arguments': '{\"query\": \"Renjun Xu\"}', 'name': 'tavily_search_results_json'}, 'type': 'function'}, {'id': 'call_93l8EtavMUHhbkjO406ws17H', 'function': {'arguments': '{\"query\": \"Jingwen Peng\"}', 'name': 'tavily_search_results_json'}, 'type': 'function'}], 'refusal': None}, response_metadata={'token_usage': {'completion_tokens': 124, 'prompt_tokens': 2981, 'total_tokens': 3105, 'completion_tokens_details': {'accepted_prediction_tokens': 0, 'audio_tokens': 0, 'reasoning_tokens': 0, 'rejected_prediction_tokens': 0}, 'prompt_tokens_details': {'audio_tokens': 0, 'cached_tokens': 0}}, 'model_name': 'gpt-4.1-nano-2025-04-14', 'system_fingerprint': 'fp_7c233bf9d1', 'id': 'chatcmpl-CKtX64ifwBZ6e0ZwDUy168s7mD9Ym', 'service_tier': 'default', 'finish_reason': 'tool_calls', 'logprobs': None}, id='run--604da18f-6632-462e-9fb1-7f035a47a087-0', tool_calls=[{'name': 'tavily_search_results_json', 'args': {'query': 'Renjun Xu'}, 'id': 'call_E7Bg2M2LNjmzKy6SBYM061lD', 'type': 'tool_call'}, {'name': 'tavily_search_results_json', 'args': {'query': 'Jingwen Peng'}, 'id': 'call_93l8EtavMUHhbkjO406ws17H', 'type': 'tool_call'}], usage_metadata={'input_tokens': 2981, 'output_tokens': 124, 'total_tokens': 3105, 'input_token_details': {'audio': 0, 'cache_read': 0}, 'output_token_details': {'audio': 0, 'reasoning': 0}})]\n",
            "\n",
            "\n",
            "\n",
            "Receiving update from node: 'action'\n",
            "Tool Used: tavily_search_results_json\n",
            "[ToolMessage(content='[{\"title\": \"Renjun Xu - Researcher, Zhejiang University\", \"url\": \"https://openreview.net/profile?id=~Renjun_Xu1\", \"content\": \"# Renjun Xu\\\\n\\\\n### Principal Researcher, Zhejiang University\\\\n\\\\n Joined September 2021\\\\n\\\\n#### Names\\\\n\\\\nRenjun Xu (Preferred)\\\\n\\\\n Suggest Name\\\\n\\\\n#### Emails\\\\n\\\\n\\\\\\\\\\\\\\\\\\\\\\\\\\\\\\\\@zju.edu.cn (Confirmed)\\\\n\\\\n Suggest Email\\\\n\\\\n#### Personal Links\\\\n\\\\nHomepage\\\\n\\\\nDBLP\\\\n\\\\nORCID\\\\n\\\\nSemantic Scholar\\\\n\\\\n Suggest URL\\\\n\\\\n#### Career & Education History\\\\n\\\\nPrincipal Researcher\\\\n\\\\nZhejiang University(zju.edu.cn)\\\\n\\\\n2018 – Present\\\\n\\\\n Suggest Position\\\\n\\\\n#### Advisors, Relations & Conflicts\\\\n\\\\nNo relations added\\\\n\\\\n Suggest Relation\\\\n\\\\n#### Expertise [...] equivariant neural network, domain adaptation, domain generalization, molecular, physics, contrastive learning, symmetry, crystal, phase transition\\\\n\\\\nPresent\\\\n\\\\n Suggest Expertise\", \"score\": 0.7171114}, {\"title\": \"Renjun of NCT Dream, Chinese K-pop star who is ...\", \"url\": \"https://www.scmp.com/lifestyle/entertainment/article/3100230/renjun-nct-dream-chinese-k-pop-star-who-passionate-focused\", \"content\": \"Renjun was born Huang Ren-jun in Jilin province, northeast China, in March 2000. Korean is commonly spoken in the area because it is close to the Korean peninsula, so he grew up bilingual.\\\\n\\\\nA young Renjun was not just interested in studying the Korean language, but Korean music as well. He was inspired by the boy band Exo and, in particular, the international success of the band’s Chinese member Lay.\\\\n\\\\nAdvertisement [...] K-pop, Mandopop, other Asian pop\\\\n\\\\nLifestyleEntertainment\\\\n\\\\n# Renjun of NCT Dream, Chinese K-pop star who is passionate, focused and goal-driven\\\\n\\\\n###  Renjun, born Huang Ren-jun, was so determined to become a K-pop singer that he travelled hours to go to an audition with less than a day’s notice  The singer speaks fluent Korean, having grown up near the China-Korea border, and recently released his first solo cover, of Troye Sivan’s Fools, in English\\\\n\\\\nReading Time:3 minutes\\\\n\\\\nWhy you can trust SCMP [...] While his schoolmates set their sights on university, Renjun wanted to become an idol and elected to study at the Beijing Contemporary Music School (alongside NCT band member Chenle), from where he graduated with full marks.\\\\n\\\\nAdvertisement\\\\n\\\\nSelect Voice\\\\n\\\\nChoose your listening speed\\\\n\\\\nGet through articles 2x faster\\\\n\\\\n1.25x\\\\n\\\\n250WPM\\\\n\\\\n1.25x\", \"score\": 0.5976789}, {\"title\": \"40+ \\\\\"Renjun Xu\\\\\" profiles\", \"url\": \"https://www.linkedin.com/pub/dir/Renjun/Xu\", \"content\": \"Sign Up | LinkedIn \\\\n\\\\nAgree & Join LinkedIn\\\\n\\\\nBy clicking Continue to join or sign in, you agree to LinkedIn’s User Agreement, Privacy Policy, and Cookie Policy.\\\\n\\\\nSkip to main contentLinkedIn\\\\n\\\\nJoin LinkedIn\\\\n\\\\nImage 1: Profile photo Not you? \\\\n\\\\n Remove photo \\\\n\\\\nFirst name \\\\n\\\\nLast name \\\\n\\\\nEmail \\\\n\\\\nPassword (6+ characters) \\\\n\\\\nBy clicking Agree & Join, you agree to the LinkedIn User Agreement, Privacy Policy, and Cookie Policy.\\\\n\\\\n Agree & Join \\\\n\\\\nor\\\\n\\\\nAlready on Linkedin?  Sign in\\\\n\\\\nSecurity verification [...] Sign in\\\\n\\\\n Email or phone  \\\\n\\\\n Password  \\\\n\\\\nShow\\\\n\\\\nForgot password? Sign in \\\\n\\\\nor\\\\n\\\\nBy clicking Continue to join or sign in, you agree to LinkedIn’s User Agreement, Privacy Policy, and Cookie Policy.\\\\n\\\\nContinue with Google Continue with Google\\\\n\\\\nNew to Linkedin?  Join now [...] हिंदी (Hindi) \\\\n        Magyar (Hungarian) \\\\n        Bahasa Indonesia (Indonesian) \\\\n        Italiano (Italian) \\\\n        עברית (Hebrew) \\\\n        日本語 (Japanese) \\\\n        한국어 (Korean) \\\\n        मराठी (Marathi) \\\\n        Bahasa Malaysia (Malay) \\\\n        Nederlands (Dutch) \\\\n        Norsk (Norwegian) \\\\n        ਪੰਜਾਬੀ (Punjabi) \\\\n        Polski (Polish) \\\\n        Português (Portuguese) \\\\n        Română (Romanian) \\\\n        Русский (Russian) \\\\n        Svenska (Swedish) \\\\n        తెలుగు (Telugu)\", \"score\": 0.48879638}, {\"title\": \"Huang Renjun - Biography\", \"url\": \"https://www.imdb.com/name/nm10749527/bio/\", \"content\": \"Back\\\\n\\\\n Biography\\\\n Trivia\\\\n\\\\nIMDbPro\\\\n\\\\n# Biography\\\\n\\\\n## Huang Renjun\\\\n\\\\nEdit\\\\n\\\\n### Overview\\\\n\\\\n Born\\\\n\\\\n  March 23, 2000 · Jilin, China\\\\n Height\\\\n\\\\n  5′ 7¼″ (1.71 m)\\\\n\\\\n### Mini bio\\\\n\\\\n Huang Renjun, referred to as Renjun, is a Chinese singer born in Jilin on March 23, 2000. He is the lead vocalist and the lead dancer of NCT Dream. He graduated from the Beijing Contemporary Music Academy with Chenle, who he also wrote a song with. He was a radio dj for Akdong Seoul, and debuted with \\\\\"Chewing Gum\\\\\" in 2016. [...] - IMDb mini biography by: Nct wiki\\\\n\\\\n### Trivia\\\\n\\\\n Weight : 60kg.\\\\n\\\\n### Contribute to this page\\\\n\\\\nSuggest an edit or add missing content\\\\n\\\\n Learn more about contributing\\\\n\\\\nEdit page\\\\n\\\\n### More from this person\\\\n\\\\n View agent, publicist, legal and company contact details on IMDbPro\\\\n\\\\n### More to explore\\\\n\\\\n### Recently viewed\\\\n\\\\nYou have no recently viewed pages\", \"score\": 0.45188335}, {\"title\": \"Chinese Government Intelligence Officer Sentenced to 20 ...\", \"url\": \"https://www.justice.gov/archives/opa/pr/chinese-government-intelligence-officer-sentenced-20-years-prison-espionage-crimes-attempting\", \"content\": \"On Nov. 5, 2021, a federal jury in Cincinnati convicted Xu on all counts: conspiracy to commit economic espionage, conspiracy to commit trade secret theft, attempted economic espionage and attempted trade secret theft.\\\\n\\\\nXu was a career intelligence officer, beginning in 2003 and rising to the rank of deputy division director at the Chinese Ministry of State Security (MSS), the intelligence and security agency for China. [...] “This case sends a clear message: we will hold accountable anyone attempting to steal American trade secrets,” said U.S. Attorney Kenneth L. Parker for the Southern District of Ohio. “Xu conspired to steal American science and technology. Thanks to the diligent work of the FBI, GE Aviation and our trial team, he’ll spend decades in federal prison.” [...] According to court documents and trial testimony, beginning in at least December 2013, Xu targeted specific companies in the United States and abroad that are recognized as leaders in the field of aviation.\", \"score\": 0.43770394}]', name='tavily_search_results_json', id='a9abe9e6-2150-4773-997f-6ddeb4cf854c', tool_call_id='call_E7Bg2M2LNjmzKy6SBYM061lD', artifact={'query': 'Renjun Xu', 'follow_up_questions': None, 'answer': None, 'images': [], 'results': [{'url': 'https://openreview.net/profile?id=~Renjun_Xu1', 'title': 'Renjun Xu - Researcher, Zhejiang University', 'content': '# Renjun Xu\\n\\n### Principal Researcher, Zhejiang University\\n\\n Joined September 2021\\n\\n#### Names\\n\\nRenjun Xu (Preferred)\\n\\n Suggest Name\\n\\n#### Emails\\n\\n\\\\\\\\\\\\\\\\@zju.edu.cn (Confirmed)\\n\\n Suggest Email\\n\\n#### Personal Links\\n\\nHomepage\\n\\nDBLP\\n\\nORCID\\n\\nSemantic Scholar\\n\\n Suggest URL\\n\\n#### Career & Education History\\n\\nPrincipal Researcher\\n\\nZhejiang University(zju.edu.cn)\\n\\n2018 – Present\\n\\n Suggest Position\\n\\n#### Advisors, Relations & Conflicts\\n\\nNo relations added\\n\\n Suggest Relation\\n\\n#### Expertise [...] equivariant neural network, domain adaptation, domain generalization, molecular, physics, contrastive learning, symmetry, crystal, phase transition\\n\\nPresent\\n\\n Suggest Expertise', 'score': 0.7171114, 'raw_content': None}, {'url': 'https://www.scmp.com/lifestyle/entertainment/article/3100230/renjun-nct-dream-chinese-k-pop-star-who-passionate-focused', 'title': 'Renjun of NCT Dream, Chinese K-pop star who is ...', 'content': 'Renjun was born Huang Ren-jun in Jilin province, northeast China, in March 2000. Korean is commonly spoken in the area because it is close to the Korean peninsula, so he grew up bilingual.\\n\\nA young Renjun was not just interested in studying the Korean language, but Korean music as well. He was inspired by the boy band Exo and, in particular, the international success of the band’s Chinese member Lay.\\n\\nAdvertisement [...] K-pop, Mandopop, other Asian pop\\n\\nLifestyleEntertainment\\n\\n# Renjun of NCT Dream, Chinese K-pop star who is passionate, focused and goal-driven\\n\\n###  Renjun, born Huang Ren-jun, was so determined to become a K-pop singer that he travelled hours to go to an audition with less than a day’s notice  The singer speaks fluent Korean, having grown up near the China-Korea border, and recently released his first solo cover, of Troye Sivan’s Fools, in English\\n\\nReading Time:3 minutes\\n\\nWhy you can trust SCMP [...] While his schoolmates set their sights on university, Renjun wanted to become an idol and elected to study at the Beijing Contemporary Music School (alongside NCT band member Chenle), from where he graduated with full marks.\\n\\nAdvertisement\\n\\nSelect Voice\\n\\nChoose your listening speed\\n\\nGet through articles 2x faster\\n\\n1.25x\\n\\n250WPM\\n\\n1.25x', 'score': 0.5976789, 'raw_content': None}, {'url': 'https://www.linkedin.com/pub/dir/Renjun/Xu', 'title': '40+ \"Renjun Xu\" profiles', 'content': 'Sign Up | LinkedIn \\n\\nAgree & Join LinkedIn\\n\\nBy clicking Continue to join or sign in, you agree to LinkedIn’s User Agreement, Privacy Policy, and Cookie Policy.\\n\\nSkip to main contentLinkedIn\\n\\nJoin LinkedIn\\n\\nImage 1: Profile photo Not you? \\n\\n Remove photo \\n\\nFirst name \\n\\nLast name \\n\\nEmail \\n\\nPassword (6+ characters) \\n\\nBy clicking Agree & Join, you agree to the LinkedIn User Agreement, Privacy Policy, and Cookie Policy.\\n\\n Agree & Join \\n\\nor\\n\\nAlready on Linkedin?  Sign in\\n\\nSecurity verification [...] Sign in\\n\\n Email or phone  \\n\\n Password  \\n\\nShow\\n\\nForgot password? Sign in \\n\\nor\\n\\nBy clicking Continue to join or sign in, you agree to LinkedIn’s User Agreement, Privacy Policy, and Cookie Policy.\\n\\nContinue with Google Continue with Google\\n\\nNew to Linkedin?  Join now [...] हिंदी (Hindi) \\n        Magyar (Hungarian) \\n        Bahasa Indonesia (Indonesian) \\n        Italiano (Italian) \\n        עברית (Hebrew) \\n        日本語 (Japanese) \\n        한국어 (Korean) \\n        मराठी (Marathi) \\n        Bahasa Malaysia (Malay) \\n        Nederlands (Dutch) \\n        Norsk (Norwegian) \\n        ਪੰਜਾਬੀ (Punjabi) \\n        Polski (Polish) \\n        Português (Portuguese) \\n        Română (Romanian) \\n        Русский (Russian) \\n        Svenska (Swedish) \\n        తెలుగు (Telugu)', 'score': 0.48879638, 'raw_content': None}, {'url': 'https://www.imdb.com/name/nm10749527/bio/', 'title': 'Huang Renjun - Biography', 'content': 'Back\\n\\n Biography\\n Trivia\\n\\nIMDbPro\\n\\n# Biography\\n\\n## Huang Renjun\\n\\nEdit\\n\\n### Overview\\n\\n Born\\n\\n  March 23, 2000 · Jilin, China\\n Height\\n\\n  5′ 7¼″ (1.71 m)\\n\\n### Mini bio\\n\\n Huang Renjun, referred to as Renjun, is a Chinese singer born in Jilin on March 23, 2000. He is the lead vocalist and the lead dancer of NCT Dream. He graduated from the Beijing Contemporary Music Academy with Chenle, who he also wrote a song with. He was a radio dj for Akdong Seoul, and debuted with \"Chewing Gum\" in 2016. [...] - IMDb mini biography by: Nct wiki\\n\\n### Trivia\\n\\n Weight : 60kg.\\n\\n### Contribute to this page\\n\\nSuggest an edit or add missing content\\n\\n Learn more about contributing\\n\\nEdit page\\n\\n### More from this person\\n\\n View agent, publicist, legal and company contact details on IMDbPro\\n\\n### More to explore\\n\\n### Recently viewed\\n\\nYou have no recently viewed pages', 'score': 0.45188335, 'raw_content': None}, {'url': 'https://www.justice.gov/archives/opa/pr/chinese-government-intelligence-officer-sentenced-20-years-prison-espionage-crimes-attempting', 'title': 'Chinese Government Intelligence Officer Sentenced to 20 ...', 'content': 'On Nov. 5, 2021, a federal jury in Cincinnati convicted Xu on all counts: conspiracy to commit economic espionage, conspiracy to commit trade secret theft, attempted economic espionage and attempted trade secret theft.\\n\\nXu was a career intelligence officer, beginning in 2003 and rising to the rank of deputy division director at the Chinese Ministry of State Security (MSS), the intelligence and security agency for China. [...] “This case sends a clear message: we will hold accountable anyone attempting to steal American trade secrets,” said U.S. Attorney Kenneth L. Parker for the Southern District of Ohio. “Xu conspired to steal American science and technology. Thanks to the diligent work of the FBI, GE Aviation and our trial team, he’ll spend decades in federal prison.” [...] According to court documents and trial testimony, beginning in at least December 2013, Xu targeted specific companies in the United States and abroad that are recognized as leaders in the field of aviation.', 'score': 0.43770394, 'raw_content': None}], 'response_time': 2.8, 'request_id': 'ac7a2e26-b5d4-4b95-a943-4b0957c6f1a3'}), ToolMessage(content='[{\"title\": \"Jingwen Peng Email & Phone Number | Manulife Lead ...\", \"url\": \"https://rocketreach.co/jingwen-peng-email_28909123\", \"content\": \"Jingwen Peng, based in Boston, Massachusetts, United States, is currently a Lead Analyst, Investment Analytics at Manulife Investment Management at Manulife. Jingwen Peng brings experience from previous roles at Manulife Asset Management, Congress Asset Management and Prelude Asset Management. Jingwen Peng holds a 2008 - 2009 Master of Arts in Mathematical Finance @ Boston University Questrom School of Business. With a robust skill set that includes Quantitative Finance, Asset Management, [...] - [x]  see more  \\\\n   2010 - 2012 Research Analyst @ Congress Asset Management\\\\n   2009 - 2010 Research Analyst @ Prelude Asset Management\\\\n   2007 - 2007 Intern Analyst @ Bank of China\\\\n\\\\n see less  \\\\n\\\\n### Jingwen Peng Education\\\\n\\\\n   Boston University Questrom School of Business \\\\nMaster of Arts ( Mathematical Finance)\\\\n\\\\n2008 - 2009\\\\n   Peking University \\\\nBachelor of Science ( Mathematics with a concerntration in Financial Mathematics)\\\\n\\\\n2004 - 2008\\\\n\\\\n### Jingwen Peng Skills [...] Image 7: Liberty Mutual Investments Employee Jingwen Peng\\'s profile photo ### Jingwen Peng #### Director II - Lead Data Steward at Liberty Mutual Investments Boston, MA, US   View \\\\n\\\\n2\\\\n       hotmail.com\\\\n       libertymutualgroup.com\\\\n\\\\n   \\\\nImage 8: Bpifrance Assurance Export Employee Jingwen Peng\\'s profile photo ### Jingwen Peng #### Product owner at Bpifrance Assurance Export Pontoise, FR   View \\\\n\\\\n1\\\\n       bpifrance.fr\\\\n\\\\nView Similar Profiles\\\\n\\\\nTop Manulife Employees\", \"score\": 0.91156644}, {\"title\": \"US-China veterinary program at K-State celebrates graduating class ...\", \"url\": \"https://www.k-state.edu/media/newsreleases/2024-06/US-China-joint-veterinary-program-at-KState-celebrates-graduating-class-and-homecoming-event.html\", \"content\": \"of Missouri.At the homecoming event, recent graduates, current students and friends presented about their experiences in veterinary college. One student\\'s experiences included a close brush with a Kansas weather phenomenon.\\\\\"In my fourth year, I learned that I love dental procedures,\\\\\" said Jingwen Peng, a K-State Doctor of Veterinary Medicine graduate. \\\\\"While on the equine field service, I did dental [exams] on horses, mules and donkeys. Also while on equine field service, I got a bonus view of [...] ###### The recent graduates of the U.S.-China Joint Doctor of Veterinary Medicine Program received purple stethoscopes after giving presentations about their educational experiences. From left: Lei Wang, program manager for the U.S.-China Center for Animal Health, graduates Yuanjue Tan, Xingy Tang, Xiang Yu, Cong Zhu, Jingwen Peng and Hodes Family Dean Bonnie Rush. | Download this photo. [...] \\\\\"Great challenges lie in front of us, but that also comes with great possibilities. I think we have learned from the best, and now is the best time to go back to our country to witness and, more importantly, be part of the growing and developing of veterinary medicine in China.\\\\\"In addition to Peng and Tang, the May 2024 Doctor of Veterinary Medicine graduates are Xiangyu Lin from Kansas State University and Dr. Cong Zhu from the University of Minnesota. The Chinese graduates of the program will\", \"score\": 0.69622743}, {\"title\": \"Jingwen Peng - U of Rochester Simon STEM MSBA\", \"url\": \"https://www.linkedin.com/in/jpeng19\", \"content\": \"●\\\\tAuthored product requirement documentation, followed up on new features and optimization based on customer feedback.\\\\n\\\\n●\\\\tDevised creative short videos content, elevated ad CTR by 4 times on Google Ads and refined data-driven strategies.\\\\n\\\\n●\\\\tGrew social media presence through influencer marketing, acquired 1,000+ new users on Instagram, FB, and YouTube. [...] At Amazon, my role as a Site Merchandising analyst was pivotal in enhancing the Kindle E-book business through data-driven strategies<br><br> By automating reports and refining forecasting models, our team significantly improved operational efficiency and influenced strategic decisions that positively impacted the growth of E-book store and Kindle Unlimited<br><br> My technical acumen, particularly in Excel, SQL and Python, was instrumental in automating processes, reducing manual workloads, [...] - I\\'m excited to share that our consulting project with the Rochester Fire Department has been a resounding success! 🎉 As part of a fantastic team…  \\\\nLiked by Jingwen Peng  \\\\nView Post  \\\\nActivity Image\\\\n\\\\n- I\\'m thrilled to announce the completion of my first consulting project as Project Manager with Simon Vision Consulting! Working alongside my…  \\\\nLiked by Jingwen Peng  \\\\nView Post  \\\\nActivity Image\", \"score\": 0.6213807}, {\"title\": \"The complete mitochondrial genome and phylogenetic ...\", \"url\": \"https://pmc.ncbi.nlm.nih.gov/articles/PMC9225737/\", \"content\": \"1 College of Agriculture and Animal Husbandry, Qinghai University, Xining, Qinghai, China\\\\n\\\\nFind articles by Jingwen Peng\\\\n\\\\n1, Kexing Cheng\\\\n\\\\n### Kexing Cheng\\\\n\\\\n1 College of Agriculture and Animal Husbandry, Qinghai University, Xining, Qinghai, China\\\\n\\\\nFind articles by Kexing Cheng\\\\n\\\\n1, Jiahui Guo\\\\n\\\\n### Jiahui Guo\\\\n\\\\n1 College of Agriculture and Animal Husbandry, Qinghai University, Xining, Qinghai, China\\\\n\\\\nFind articles by Jiahui Guo\\\\n\\\\n1, Zhiao Pei\\\\n\\\\n### Zhiao Pei [...] :1018–1020. doi: 10.1080/23802359.2022.2080598\\\\n\\\\n   Search in PMC\\\\n   Search in PubMed\\\\n   View in NLM Catalog\\\\n   Add to search\\\\n\\\\nThe complete mitochondrial genome and phylogenetic analysis of _Illiberis pruni_ Dyar, 1905 (Lepidoptera: Zygaenidae)\\\\n\\\\nYanbin Nan\\\\n\\\\n### Yanbin Nan\\\\n\\\\n1 College of Agriculture and Animal Husbandry, Qinghai University, Xining, Qinghai, China\\\\n\\\\nFind articles by Yanbin Nan\\\\n\\\\n1,, Jingwen Peng\\\\n\\\\n### Jingwen Peng [...] 1 College of Agriculture and Animal Husbandry, Qinghai University, Xining, Qinghai, China\\\\n\\\\nFind articles by Zhiao Pei\\\\n\\\\n1, Mingyan Ma\\\\n\\\\n### Mingyan Ma\\\\n\\\\n1 College of Agriculture and Animal Husbandry, Qinghai University, Xining, Qinghai, China\\\\n\\\\nFind articles by Mingyan Ma\\\\n\\\\n1, Yuantao Zhou\\\\n\\\\n### Yuantao Zhou\\\\n\\\\n1 College of Agriculture and Animal Husbandry, Qinghai University, Xining, Qinghai, China\\\\n\\\\nFind articles by Yuantao Zhou\\\\n\\\\n1,,✉\", \"score\": 0.53342235}, {\"title\": \"Loop | Jingwen Peng\", \"url\": \"https://loop.frontiersin.org/people/1381593/overview\", \"content\": \"0 Edited Research Topics\\\\n 0 Edited Publications\\\\n 0 Reviewed Publications\\\\n\\\\nView Editorial Contributions\\\\n\\\\n## Editorial Roles\\\\n\\\\nThis researcher does not have an active role on a Frontiers editorial board. You may recommend their participation\\\\nhere.\\\\n\\\\n 0\\\\n\\\\n  Followers\\\\n 0\\\\n\\\\n  Following\\\\n\\\\nNo content to display.\\\\n\\\\nView All Followers\\\\n\\\\nNo content to display.\\\\n\\\\nView All Following [...] Jingwen Peng\\\\n\\\\n Overview\\\\n Bio\\\\n Network0\\\\n Publications4\\\\n Editorial Contributions0\\\\n Impact\\\\n\\\\n 6,420Total\\\\n    \\\\n  Views\\\\n 14Profile  \\\\n  Views\\\\n 4Total  \\\\n  Publications\\\\n 6,406Publication  \\\\n  Views\\\\n 3,182Publications  \\\\n  Downloads\\\\n\\\\nView Full Impact\\\\n\\\\n## Brief Bio\\\\n\\\\nUsers who add a description significantly increase their chances for discovers and collaboration. Showcase your career and increase your impact by\\\\nadding your brief bio now.\\\\n\\\\nNo content to display.\\\\n\\\\nView Full Bio and Expertise\\\\n\\\\n## 4 Publications [...] Frontiers In and Loop are registered trade marks of Frontiers Media SA.  \\\\n© Copyright 2007-2025 Frontiers Media SA. All rights reserved -\\\\nTerms and Conditions\", \"score\": 0.5325473}]', name='tavily_search_results_json', id='152ad8c8-4bd5-4bb4-a565-ff1cb6edfe13', tool_call_id='call_93l8EtavMUHhbkjO406ws17H', artifact={'query': 'Jingwen Peng', 'follow_up_questions': None, 'answer': None, 'images': [], 'results': [{'url': 'https://rocketreach.co/jingwen-peng-email_28909123', 'title': 'Jingwen Peng Email & Phone Number | Manulife Lead ...', 'content': \"Jingwen Peng, based in Boston, Massachusetts, United States, is currently a Lead Analyst, Investment Analytics at Manulife Investment Management at Manulife. Jingwen Peng brings experience from previous roles at Manulife Asset Management, Congress Asset Management and Prelude Asset Management. Jingwen Peng holds a 2008 - 2009 Master of Arts in Mathematical Finance @ Boston University Questrom School of Business. With a robust skill set that includes Quantitative Finance, Asset Management, [...] - [x]  see more  \\n   2010 - 2012 Research Analyst @ Congress Asset Management\\n   2009 - 2010 Research Analyst @ Prelude Asset Management\\n   2007 - 2007 Intern Analyst @ Bank of China\\n\\n see less  \\n\\n### Jingwen Peng Education\\n\\n   Boston University Questrom School of Business \\nMaster of Arts ( Mathematical Finance)\\n\\n2008 - 2009\\n   Peking University \\nBachelor of Science ( Mathematics with a concerntration in Financial Mathematics)\\n\\n2004 - 2008\\n\\n### Jingwen Peng Skills [...] Image 7: Liberty Mutual Investments Employee Jingwen Peng's profile photo ### Jingwen Peng #### Director II - Lead Data Steward at Liberty Mutual Investments Boston, MA, US   View \\n\\n2\\n       hotmail.com\\n       libertymutualgroup.com\\n\\n   \\nImage 8: Bpifrance Assurance Export Employee Jingwen Peng's profile photo ### Jingwen Peng #### Product owner at Bpifrance Assurance Export Pontoise, FR   View \\n\\n1\\n       bpifrance.fr\\n\\nView Similar Profiles\\n\\nTop Manulife Employees\", 'score': 0.91156644, 'raw_content': None}, {'url': 'https://www.k-state.edu/media/newsreleases/2024-06/US-China-joint-veterinary-program-at-KState-celebrates-graduating-class-and-homecoming-event.html', 'title': 'US-China veterinary program at K-State celebrates graduating class ...', 'content': 'of Missouri.At the homecoming event, recent graduates, current students and friends presented about their experiences in veterinary college. One student\\'s experiences included a close brush with a Kansas weather phenomenon.\"In my fourth year, I learned that I love dental procedures,\" said Jingwen Peng, a K-State Doctor of Veterinary Medicine graduate. \"While on the equine field service, I did dental [exams] on horses, mules and donkeys. Also while on equine field service, I got a bonus view of [...] ###### The recent graduates of the U.S.-China Joint Doctor of Veterinary Medicine Program received purple stethoscopes after giving presentations about their educational experiences. From left: Lei Wang, program manager for the U.S.-China Center for Animal Health, graduates Yuanjue Tan, Xingy Tang, Xiang Yu, Cong Zhu, Jingwen Peng and Hodes Family Dean Bonnie Rush. | Download this photo. [...] \"Great challenges lie in front of us, but that also comes with great possibilities. I think we have learned from the best, and now is the best time to go back to our country to witness and, more importantly, be part of the growing and developing of veterinary medicine in China.\"In addition to Peng and Tang, the May 2024 Doctor of Veterinary Medicine graduates are Xiangyu Lin from Kansas State University and Dr. Cong Zhu from the University of Minnesota. The Chinese graduates of the program will', 'score': 0.69622743, 'raw_content': None}, {'url': 'https://www.linkedin.com/in/jpeng19', 'title': 'Jingwen Peng - U of Rochester Simon STEM MSBA', 'content': \"●\\tAuthored product requirement documentation, followed up on new features and optimization based on customer feedback.\\n\\n●\\tDevised creative short videos content, elevated ad CTR by 4 times on Google Ads and refined data-driven strategies.\\n\\n●\\tGrew social media presence through influencer marketing, acquired 1,000+ new users on Instagram, FB, and YouTube. [...] At Amazon, my role as a Site Merchandising analyst was pivotal in enhancing the Kindle E-book business through data-driven strategies<br><br> By automating reports and refining forecasting models, our team significantly improved operational efficiency and influenced strategic decisions that positively impacted the growth of E-book store and Kindle Unlimited<br><br> My technical acumen, particularly in Excel, SQL and Python, was instrumental in automating processes, reducing manual workloads, [...] - I'm excited to share that our consulting project with the Rochester Fire Department has been a resounding success! 🎉 As part of a fantastic team…  \\nLiked by Jingwen Peng  \\nView Post  \\nActivity Image\\n\\n- I'm thrilled to announce the completion of my first consulting project as Project Manager with Simon Vision Consulting! Working alongside my…  \\nLiked by Jingwen Peng  \\nView Post  \\nActivity Image\", 'score': 0.6213807, 'raw_content': None}, {'url': 'https://pmc.ncbi.nlm.nih.gov/articles/PMC9225737/', 'title': 'The complete mitochondrial genome and phylogenetic ...', 'content': '1 College of Agriculture and Animal Husbandry, Qinghai University, Xining, Qinghai, China\\n\\nFind articles by Jingwen Peng\\n\\n1, Kexing Cheng\\n\\n### Kexing Cheng\\n\\n1 College of Agriculture and Animal Husbandry, Qinghai University, Xining, Qinghai, China\\n\\nFind articles by Kexing Cheng\\n\\n1, Jiahui Guo\\n\\n### Jiahui Guo\\n\\n1 College of Agriculture and Animal Husbandry, Qinghai University, Xining, Qinghai, China\\n\\nFind articles by Jiahui Guo\\n\\n1, Zhiao Pei\\n\\n### Zhiao Pei [...] :1018–1020. doi: 10.1080/23802359.2022.2080598\\n\\n   Search in PMC\\n   Search in PubMed\\n   View in NLM Catalog\\n   Add to search\\n\\nThe complete mitochondrial genome and phylogenetic analysis of _Illiberis pruni_ Dyar, 1905 (Lepidoptera: Zygaenidae)\\n\\nYanbin Nan\\n\\n### Yanbin Nan\\n\\n1 College of Agriculture and Animal Husbandry, Qinghai University, Xining, Qinghai, China\\n\\nFind articles by Yanbin Nan\\n\\n1,, Jingwen Peng\\n\\n### Jingwen Peng [...] 1 College of Agriculture and Animal Husbandry, Qinghai University, Xining, Qinghai, China\\n\\nFind articles by Zhiao Pei\\n\\n1, Mingyan Ma\\n\\n### Mingyan Ma\\n\\n1 College of Agriculture and Animal Husbandry, Qinghai University, Xining, Qinghai, China\\n\\nFind articles by Mingyan Ma\\n\\n1, Yuantao Zhou\\n\\n### Yuantao Zhou\\n\\n1 College of Agriculture and Animal Husbandry, Qinghai University, Xining, Qinghai, China\\n\\nFind articles by Yuantao Zhou\\n\\n1,,✉', 'score': 0.53342235, 'raw_content': None}, {'url': 'https://loop.frontiersin.org/people/1381593/overview', 'title': 'Loop | Jingwen Peng', 'content': '0 Edited Research Topics\\n 0 Edited Publications\\n 0 Reviewed Publications\\n\\nView Editorial Contributions\\n\\n## Editorial Roles\\n\\nThis researcher does not have an active role on a Frontiers editorial board. You may recommend their participation\\nhere.\\n\\n 0\\n\\n  Followers\\n 0\\n\\n  Following\\n\\nNo content to display.\\n\\nView All Followers\\n\\nNo content to display.\\n\\nView All Following [...] Jingwen Peng\\n\\n Overview\\n Bio\\n Network0\\n Publications4\\n Editorial Contributions0\\n Impact\\n\\n 6,420Total\\n    \\n  Views\\n 14Profile  \\n  Views\\n 4Total  \\n  Publications\\n 6,406Publication  \\n  Views\\n 3,182Publications  \\n  Downloads\\n\\nView Full Impact\\n\\n## Brief Bio\\n\\nUsers who add a description significantly increase their chances for discovers and collaboration. Showcase your career and increase your impact by\\nadding your brief bio now.\\n\\nNo content to display.\\n\\nView Full Bio and Expertise\\n\\n## 4 Publications [...] Frontiers In and Loop are registered trade marks of Frontiers Media SA.  \\n© Copyright 2007-2025 Frontiers Media SA. All rights reserved -\\nTerms and Conditions', 'score': 0.5325473, 'raw_content': None}], 'response_time': 2.26, 'request_id': '130a811d-333c-4edc-9739-2d44b3fe54ff'})]\n",
            "\n",
            "\n",
            "\n",
            "Receiving update from node: 'agent'\n",
            "[AIMessage(content='Renjun Xu is currently a Principal Researcher at Zhejiang University. \\n\\nJingwen Peng is currently a Lead Analyst in Investment Analytics at Manulife Investment Management.', additional_kwargs={'refusal': None}, response_metadata={'token_usage': {'completion_tokens': 34, 'prompt_tokens': 6722, 'total_tokens': 6756, 'completion_tokens_details': {'accepted_prediction_tokens': 0, 'audio_tokens': 0, 'reasoning_tokens': 0, 'rejected_prediction_tokens': 0}, 'prompt_tokens_details': {'audio_tokens': 0, 'cached_tokens': 2944}}, 'model_name': 'gpt-4.1-nano-2025-04-14', 'system_fingerprint': 'fp_7c233bf9d1', 'id': 'chatcmpl-CKtXCO7vY3stict5kt3sZJKxCpfDh', 'service_tier': 'default', 'finish_reason': 'stop', 'logprobs': None}, id='run--0f2a8a4a-98e0-4c22-b05b-310d02576e26-0', usage_metadata={'input_tokens': 6722, 'output_tokens': 34, 'total_tokens': 6756, 'input_token_details': {'audio': 0, 'cache_read': 2944}, 'output_token_details': {'audio': 0, 'reasoning': 0}})]\n",
            "\n",
            "\n",
            "\n"
          ]
        }
      ],
      "source": [
        "inputs = {\"messages\" : [HumanMessage(content=\"Search Arxiv for the A Comprehensive Survey of Deep Research paper, then search each of the authors to find out where they work now using Tavily!\")]}\n",
        "\n",
        "async for chunk in simple_agent_graph.astream(inputs, stream_mode=\"updates\"):\n",
        "    for node, values in chunk.items():\n",
        "        print(f\"Receiving update from node: '{node}'\")\n",
        "        if node == \"action\":\n",
        "          print(f\"Tool Used: {values['messages'][0].name}\")\n",
        "        print(values[\"messages\"])\n",
        "\n",
        "        print(\"\\n\\n\")"
      ]
    },
    {
      "cell_type": "markdown",
      "metadata": {
        "id": "CXzDlZVz1Hnf"
      },
      "source": [
        "#### 🏗️ Activity #2:\n",
        "\n",
        "Please write out the steps the agent took to arrive at the correct answer."
      ]
    },
    {
      "cell_type": "markdown",
      "metadata": {},
      "source": [
        "User Query: \"Search Arxiv for the A Comprehensive Survey of Deep Research paper, then search each of the authors to find out where they work now using Tavily!\"\n",
        "\n",
        "1. Input : Agent receives user query and analyzes requirements that it needs to search using Arxiv for specific paper \"A Comprehensive Survey of Deep Research paper\" then need to find authors of the research paper and also answer using Tavily where they work now\n",
        "\n",
        "2. Planning : Agent determines the tools for the job. Tool 1: arxiv (for academic paper search) and Tool 2: tavily_search_results_json (for author info) invokes function calles for both tools\n",
        "\n",
        "3. Tool Execution: Arxiv: Query: \"A Comprehensive Survey of Deep Research\" Result: Found paper by Renjun Xu and Jingwen Peng. Then using Tavily search tool Query: \"author of A Comprehensive Survey of Deep Research\" Result: Found author employment information about Renjun Xu and Jingwen Peng alogn with their email, educational qualifications etc.. top 5 results. that's a lot of information\n",
        "\n",
        "4.  Summarize: Agent processes and combines results from both tools and validates for consistency the sends the response \"Renjun Xu is currently a Principal Researcher at Zhejiang University and Jingwen Peng, is a Lead Analyst in Investment Analytics at Manulife Investment Management\" as state\n",
        "\n",
        "5. Output : Agent delivers the response with the research paper title and publication details, author information along with their affliation, their current employment information, comprehensive summary of the finding as output and reaches END state.\n",
        "\n",
        "Agent Node → Tool Calls → Action Node (Parallel) → Agent Node → END\n",
        "     │            │              │                    │\n",
        "     ▼            ▼              ▼                    ▼\n",
        "  Planning    Function      Tool Execution      Validate &Summarize"
      ]
    },
    {
      "cell_type": "markdown",
      "metadata": {},
      "source": [
        "# 🤝 Breakout Room #2"
      ]
    },
    {
      "cell_type": "markdown",
      "metadata": {
        "id": "v7c8-Uyarh1v"
      },
      "source": [
        "## Part 1: LangSmith Evaluator"
      ]
    },
    {
      "cell_type": "markdown",
      "metadata": {
        "id": "pV3XeFOT1Sar"
      },
      "source": [
        "### Pre-processing for LangSmith"
      ]
    },
    {
      "cell_type": "markdown",
      "metadata": {
        "id": "wruQCuzewUuO"
      },
      "source": [
        "To do a little bit more preprocessing, let's wrap our LangGraph agent in a simple chain."
      ]
    },
    {
      "cell_type": "code",
      "execution_count": 16,
      "metadata": {
        "colab": {
          "base_uri": "https://localhost:8080/",
          "height": 105
        },
        "id": "orYxBZXSxJjZ",
        "outputId": "76be837b-6424-4516-8f63-07fbd8c25bf5"
      },
      "outputs": [
        {
          "data": {
            "text/plain": [
              "{'answer': 'Deep Research typically refers to an in-depth, comprehensive investigation or analysis into a specific topic, subject, or field. It involves thorough examination of available information, data, and resources to uncover detailed insights, understand complex issues, and generate well-informed conclusions. Deep Research is often used in academic, scientific, technological, and business contexts to develop a profound understanding of a subject beyond surface-level knowledge. \\n\\nIf you are referring to a specific organization, product, or platform named \"Deep Research,\" please provide more context so I can give a more precise answer.'}"
            ]
          },
          "execution_count": 16,
          "metadata": {},
          "output_type": "execute_result"
        }
      ],
      "source": [
        "def convert_inputs(input_object):\n",
        "  return {\"messages\" : [HumanMessage(content=input_object[\"text\"])]}\n",
        "\n",
        "def parse_output(input_state):\n",
        "  return {\"answer\" : input_state[\"messages\"][-1].content}\n",
        "\n",
        "agent_chain_with_formatting = convert_inputs | simple_agent_graph | parse_output\n",
        "\n",
        "agent_chain_with_formatting.invoke({\"text\" : \"What is Deep Research?\"})"
      ]
    },
    {
      "cell_type": "markdown",
      "metadata": {
        "id": "f9UkCIqkpyZu"
      },
      "source": [
        "### Task 1: Creating An Evaluation Dataset\n",
        "\n",
        "Just as we saw last week, we'll want to create a dataset to test our Agent's ability to answer questions.\n",
        "\n",
        "In order to do this - we'll want to provide some questions and some answers. Let's look at how we can create such a dataset below.\n",
        "\n",
        "```python\n",
        "questions = [\n",
        "    {\n",
        "        \"inputs\" : {\"text\" : \"Who were the main authors on the 'A Comprehensive Survey of Deep Research: Systems, Methodologies, and Applications' paper?\"},\n",
        "        \"outputs\" : {\"must_mention\" : [\"Peng\", \"Xu\"]}   \n",
        "    },\n",
        "    ...,\n",
        "    {\n",
        "        \"inputs\" : {\"text\" : \"Where do the authors of the 'A Comprehensive Survey of Deep Research: Systems, Methodologies, and Applications' work now?\"},\n",
        "        \"outputs\" : {\"must_mention\" : [\"Zhejiang\", \"Liberty Mutual\"]}\n",
        "    }\n",
        "]\n",
        "```"
      ]
    },
    {
      "cell_type": "markdown",
      "metadata": {
        "id": "VfMXF2KAsQxs"
      },
      "source": [
        "#### 🏗️ Activity #3:\n",
        "\n",
        "Please create a dataset in the above format with at least 5 questions that pertain to the cohort use-case (more information [here](https://www.notion.so/Session-4-RAG-with-LangGraph-OSS-Local-Models-Eval-w-LangSmith-26acd547af3d80838d5beba464d7e701#26acd547af3d81d08809c9c82a462bdd)), or the use-case you're hoping to tackle in your Demo Day project."
      ]
    },
    {
      "cell_type": "code",
      "execution_count": 17,
      "metadata": {
        "id": "CbagRuJop83E"
      },
      "outputs": [],
      "source": [
        "questions = [\n",
        "   {\n",
        "        \"inputs\" : {\"text\" : \"What are the latest developments in transformer architectures for natural language processing? Search for recent papers and current research trends.\"},\n",
        "        \"outputs\" : {\"must_mention\" : [\"transformer\", \"attention\", \"2024\", \"2025\"]}   \n",
        "    },\n",
        "    {\n",
        "        \"inputs\" : {\"text\" : \"Find information about multimodal AI systems that can process both text and images. What are the current state-of-the-art approaches?\"},\n",
        "        \"outputs\" : {\"must_mention\" : [\"multimodal\", \"vision\", \"language\", \"CLIP\", \"GPT-4V\"]}\n",
        "    },\n",
        "    {\n",
        "        \"inputs\" : {\"text\" : \"What are the main challenges and solutions for AI safety and alignment? Search for recent academic papers and industry perspectives.\"},\n",
        "        \"outputs\" : {\"must_mention\" : [\"alignment\", \"safety\", \"anthropic\", \"openai\", \"constitutional\"]}\n",
        "    },\n",
        "    {\n",
        "        \"inputs\" : {\"text\" : \"How are companies using AI agents for automation in 2024? Find examples of successful implementations and their business impact.\"},\n",
        "        \"outputs\" : {\"must_mention\" : [\"automation\", \"agent\", \"business\", \"productivity\", \"workflow\"]}\n",
        "    },\n",
        "    {\n",
        "        \"inputs\" : {\"text\" : \"What are the current trends in retrieval-augmented generation (RAG) systems? Search for recent papers and practical applications.\"},\n",
        "        \"outputs\" : {\"must_mention\" : [\"RAG\", \"retrieval\", \"augmented\", \"generation\", \"vector\"]}\n",
        "    }\n",
        "]"
      ]
    },
    {
      "cell_type": "markdown",
      "metadata": {
        "id": "z7QVFuAmsh7L"
      },
      "source": [
        "Now we can add our dataset to our LangSmith project using the following code which we saw last Thursday!"
      ]
    },
    {
      "cell_type": "code",
      "execution_count": 18,
      "metadata": {
        "id": "RLfrZrgSsn85"
      },
      "outputs": [
        {
          "data": {
            "text/plain": [
              "{'example_ids': ['2dc9f61b-4bf8-4e5a-9b9f-f2ac0b4b2f90',\n",
              "  '36a8c507-b7d1-4ab0-a6ad-9cfa10a9f9b1',\n",
              "  'cd03f57a-66fc-4cdd-817a-ea2be112ce06',\n",
              "  '79e64a8e-54ba-4fbc-84ac-46bba5dc23fa',\n",
              "  '15e0b357-c44c-4196-b93d-6d2f025af75c'],\n",
              " 'count': 5}"
            ]
          },
          "execution_count": 18,
          "metadata": {},
          "output_type": "execute_result"
        }
      ],
      "source": [
        "from langsmith import Client\n",
        "\n",
        "client = Client()\n",
        "\n",
        "dataset_name = f\"Simple Search Agent - Evaluation Dataset - {uuid4().hex[0:8]}\"\n",
        "\n",
        "dataset = client.create_dataset(\n",
        "    dataset_name=dataset_name,\n",
        "    description=\"Questions about the cohort use-case to evaluate the Simple Search Agent.\"\n",
        ")\n",
        "\n",
        "client.create_examples(\n",
        "    dataset_id=dataset.id,\n",
        "    examples=questions\n",
        ")"
      ]
    },
    {
      "cell_type": "markdown",
      "metadata": {
        "id": "-lRTXUrTtP9Y"
      },
      "source": [
        "### Task 2: Adding Evaluators\n",
        "\n",
        "Let's use the OpenEvals library to product an evaluator that we can then pass into LangSmith!\n",
        "\n",
        "> NOTE: Examine the `CORRECTNESS_PROMPT` below!"
      ]
    },
    {
      "cell_type": "code",
      "execution_count": 19,
      "metadata": {},
      "outputs": [
        {
          "name": "stdout",
          "output_type": "stream",
          "text": [
            "You are an expert data labeler evaluating model outputs for correctness. Your task is to assign a score based on the following rubric:\n",
            "\n",
            "<Rubric>\n",
            "  A correct answer:\n",
            "  - Provides accurate and complete information\n",
            "  - Contains no factual errors\n",
            "  - Addresses all parts of the question\n",
            "  - Is logically consistent\n",
            "  - Uses precise and accurate terminology\n",
            "\n",
            "  When scoring, you should penalize:\n",
            "  - Factual errors or inaccuracies\n",
            "  - Incomplete or partial answers\n",
            "  - Misleading or ambiguous statements\n",
            "  - Incorrect terminology\n",
            "  - Logical inconsistencies\n",
            "  - Missing key information\n",
            "</Rubric>\n",
            "\n",
            "<Instructions>\n",
            "  - Carefully read the input and output\n",
            "  - Check for factual accuracy and completeness\n",
            "  - Focus on correctness of information rather than style or verbosity\n",
            "</Instructions>\n",
            "\n",
            "<Reminder>\n",
            "  The goal is to evaluate factual correctness and completeness of the response.\n",
            "</Reminder>\n",
            "\n",
            "<input>\n",
            "{inputs}\n",
            "</input>\n",
            "\n",
            "<output>\n",
            "{outputs}\n",
            "</output>\n",
            "\n",
            "Use the reference outputs below to help you evaluate the correctness of the response:\n",
            "\n",
            "<reference_outputs>\n",
            "{reference_outputs}\n",
            "</reference_outputs>\n",
            "\n"
          ]
        }
      ],
      "source": [
        "from openevals.prompts import CORRECTNESS_PROMPT\n",
        "print(CORRECTNESS_PROMPT)"
      ]
    },
    {
      "cell_type": "code",
      "execution_count": 20,
      "metadata": {
        "id": "QrAUXMFftlAY"
      },
      "outputs": [],
      "source": [
        "from openevals.llm import create_llm_as_judge\n",
        "\n",
        "correctness_evaluator = create_llm_as_judge(\n",
        "        prompt=CORRECTNESS_PROMPT,\n",
        "        model=\"openai:o3-mini\", # very impactful to the final score\n",
        "        feedback_key=\"correctness\",\n",
        "    )"
      ]
    },
    {
      "cell_type": "markdown",
      "metadata": {},
      "source": [
        "Let's also create a custom Evaluator for our created dataset above - we do this by first making a simple Python function!"
      ]
    },
    {
      "cell_type": "code",
      "execution_count": 21,
      "metadata": {},
      "outputs": [],
      "source": [
        "def must_mention(inputs: dict, outputs: dict, reference_outputs: dict) -> float:\n",
        "  # determine if the phrases in the reference_outputs are in the outputs\n",
        "  required = reference_outputs.get(\"must_mention\") or []\n",
        "  score = all(phrase in outputs[\"answer\"] for phrase in required)\n",
        "  return score"
      ]
    },
    {
      "cell_type": "markdown",
      "metadata": {
        "id": "PNtHORUh0jZY"
      },
      "source": [
        "#### ❓ Question #4:\n",
        "\n",
        "What are some ways you could improve this metric as-is?\n",
        "\n",
        "> NOTE: Alternatively you can suggest where gaps exist in this method."
      ]
    },
    {
      "cell_type": "markdown",
      "metadata": {},
      "source": [
        "##### ✅ Answer:\n",
        "The must_mention method considers the response accurate only when required (must_mention) phrases are present like a boolean status (exists or not exists) - this can be weighted and also adding some code to handle case sensitivity . Also it can. For text/document searches contextual understanding is important to achieve desired results otherwise it works as just search with out any semantic meaning ignoring context. A comprehensive realtive scoring system that combines must_mention accuracy with question coverage, factual accuracy, and answer completeness to provide a more nuanced and fair assessment of the agent's responses."
      ]
    },
    {
      "cell_type": "markdown",
      "metadata": {
        "id": "r1RJr349zhv7"
      },
      "source": [
        "Task 3: Evaluating\n",
        "\n",
        "All that is left to do is evaluate our agent's response!"
      ]
    },
    {
      "cell_type": "code",
      "execution_count": 22,
      "metadata": {
        "colab": {
          "base_uri": "https://localhost:8080/",
          "height": 118,
          "referenced_widgets": [
            "efcf57067cf743d8b4ce059a61cbe02e",
            "53e33aae3b97490c82aec7bbb0d6ebba",
            "ad84e0e971d3455db2efe7dd0d1f803e",
            "72adef9b70dd48198b7322b6c5b113cf",
            "8a61d045ffd44ac58f3f13eb10044836",
            "041e22a9b5514e36bd4d1dac01d5d398",
            "886d762f2a7c421382efb5502c6d42a1",
            "ab91fd625bbd43afbf8c6398193a88d0",
            "716557ad09874dcb989d75f7c74424cd",
            "77d4c0ebaae045b58efc4f789c9a2360",
            "0d622ccc56264fac8fd7508dbdbe6e29"
          ]
        },
        "id": "p5TeCUUkuGld",
        "outputId": "2f7d62a2-e78d-447a-d07b-f9e4d500fb79"
      },
      "outputs": [
        {
          "name": "stdout",
          "output_type": "stream",
          "text": [
            "View the evaluation results for experiment: 'simple_agent, baseline-542a3c7b' at:\n",
            "https://smith.langchain.com/o/579c282e-d619-4808-8787-a7f5dcb91419/datasets/f0f268ac-d789-407e-af13-e45ccdf12166/compare?selectedSessions=cd64f14a-fc89-4b24-b3b5-5a90f52f908d\n",
            "\n",
            "\n"
          ]
        },
        {
          "data": {
            "application/vnd.jupyter.widget-view+json": {
              "model_id": "bb3582554e3e45e88725a07d681aade4",
              "version_major": 2,
              "version_minor": 0
            },
            "text/plain": [
              "0it [00:00, ?it/s]"
            ]
          },
          "metadata": {},
          "output_type": "display_data"
        }
      ],
      "source": [
        "results = client.evaluate(\n",
        "    agent_chain_with_formatting,\n",
        "    data=dataset.name,\n",
        "    evaluators=[correctness_evaluator, must_mention],\n",
        "    experiment_prefix=\"simple_agent, baseline\",  # optional, experiment name prefix\n",
        "    description=\"Testing the baseline system.\",  # optional, experiment description\n",
        "    max_concurrency=4, # optional, add concurrency\n",
        ")"
      ]
    },
    {
      "cell_type": "markdown",
      "metadata": {
        "id": "jhTNe4kWrplB"
      },
      "source": [
        "## Part 2: LangGraph with Helpfulness:"
      ]
    },
    {
      "cell_type": "markdown",
      "metadata": {
        "id": "w1wKRddbIY_S"
      },
      "source": [
        "### Task 3: Adding Helpfulness Check and \"Loop\" Limits\n",
        "\n",
        "Now that we've done evaluation - let's see if we can add an extra step where we review the content we've generated to confirm if it fully answers the user's query!\n",
        "\n",
        "We're going to make a few key adjustments to account for this:\n",
        "\n",
        "1. We're going to add an artificial limit on how many \"loops\" the agent can go through - this will help us to avoid the potential situation where we never exit the loop.\n",
        "2. We'll add to our existing conditional edge to obtain the behaviour we desire."
      ]
    },
    {
      "cell_type": "markdown",
      "metadata": {
        "id": "npTYJ8ayR5B3"
      },
      "source": [
        "First, let's define our state again - we can check the length of the state object, so we don't need additional state for this."
      ]
    },
    {
      "cell_type": "code",
      "execution_count": 23,
      "metadata": {
        "id": "-LQ84YhyJG0w"
      },
      "outputs": [],
      "source": [
        "class AgentState(TypedDict):\n",
        "  messages: Annotated[list, add_messages]"
      ]
    },
    {
      "cell_type": "markdown",
      "metadata": {
        "id": "sD7EV0HqSQcb"
      },
      "source": [
        "Now we can set our graph up! This process will be almost entirely the same - with the inclusion of one additional node/conditional edge!"
      ]
    },
    {
      "cell_type": "markdown",
      "metadata": {
        "id": "oajBwLkFVi1N"
      },
      "source": [
        "#### 🏗️ Activity #4:\n",
        "\n",
        "Please write markdown for the following cells to explain what each is doing."
      ]
    },
    {
      "cell_type": "markdown",
      "metadata": {
        "id": "M6rN7feNVn9f"
      },
      "source": [
        "##### Adding nodes\n",
        "Here we are adding 2 nodes 'agent' to call the model and 'action' to invoke the tools. The StateGraph intance will manage the transitions. As is, it is not much useful as there are no edges created yet."
      ]
    },
    {
      "cell_type": "code",
      "execution_count": 24,
      "metadata": {
        "colab": {
          "base_uri": "https://localhost:8080/"
        },
        "id": "6r6XXA5FJbVf",
        "outputId": "ff713041-e498-4f0f-a875-a03502b87729"
      },
      "outputs": [
        {
          "data": {
            "text/plain": [
              "<langgraph.graph.state.StateGraph at 0x10f69bed0>"
            ]
          },
          "execution_count": 24,
          "metadata": {},
          "output_type": "execute_result"
        }
      ],
      "source": [
        "graph_with_helpfulness_check = StateGraph(AgentState)\n",
        "\n",
        "graph_with_helpfulness_check.add_node(\"agent\", call_model)\n",
        "graph_with_helpfulness_check.add_node(\"action\", tool_node)"
      ]
    },
    {
      "cell_type": "markdown",
      "metadata": {
        "id": "XZ22o2mWVrfp"
      },
      "source": [
        "##### Adding Entry point\n",
        "\n",
        "We are adding an entry point to indicate that \"agent\" node is called first when there is user input/message "
      ]
    },
    {
      "cell_type": "code",
      "execution_count": 25,
      "metadata": {
        "colab": {
          "base_uri": "https://localhost:8080/"
        },
        "id": "HNWHwWxuRiLY",
        "outputId": "295f5a35-ceff-452a-ffb8-c52eada6a816"
      },
      "outputs": [
        {
          "data": {
            "text/plain": [
              "<langgraph.graph.state.StateGraph at 0x10f69bed0>"
            ]
          },
          "execution_count": 25,
          "metadata": {},
          "output_type": "execute_result"
        }
      ],
      "source": [
        "graph_with_helpfulness_check.set_entry_point(\"agent\")"
      ]
    },
    {
      "cell_type": "markdown",
      "metadata": {
        "id": "rsXeF6xlaXOZ"
      },
      "source": [
        "##### Self-evaluation agent using prompt template\n",
        "The conditional routing function tool_call_or_helpful that serves as the decision-making logic for the agent including logic when to stop. It first checks if the message require any tool calls, as needed it routes to the \"action\" node to execute those tools. If no tool calls are present, it implements a helpfulness check by comparing the initial user query with the final response using gpt-4.1-mini model to determine if the answer meets the helpful criteria. The function includes to automatically ends if more than 10 messages have been exchanged, preventing infinite loops. Based on the helpfulness evaluation, the function either returns \"end\" to terminate the conversation or \"continue\" to keep the agent working on improving the response."
      ]
    },
    {
      "cell_type": "code",
      "execution_count": 26,
      "metadata": {
        "id": "z_Sq3A9SaV1O"
      },
      "outputs": [],
      "source": [
        "from langchain_core.prompts import PromptTemplate\n",
        "from langchain_core.output_parsers import StrOutputParser\n",
        "\n",
        "def tool_call_or_helpful(state):\n",
        "  last_message = state[\"messages\"][-1]\n",
        "\n",
        "  if last_message.tool_calls:\n",
        "    return \"action\"\n",
        "\n",
        "  initial_query = state[\"messages\"][0]\n",
        "  final_response = state[\"messages\"][-1]\n",
        "\n",
        "  if len(state[\"messages\"]) > 10:\n",
        "    return \"END\"\n",
        "\n",
        "  prompt_template = \"\"\"\\\n",
        "  Given an initial query and a final response, determine if the final response is extremely helpful or not. Please indicate helpfulness with a 'Y' and unhelpfulness as an 'N'.\n",
        "\n",
        "  Initial Query:\n",
        "  {initial_query}\n",
        "\n",
        "  Final Response:\n",
        "  {final_response}\"\"\"\n",
        "\n",
        "  helpfullness_prompt_template = PromptTemplate.from_template(prompt_template)\n",
        "\n",
        "  helpfulness_check_model = ChatOpenAI(model=\"gpt-4.1-mini\")\n",
        "\n",
        "  helpfulness_chain = helpfullness_prompt_template | helpfulness_check_model | StrOutputParser()\n",
        "\n",
        "  helpfulness_response = helpfulness_chain.invoke({\"initial_query\" : initial_query.content, \"final_response\" : final_response.content})\n",
        "\n",
        "  if \"Y\" in helpfulness_response:\n",
        "    return \"end\"\n",
        "  else:\n",
        "    return \"continue\""
      ]
    },
    {
      "cell_type": "markdown",
      "metadata": {
        "id": "6BhnBW2YVsJO"
      },
      "source": [
        "##### Add Edges\n",
        "Adding conditional edges to connect \"agent\" node depeding on the conditional logic from tool_call_or_helpful. Depending on the output there can be 3 different path continue to loop back to the agent node for another iteration, action to invoke the tool, end to terminate the graph ending execution\n"
      ]
    },
    {
      "cell_type": "code",
      "execution_count": 27,
      "metadata": {
        "colab": {
          "base_uri": "https://localhost:8080/"
        },
        "id": "aVTKnWMbP_8T",
        "outputId": "7f729b1f-311c-4084-ceaf-0da437900c85"
      },
      "outputs": [
        {
          "data": {
            "text/plain": [
              "<langgraph.graph.state.StateGraph at 0x10f69bed0>"
            ]
          },
          "execution_count": 27,
          "metadata": {},
          "output_type": "execute_result"
        }
      ],
      "source": [
        "graph_with_helpfulness_check.add_conditional_edges(\n",
        "    \"agent\",\n",
        "    tool_call_or_helpful,\n",
        "    {\n",
        "        \"continue\" : \"agent\",\n",
        "        \"action\" : \"action\",\n",
        "        \"end\" : END\n",
        "    }\n",
        ")"
      ]
    },
    {
      "cell_type": "markdown",
      "metadata": {
        "id": "ZGDLEWOIVtK0"
      },
      "source": [
        "##### Connect nodes\n",
        "A direct edge is created from \"action\" node to the \"agent\" node"
      ]
    },
    {
      "cell_type": "code",
      "execution_count": 24,
      "metadata": {
        "colab": {
          "base_uri": "https://localhost:8080/"
        },
        "id": "cbDK2MbuREgU",
        "outputId": "21a64c20-27a1-4e0e-afde-a639abaa8b55"
      },
      "outputs": [
        {
          "data": {
            "text/plain": [
              "<langgraph.graph.state.StateGraph at 0x75bc729039d0>"
            ]
          },
          "execution_count": 24,
          "metadata": {},
          "output_type": "execute_result"
        }
      ],
      "source": [
        "graph_with_helpfulness_check.add_edge(\"action\", \"agent\")"
      ]
    },
    {
      "cell_type": "markdown",
      "metadata": {
        "id": "rSI8AOaEVvT-"
      },
      "source": [
        "##### YOUR MARKDOWN HERE\n",
        "Compiles the graph config into a runnable that can be invoked to run the agent"
      ]
    },
    {
      "cell_type": "code",
      "execution_count": 28,
      "metadata": {
        "id": "oQldl8ERQ8lf"
      },
      "outputs": [],
      "source": [
        "agent_with_helpfulness_check = graph_with_helpfulness_check.compile()"
      ]
    },
    {
      "cell_type": "markdown",
      "metadata": {
        "id": "F67FGCMRVwGz"
      },
      "source": [
        "##### Testing the graph\n",
        "Agent tries to answer the user question \" What are Deep Research Agents?\". It iteratively performs streaming execution async mode and prints update from each node, here from agent as shown in the output until it finds helpful response."
      ]
    },
    {
      "cell_type": "code",
      "execution_count": 29,
      "metadata": {
        "colab": {
          "base_uri": "https://localhost:8080/"
        },
        "id": "B3oo8E-PRK1T",
        "outputId": "f152dea8-96ad-4d29-d8b2-a064c96a8bd3"
      },
      "outputs": [
        {
          "name": "stdout",
          "output_type": "stream",
          "text": [
            "Receiving update from node: 'agent'\n",
            "[AIMessage(content='Deep Research Agents are advanced AI systems designed to assist with complex research tasks. They leverage deep learning techniques and large datasets to analyze, synthesize, and generate insights across various fields of study. These agents can automate literature reviews, identify relevant information, generate hypotheses, and even assist in experimental design. They are used in academia, industry, and scientific research to accelerate discovery and improve the accuracy and depth of research outcomes. Would you like a more detailed explanation or specific examples of Deep Research Agents?', additional_kwargs={'refusal': None}, response_metadata={'token_usage': {'completion_tokens': 99, 'prompt_tokens': 158, 'total_tokens': 257, 'completion_tokens_details': {'accepted_prediction_tokens': 0, 'audio_tokens': 0, 'reasoning_tokens': 0, 'rejected_prediction_tokens': 0}, 'prompt_tokens_details': {'audio_tokens': 0, 'cached_tokens': 0}}, 'model_name': 'gpt-4.1-nano-2025-04-14', 'system_fingerprint': 'fp_7c233bf9d1', 'id': 'chatcmpl-CKwtznoy3opCQ4uo6BwEUlOJSNmO3', 'service_tier': 'default', 'finish_reason': 'stop', 'logprobs': None}, id='run--b88b4e49-820f-4236-b752-b76800e7091c-0', usage_metadata={'input_tokens': 158, 'output_tokens': 99, 'total_tokens': 257, 'input_token_details': {'audio': 0, 'cache_read': 0}, 'output_token_details': {'audio': 0, 'reasoning': 0}})]\n",
            "\n",
            "\n",
            "\n"
          ]
        }
      ],
      "source": [
        "inputs = {\"messages\" : [HumanMessage(content=\"What are Deep Research Agents?\")]}\n",
        "\n",
        "async for chunk in agent_with_helpfulness_check.astream(inputs, stream_mode=\"updates\"):\n",
        "    for node, values in chunk.items():\n",
        "        print(f\"Receiving update from node: '{node}'\")\n",
        "        print(values[\"messages\"])\n",
        "        print(\"\\n\\n\")"
      ]
    },
    {
      "cell_type": "markdown",
      "metadata": {
        "id": "yVmZPs6lnpsM"
      },
      "source": [
        "## Part 3: LangGraph for the \"Patterns\" of GenAI\n",
        "\n",
        "### Task 4: Helpfulness Check of Gen AI Pattern Descriptions\n",
        "\n",
        "Let's ask our system about the 3 main patterns in Generative AI:\n",
        "\n",
        "1. Context Engineering\n",
        "2. Fine-tuning\n",
        "3. Agents"
      ]
    },
    {
      "cell_type": "code",
      "execution_count": 30,
      "metadata": {
        "id": "ZoLl7GlXoae-"
      },
      "outputs": [],
      "source": [
        "patterns = [\"Context Engineering\", \"Fine-tuning\", \"LLM-based agents\"]"
      ]
    },
    {
      "cell_type": "code",
      "execution_count": 31,
      "metadata": {
        "colab": {
          "base_uri": "https://localhost:8080/"
        },
        "id": "Zkh0YJuCp3Zl",
        "outputId": "d847426e-71b3-47e6-b1ae-351a78d68d1e"
      },
      "outputs": [
        {
          "name": "stdout",
          "output_type": "stream",
          "text": [
            "Context Engineering is a relatively new interdisciplinary field that focuses on designing, managing, and optimizing the context in which systems, especially artificial intelligence and software applications, operate. It involves understanding and shaping the environment, circumstances, and background information that influence how systems behave and interact with users. The goal is to improve system performance, user experience, and decision-making by carefully engineering the context.\n",
            "\n",
            "The concept of Context Engineering gained prominence in the early 2020s, particularly with the rise of advanced AI systems that require nuanced understanding of situational factors. It became a key area of interest as researchers and developers sought ways to make AI more adaptable, context-aware, and aligned with human needs.\n",
            "\n",
            "Would you like me to find more detailed or specific information about its origins and development?\n",
            "\n",
            "\n",
            "\n",
            "Fine-tuning is a machine learning technique used to adapt a pre-trained model to a specific task or dataset. Instead of training a model from scratch, which can be resource-intensive and time-consuming, fine-tuning involves taking an existing model that has already learned general features from a large dataset and then further training it on a smaller, task-specific dataset. This process helps the model specialize and improve its performance on the target task while leveraging the knowledge it has already acquired.\n",
            "\n",
            "Fine-tuning has been a common practice in deep learning for many years, especially in natural language processing and computer vision. However, it gained significant prominence and broke onto the scene in a big way with the rise of large pre-trained models like BERT (Bidirectional Encoder Representations from Transformers) in 2018 and GPT (Generative Pre-trained Transformer) models. These models demonstrated that large-scale pre-training followed by fine-tuning could achieve state-of-the-art results across a wide range of tasks, revolutionizing the field.\n",
            "\n",
            "Would you like me to provide more detailed historical context or specific examples of its impact?\n",
            "\n",
            "\n",
            "\n",
            "LLM-based agents are intelligent systems that leverage large language models (LLMs) to perform a variety of tasks, such as understanding natural language, generating human-like responses, and making decisions or taking actions based on the input they receive. These agents can be used in applications like chatbots, virtual assistants, automated customer support, and more complex decision-making systems.\n",
            "\n",
            "The concept of LLM-based agents gained significant attention and broke onto the scene around 2020-2021, coinciding with the development and release of large-scale language models like OpenAI's GPT-3 in 2020. GPT-3's impressive capabilities demonstrated the potential of large language models to serve as the core component of autonomous agents capable of performing complex language understanding and generation tasks.\n",
            "\n",
            "Since then, the field has rapidly evolved, with numerous advancements in model architectures, training techniques, and applications, making LLM-based agents a prominent area of research and industry deployment.\n",
            "\n",
            "Would you like more detailed information on the history, technical aspects, or recent developments of LLM-based agents?\n",
            "\n",
            "\n",
            "\n"
          ]
        }
      ],
      "source": [
        "for pattern in patterns:\n",
        "  what_is_string = f\"What is {pattern} and when did it break onto the scene??\"\n",
        "  inputs = {\"messages\" : [HumanMessage(content=what_is_string)]}\n",
        "  messages = agent_with_helpfulness_check.invoke(inputs)\n",
        "  print(messages[\"messages\"][-1].content)\n",
        "  print(\"\\n\\n\")"
      ]
    }
  ],
  "metadata": {
    "colab": {
      "provenance": []
    },
    "kernelspec": {
      "display_name": ".venv",
      "language": "python",
      "name": "python3"
    },
    "language_info": {
      "codemirror_mode": {
        "name": "ipython",
        "version": 3
      },
      "file_extension": ".py",
      "mimetype": "text/x-python",
      "name": "python",
      "nbconvert_exporter": "python",
      "pygments_lexer": "ipython3",
      "version": "3.13.7"
    }
  },
  "nbformat": 4,
  "nbformat_minor": 0
}
