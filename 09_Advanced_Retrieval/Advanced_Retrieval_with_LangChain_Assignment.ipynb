{
  "cells": [
    {
      "cell_type": "markdown",
      "metadata": {
        "id": "e-IqJAMkwnCF"
      },
      "source": [
        "# Advanced Retrieval with LangChain\n",
        "\n",
        "In the following notebook, we'll explore various methods of advanced retrieval using LangChain!\n",
        "\n",
        "We'll touch on:\n",
        "\n",
        "- Naive Retrieval\n",
        "- Best-Matching 25 (BM25)\n",
        "- Multi-Query Retrieval\n",
        "- Parent-Document Retrieval\n",
        "- Contextual Compression (a.k.a. Rerank)\n",
        "- Ensemble Retrieval\n",
        "- Semantic chunking\n",
        "\n",
        "We'll also discuss how these methods impact performance on our set of documents with a simple RAG chain.\n",
        "\n",
        "There will be two breakout rooms:\n",
        "\n",
        "- 🤝 Breakout Room Part #1\n",
        "  - Task 1: Getting Dependencies!\n",
        "  - Task 2: Data Collection and Preparation\n",
        "  - Task 3: Setting Up QDrant!\n",
        "  - Task 4-10: Retrieval Strategies\n",
        "- 🤝 Breakout Room Part #2\n",
        "  - Activity: Evaluate with Ragas"
      ]
    },
    {
      "cell_type": "markdown",
      "metadata": {
        "id": "4rKP3hgHivpe"
      },
      "source": [
        "# 🤝 Breakout Room Part #1"
      ]
    },
    {
      "cell_type": "markdown",
      "metadata": {
        "id": "3xes8oT-xHN7"
      },
      "source": [
        "## Task 1: Getting Dependencies!\n",
        "\n",
        "We're going to need a few specific LangChain community packages, like OpenAI (for our [LLM](https://platform.openai.com/docs/models) and [Embedding Model](https://platform.openai.com/docs/guides/embeddings)) and Cohere (for our [Reranker](https://cohere.com/rerank))."
      ]
    },
    {
      "cell_type": "markdown",
      "metadata": {
        "id": "Z7OHJXzfyJyA"
      },
      "source": [
        "We'll also provide our OpenAI key, as well as our Cohere API key."
      ]
    },
    {
      "cell_type": "code",
      "execution_count": 88,
      "metadata": {
        "colab": {
          "base_uri": "https://localhost:8080/"
        },
        "id": "7LttlDQUYgSI",
        "outputId": "9dca95ab-4d02-4adf-ec3f-cb831326dc54"
      },
      "outputs": [],
      "source": [
        "import os\n",
        "import getpass\n",
        "\n",
        "os.environ[\"OPENAI_API_KEY\"] = getpass.getpass(\"Enter your OpenAI API Key:\")"
      ]
    },
    {
      "cell_type": "code",
      "execution_count": 89,
      "metadata": {
        "colab": {
          "base_uri": "https://localhost:8080/"
        },
        "id": "3iUahNiJyQbv",
        "outputId": "78bf06ef-2ee8-46c3-f73d-27958b4dd79b"
      },
      "outputs": [],
      "source": [
        "os.environ[\"COHERE_API_KEY\"] = getpass.getpass(\"Cohere API Key:\")"
      ]
    },
    {
      "cell_type": "markdown",
      "metadata": {
        "id": "mw304iAFyRtl"
      },
      "source": [
        "## Task 2: Data Collection and Preparation\n",
        "\n",
        "We'll be using our Use Case Data once again - this time the strutured data available through the CSV!"
      ]
    },
    {
      "cell_type": "markdown",
      "metadata": {
        "id": "A92NC2QZzCsi"
      },
      "source": [
        "### Data Preparation\n",
        "\n",
        "We want to make sure all our documents have the relevant metadata for the various retrieval strategies we're going to be applying today."
      ]
    },
    {
      "cell_type": "code",
      "execution_count": 90,
      "metadata": {
        "id": "GshBjVRJZ6p8"
      },
      "outputs": [],
      "source": [
        "from langchain_community.document_loaders.csv_loader import CSVLoader\n",
        "from datetime import datetime, timedelta\n",
        "\n",
        "loader = CSVLoader(\n",
        "    file_path=f\"./data/Projects_with_Domains.csv\",\n",
        "    metadata_columns=[\n",
        "      \"Project Title\",\n",
        "      \"Project Domain\",\n",
        "      \"Secondary Domain\",\n",
        "      \"Description\",\n",
        "      \"Judge Comments\",\n",
        "      \"Score\",\n",
        "      \"Project Name\",\n",
        "      \"Judge Score\"\n",
        "    ]\n",
        ")\n",
        "\n",
        "synthetic_usecase_data = loader.load()\n",
        "\n",
        "for doc in synthetic_usecase_data:\n",
        "    doc.page_content = doc.metadata[\"Description\"]"
      ]
    },
    {
      "cell_type": "markdown",
      "metadata": {
        "id": "9gQphb6y0C0S"
      },
      "source": [
        "Let's look at an example document to see if everything worked as expected!"
      ]
    },
    {
      "cell_type": "code",
      "execution_count": 91,
      "metadata": {
        "colab": {
          "base_uri": "https://localhost:8080/"
        },
        "id": "PkUkCf7DaMiq",
        "outputId": "e90bd5da-1d87-423b-838a-cb6efc16b199"
      },
      "outputs": [
        {
          "data": {
            "text/plain": [
              "Document(metadata={'source': './data/Projects_with_Domains.csv', 'row': 0, 'Project Title': 'InsightAI 1', 'Project Domain': 'Security', 'Secondary Domain': 'Finance / FinTech', 'Description': 'A low-latency inference system for multimodal agents in autonomous systems.', 'Judge Comments': 'Technically ambitious and well-executed.', 'Score': '85', 'Project Name': 'Project Aurora', 'Judge Score': '9.5'}, page_content='A low-latency inference system for multimodal agents in autonomous systems.')"
            ]
          },
          "execution_count": 91,
          "metadata": {},
          "output_type": "execute_result"
        }
      ],
      "source": [
        "synthetic_usecase_data[0]"
      ]
    },
    {
      "cell_type": "markdown",
      "metadata": {
        "id": "lWaQpdHl0Gzc"
      },
      "source": [
        "## Task 3: Setting up QDrant!\n",
        "\n",
        "Now that we have our documents, let's create a QDrant VectorStore with the collection name \"Synthetic_Usecases\".\n",
        "\n",
        "We'll leverage OpenAI's [`text-embedding-3-small`](https://openai.com/blog/new-embedding-models-and-api-updates) because it's a very powerful (and low-cost) embedding model.\n",
        "\n",
        "> NOTE: We'll be creating additional vectorstores where necessary, but this pattern is still extremely useful."
      ]
    },
    {
      "cell_type": "code",
      "execution_count": 92,
      "metadata": {
        "id": "NT8ihRJbYmMT"
      },
      "outputs": [],
      "source": [
        "from langchain_community.vectorstores import Qdrant\n",
        "from langchain_openai import OpenAIEmbeddings\n",
        "\n",
        "embeddings = OpenAIEmbeddings(model=\"text-embedding-3-small\")\n",
        "\n",
        "vectorstore = Qdrant.from_documents(\n",
        "    synthetic_usecase_data,\n",
        "    embeddings,\n",
        "    location=\":memory:\",\n",
        "    collection_name=\"Synthetic_Usecases\"\n",
        ")"
      ]
    },
    {
      "cell_type": "markdown",
      "metadata": {
        "id": "-x2SS4Rh0hiN"
      },
      "source": [
        "## Task 4: Naive RAG Chain\n",
        "\n",
        "Since we're focusing on the \"R\" in RAG today - we'll create our Retriever first."
      ]
    },
    {
      "cell_type": "markdown",
      "metadata": {
        "id": "NEH7X5Ai08FH"
      },
      "source": [
        "### R - Retrieval\n",
        "\n",
        "This naive retriever will simply look at each review as a document, and use cosine-similarity to fetch the 10 most relevant documents.\n",
        "\n",
        "> NOTE: We're choosing `10` as our `k` here to provide enough documents for our reranking process later"
      ]
    },
    {
      "cell_type": "code",
      "execution_count": 93,
      "metadata": {
        "id": "GFDPrNBtb72o"
      },
      "outputs": [],
      "source": [
        "naive_retriever = vectorstore.as_retriever(search_kwargs={\"k\" : 10})"
      ]
    },
    {
      "cell_type": "markdown",
      "metadata": {
        "id": "MbBhyQjz06dx"
      },
      "source": [
        "### A - Augmented\n",
        "\n",
        "We're going to go with a standard prompt for our simple RAG chain today! Nothing fancy here, we want this to mostly be about the Retrieval process."
      ]
    },
    {
      "cell_type": "code",
      "execution_count": 94,
      "metadata": {
        "id": "7uSz-Dbqcoki"
      },
      "outputs": [],
      "source": [
        "from langchain_core.prompts import ChatPromptTemplate\n",
        "\n",
        "RAG_TEMPLATE = \"\"\"\\\n",
        "You are a helpful and kind assistant. Use the context provided below to answer the question.\n",
        "\n",
        "If you do not know the answer, or are unsure, say you don't know.\n",
        "\n",
        "Query:\n",
        "{question}\n",
        "\n",
        "Context:\n",
        "{context}\n",
        "\"\"\"\n",
        "\n",
        "rag_prompt = ChatPromptTemplate.from_template(RAG_TEMPLATE)"
      ]
    },
    {
      "cell_type": "markdown",
      "metadata": {
        "id": "BlRzpb231GGJ"
      },
      "source": [
        "### G - Generation\n",
        "\n",
        "We're going to leverage `gpt-4.1-nano` as our LLM today, as - again - we want this to largely be about the Retrieval process."
      ]
    },
    {
      "cell_type": "code",
      "execution_count": 95,
      "metadata": {
        "id": "c-1t9H60dJLg"
      },
      "outputs": [],
      "source": [
        "from langchain_openai import ChatOpenAI\n",
        "\n",
        "chat_model = ChatOpenAI(model=\"gpt-4.1-nano\")"
      ]
    },
    {
      "cell_type": "markdown",
      "metadata": {
        "id": "mg3QRGzA1M2x"
      },
      "source": [
        "### LCEL RAG Chain\n",
        "\n",
        "We're going to use LCEL to construct our chain.\n",
        "\n",
        "> NOTE: This chain will be exactly the same across the various examples with the exception of our Retriever!"
      ]
    },
    {
      "cell_type": "code",
      "execution_count": 96,
      "metadata": {
        "id": "0bvstS7mdOW3"
      },
      "outputs": [],
      "source": [
        "from langchain_core.runnables import RunnablePassthrough\n",
        "from operator import itemgetter\n",
        "from langchain_core.output_parsers import StrOutputParser\n",
        "\n",
        "naive_retrieval_chain = (\n",
        "    # INVOKE CHAIN WITH: {\"question\" : \"<<SOME USER QUESTION>>\"}\n",
        "    # \"question\" : populated by getting the value of the \"question\" key\n",
        "    # \"context\"  : populated by getting the value of the \"question\" key and chaining it into the base_retriever\n",
        "    {\"context\": itemgetter(\"question\") | naive_retriever, \"question\": itemgetter(\"question\")}\n",
        "    # \"context\"  : is assigned to a RunnablePassthrough object (will not be called or considered in the next step)\n",
        "    #              by getting the value of the \"context\" key from the previous step\n",
        "    | RunnablePassthrough.assign(context=itemgetter(\"context\"))\n",
        "    # \"response\" : the \"context\" and \"question\" values are used to format our prompt object and then piped\n",
        "    #              into the LLM and stored in a key called \"response\"\n",
        "    # \"context\"  : populated by getting the value of the \"context\" key from the previous step\n",
        "    | {\"response\": rag_prompt | chat_model, \"context\": itemgetter(\"context\")}\n",
        ")"
      ]
    },
    {
      "cell_type": "markdown",
      "metadata": {
        "id": "izKujhNb1ZG8"
      },
      "source": [
        "Let's see how this simple chain does on a few different prompts.\n",
        "\n",
        "> NOTE: You might think that we've cherry picked prompts that showcase the individual skill of each of the retrieval strategies - you'd be correct!"
      ]
    },
    {
      "cell_type": "code",
      "execution_count": 97,
      "metadata": {
        "colab": {
          "base_uri": "https://localhost:8080/",
          "height": 36
        },
        "id": "LI-5ueEddku9",
        "outputId": "7f3cec18-5f4e-41bb-cf71-51ba0be5388e"
      },
      "outputs": [
        {
          "data": {
            "text/plain": [
              "'Based on the provided data, the most common project domain appears to be \"Healthcare / MedTech,\" which is mentioned multiple times across different projects.'"
            ]
          },
          "execution_count": 97,
          "metadata": {},
          "output_type": "execute_result"
        }
      ],
      "source": [
        "naive_retrieval_chain.invoke({\"question\" : \"What is the most common project domain?\"})[\"response\"].content"
      ]
    },
    {
      "cell_type": "code",
      "execution_count": 98,
      "metadata": {
        "colab": {
          "base_uri": "https://localhost:8080/",
          "height": 36
        },
        "id": "43zdcdUydtXh",
        "outputId": "db874e67-f568-4ed1-b863-b7c17b387052"
      },
      "outputs": [
        {
          "data": {
            "text/plain": [
              "'Yes, there are usecases related to security. Specifically, the project titled \"MediMind 17\" focuses on security, as it involves a medical imaging solution aimed at improving early diagnosis through vision transformers.'"
            ]
          },
          "execution_count": 98,
          "metadata": {},
          "output_type": "execute_result"
        }
      ],
      "source": [
        "naive_retrieval_chain.invoke({\"question\" : \"Were there any usecases about security?\"})[\"response\"].content"
      ]
    },
    {
      "cell_type": "code",
      "execution_count": 99,
      "metadata": {
        "colab": {
          "base_uri": "https://localhost:8080/",
          "height": 70
        },
        "id": "lpG6rlvvvKFq",
        "outputId": "a1b330b0-628e-41be-d829-9c1d55e781f5"
      },
      "outputs": [
        {
          "data": {
            "text/plain": [
              "'The judges had varied comments about the fintech projects. For example, they described the project \"CreateFlow\" as \"Solid work with impressive real-world impact,\" and \"SkyForge\" as \"A clever solution with measurable environmental benefit.\" Similarly, \"GreenPulse\" was noted as \"Technically ambitious and well-executed,\" and \"DataWeave\" was praised for \"Excellent code quality and use of open-source libraries.\" Overall, the judges viewed the fintech projects positively, highlighting qualities such as impact, cleverness, technical ambition, and code quality.'"
            ]
          },
          "execution_count": 99,
          "metadata": {},
          "output_type": "execute_result"
        }
      ],
      "source": [
        "naive_retrieval_chain.invoke({\"question\" : \"What did judges have to say about the fintech projects?\"})[\"response\"].content"
      ]
    },
    {
      "cell_type": "markdown",
      "metadata": {
        "id": "jsbfQmbr1leg"
      },
      "source": [
        "Overall, this is not bad! Let's see if we can make it better!"
      ]
    },
    {
      "cell_type": "markdown",
      "metadata": {
        "id": "Ft1vt8HPR16w"
      },
      "source": [
        "## Task 5: Best-Matching 25 (BM25) Retriever\n",
        "\n",
        "Taking a step back in time - [BM25](https://www.nowpublishers.com/article/Details/INR-019) is based on [Bag-Of-Words](https://en.wikipedia.org/wiki/Bag-of-words_model) which is a sparse representation of text.\n",
        "\n",
        "In essence, it's a way to compare how similar two pieces of text are based on the words they both contain.\n",
        "\n",
        "This retriever is very straightforward to set-up! Let's see it happen down below!\n"
      ]
    },
    {
      "cell_type": "code",
      "execution_count": 100,
      "metadata": {
        "id": "qdF4wuj5R-cG"
      },
      "outputs": [],
      "source": [
        "from langchain_community.retrievers import BM25Retriever\n",
        "\n",
        "bm25_retriever = BM25Retriever.from_documents(synthetic_usecase_data)"
      ]
    },
    {
      "cell_type": "markdown",
      "metadata": {
        "id": "KIjJlBQ8drKH"
      },
      "source": [
        "We'll construct the same chain - only changing the retriever."
      ]
    },
    {
      "cell_type": "code",
      "execution_count": 101,
      "metadata": {
        "id": "WR15EQG7SLuw"
      },
      "outputs": [],
      "source": [
        "bm25_retrieval_chain = (\n",
        "    {\"context\": itemgetter(\"question\") | bm25_retriever, \"question\": itemgetter(\"question\")}\n",
        "    | RunnablePassthrough.assign(context=itemgetter(\"context\"))\n",
        "    | {\"response\": rag_prompt | chat_model, \"context\": itemgetter(\"context\")}\n",
        ")"
      ]
    },
    {
      "cell_type": "markdown",
      "metadata": {
        "id": "0Gi-yXCDdvJk"
      },
      "source": [
        "Let's look at the responses!"
      ]
    },
    {
      "cell_type": "code",
      "execution_count": 102,
      "metadata": {
        "colab": {
          "base_uri": "https://localhost:8080/",
          "height": 53
        },
        "id": "oY9qzmm3SOrF",
        "outputId": "4d4f450f-5978-460f-f242-b32407868353"
      },
      "outputs": [
        {
          "data": {
            "text/plain": [
              "'Based on the provided data, the most common project domain is not explicitly stated in the sample, but from the examples given, the project domains include Productivity Assistants, Legal / Compliance, Data / Analytics, and Healthcare / MedTech. Since only a few samples are provided and they do not cover all projects in the dataset, I cannot determine with certainty which is the most common domain overall. However, if you have access to the full dataset or more information, I can help analyze that to identify the most common project domain.'"
            ]
          },
          "execution_count": 102,
          "metadata": {},
          "output_type": "execute_result"
        }
      ],
      "source": [
        "bm25_retrieval_chain.invoke({\"question\" : \"What is the most common project domain?\"})[\"response\"].content"
      ]
    },
    {
      "cell_type": "code",
      "execution_count": 103,
      "metadata": {
        "colab": {
          "base_uri": "https://localhost:8080/",
          "height": 36
        },
        "id": "igfinyneSQkh",
        "outputId": "9752d4a9-dd16-45b1-f63f-a76e93a05eb3"
      },
      "outputs": [
        {
          "data": {
            "text/plain": [
              "'Based on the provided context, there are no specific use cases related to security mentioned in the projects.'"
            ]
          },
          "execution_count": 103,
          "metadata": {},
          "output_type": "execute_result"
        }
      ],
      "source": [
        "bm25_retrieval_chain.invoke({\"question\" : \"Were there any usecases about security?\"})[\"response\"].content"
      ]
    },
    {
      "cell_type": "code",
      "execution_count": 104,
      "metadata": {
        "colab": {
          "base_uri": "https://localhost:8080/",
          "height": 53
        },
        "id": "w0H7pV_USSMQ",
        "outputId": "bdead654-3109-4143-9a30-e1d6ca8dc534"
      },
      "outputs": [
        {
          "data": {
            "text/plain": [
              "\"The judges' comments about the fintech projects indicate that they found them to be technically ambitious and well-executed.\""
            ]
          },
          "execution_count": 104,
          "metadata": {},
          "output_type": "execute_result"
        }
      ],
      "source": [
        "bm25_retrieval_chain.invoke({\"question\" : \"What did judges have to say about the fintech projects?\"})[\"response\"].content"
      ]
    },
    {
      "cell_type": "markdown",
      "metadata": {
        "id": "zvg5xHaUdxCl"
      },
      "source": [
        "It's not clear that this is better or worse, if only we had a way to test this (SPOILERS: We do, the second half of the notebook will cover this)"
      ]
    },
    {
      "cell_type": "markdown",
      "metadata": {},
      "source": [
        "#### ❓ Question #1:\n",
        "\n",
        "Give an example query where BM25 is better than embeddings and justify your answer.\n",
        "\n",
        "##### ✅ Answer\n",
        "\n",
        "BM25 uses exact matching technique which is helpful in trouble shooting error codes for ex: login errors, API end point errors, troubleshooting syntax validation errors and key word based searches like the node name or function calling specifics from the logs. \n",
        "\n",
        "Some examples are queries :\n",
        "Howmany times connection timeout error occured?\n",
        "What is the chat_model used?\n"
      ]
    },
    {
      "cell_type": "markdown",
      "metadata": {
        "id": "Q-dcbFn2vpZF"
      },
      "source": [
        "## Task 6: Contextual Compression (Using Reranking)\n",
        "\n",
        "Contextual Compression is a fairly straightforward idea: We want to \"compress\" our retrieved context into just the most useful bits.\n",
        "\n",
        "There are a few ways we can achieve this - but we're going to look at a specific example called reranking.\n",
        "\n",
        "The basic idea here is this:\n",
        "\n",
        "- We retrieve lots of documents that are very likely related to our query vector\n",
        "- We \"compress\" those documents into a smaller set of *more* related documents using a reranking algorithm.\n",
        "\n",
        "We'll be leveraging Cohere's Rerank model for our reranker today!\n",
        "\n",
        "All we need to do is the following:\n",
        "\n",
        "- Create a basic retriever\n",
        "- Create a compressor (reranker, in this case)\n",
        "\n",
        "That's it!\n",
        "\n",
        "Let's see it in the code below!"
      ]
    },
    {
      "cell_type": "code",
      "execution_count": 105,
      "metadata": {
        "id": "psHvO2K1v_ZQ"
      },
      "outputs": [],
      "source": [
        "from langchain.retrievers.contextual_compression import ContextualCompressionRetriever\n",
        "from langchain_cohere import CohereRerank\n",
        "\n",
        "compressor = CohereRerank(model=\"rerank-v3.5\")\n",
        "compression_retriever = ContextualCompressionRetriever(\n",
        "    base_compressor=compressor, base_retriever=naive_retriever\n",
        ")"
      ]
    },
    {
      "cell_type": "markdown",
      "metadata": {
        "id": "_TA9RB2x-j7P"
      },
      "source": [
        "Let's create our chain again, and see how this does!"
      ]
    },
    {
      "cell_type": "code",
      "execution_count": 106,
      "metadata": {
        "id": "1BXqmxvHwX6T"
      },
      "outputs": [],
      "source": [
        "contextual_compression_retrieval_chain = (\n",
        "    {\"context\": itemgetter(\"question\") | compression_retriever, \"question\": itemgetter(\"question\")}\n",
        "    | RunnablePassthrough.assign(context=itemgetter(\"context\"))\n",
        "    | {\"response\": rag_prompt | chat_model, \"context\": itemgetter(\"context\")}\n",
        ")"
      ]
    },
    {
      "cell_type": "code",
      "execution_count": 107,
      "metadata": {
        "colab": {
          "base_uri": "https://localhost:8080/",
          "height": 36
        },
        "id": "V3iGpokswcBb",
        "outputId": "f15d2aa1-5e8b-417d-f623-eb835d072e59"
      },
      "outputs": [
        {
          "data": {
            "text/plain": [
              "'Based on the provided data, the most common project domain appears to be \"Security,\" as it is mentioned explicitly in the context of the first project. However, since only a few projects are shown in the snippet, I don\\'t have complete information about all project domains. If this pattern continues in the full dataset, then \"Security\" might be the most common. \\n\\nIf you\\'d like a definitive answer, I recommend analyzing the entire dataset for the frequency of each domain.'"
            ]
          },
          "execution_count": 107,
          "metadata": {},
          "output_type": "execute_result"
        }
      ],
      "source": [
        "contextual_compression_retrieval_chain.invoke({\"question\" : \"What is the most common project domain?\"})[\"response\"].content"
      ]
    },
    {
      "cell_type": "code",
      "execution_count": 108,
      "metadata": {
        "colab": {
          "base_uri": "https://localhost:8080/",
          "height": 53
        },
        "id": "7u_k0i4OweUd",
        "outputId": "be5fccc8-2352-4189-c524-bbeaa28cf799"
      },
      "outputs": [
        {
          "data": {
            "text/plain": [
              "'Based on the provided context, there are no specific use cases related to security. The use cases mentioned focus on federated learning to improve privacy in healthcare applications, but security itself is not explicitly discussed.'"
            ]
          },
          "execution_count": 108,
          "metadata": {},
          "output_type": "execute_result"
        }
      ],
      "source": [
        "contextual_compression_retrieval_chain.invoke({\"question\" : \"Were there any usecases about security?\"})[\"response\"].content"
      ]
    },
    {
      "cell_type": "code",
      "execution_count": 109,
      "metadata": {
        "colab": {
          "base_uri": "https://localhost:8080/",
          "height": 70
        },
        "id": "zn1EqaGqweXN",
        "outputId": "42bc5972-4164-46eb-f49d-4272f39bb89b"
      },
      "outputs": [
        {
          "data": {
            "text/plain": [
              "'Judges had positive comments about the fintech projects. For example, they praised \"Pathfinder 27\" for having excellent code quality and good use of open-source libraries. Overall, judges viewed the fintech projects favorably, highlighting their quality and promising features.'"
            ]
          },
          "execution_count": 109,
          "metadata": {},
          "output_type": "execute_result"
        }
      ],
      "source": [
        "contextual_compression_retrieval_chain.invoke({\"question\" : \"What did judges have to say about the fintech projects?\"})[\"response\"].content"
      ]
    },
    {
      "cell_type": "markdown",
      "metadata": {
        "id": "OEbT0g2S-mZ4"
      },
      "source": [
        "We'll need to rely on something like Ragas to help us get a better sense of how this is performing overall - but it \"feels\" better!"
      ]
    },
    {
      "cell_type": "markdown",
      "metadata": {
        "id": "qqbghrBEQNn5"
      },
      "source": [
        "## Task 7: Multi-Query Retriever\n",
        "\n",
        "Typically in RAG we have a single query - the one provided by the user.\n",
        "\n",
        "What if we had....more than one query!\n",
        "\n",
        "In essence, a Multi-Query Retriever works by:\n",
        "\n",
        "1. Taking the original user query and creating `n` number of new user queries using an LLM.\n",
        "2. Retrieving documents for each query.\n",
        "3. Using all unique retrieved documents as context\n",
        "\n",
        "So, how is it to set-up? Not bad! Let's see it down below!\n",
        "\n"
      ]
    },
    {
      "cell_type": "code",
      "execution_count": 110,
      "metadata": {
        "id": "pfM26ReXQjzU"
      },
      "outputs": [],
      "source": [
        "from langchain.retrievers.multi_query import MultiQueryRetriever\n",
        "\n",
        "multi_query_retriever = MultiQueryRetriever.from_llm(\n",
        "    retriever=naive_retriever, llm=chat_model\n",
        ") "
      ]
    },
    {
      "cell_type": "code",
      "execution_count": 111,
      "metadata": {
        "id": "1vRc129jQ5WW"
      },
      "outputs": [],
      "source": [
        "multi_query_retrieval_chain = (\n",
        "    {\"context\": itemgetter(\"question\") | multi_query_retriever, \"question\": itemgetter(\"question\")}\n",
        "    | RunnablePassthrough.assign(context=itemgetter(\"context\"))\n",
        "    | {\"response\": rag_prompt | chat_model, \"context\": itemgetter(\"context\")}\n",
        ")"
      ]
    },
    {
      "cell_type": "code",
      "execution_count": 112,
      "metadata": {
        "colab": {
          "base_uri": "https://localhost:8080/",
          "height": 53
        },
        "id": "CGgNuOb3Q3M9",
        "outputId": "c5273ecf-da35-40b8-fbdb-0f8beab425f7"
      },
      "outputs": [
        {
          "data": {
            "text/plain": [
              "'The most common project domain in the provided data is \"Healthcare / MedTech,\" which appears multiple times among the sample projects.'"
            ]
          },
          "execution_count": 112,
          "metadata": {},
          "output_type": "execute_result"
        }
      ],
      "source": [
        "multi_query_retrieval_chain.invoke({\"question\" : \"What is the most common project domain?\"})[\"response\"].content"
      ]
    },
    {
      "cell_type": "code",
      "execution_count": 113,
      "metadata": {
        "colab": {
          "base_uri": "https://localhost:8080/",
          "height": 36
        },
        "id": "aAlSthxrRDBC",
        "outputId": "230ff807-23ae-4d25-8d11-cfdbed0b77cb"
      },
      "outputs": [
        {
          "data": {
            "text/plain": [
              "'Yes, there were use cases related to security. Specifically, one project named \"SecureNest\" involves a document summarization and retrieval system designed for enterprise knowledge bases, which relates to legal and compliance security aspects.'"
            ]
          },
          "execution_count": 113,
          "metadata": {},
          "output_type": "execute_result"
        }
      ],
      "source": [
        "multi_query_retrieval_chain.invoke({\"question\" : \"Were there any usecases about security?\"})[\"response\"].content"
      ]
    },
    {
      "cell_type": "code",
      "execution_count": 114,
      "metadata": {
        "colab": {
          "base_uri": "https://localhost:8080/",
          "height": 88
        },
        "id": "Uv1mpCK8REs4",
        "outputId": "00fbc22a-ed9b-4613-9695-0b179e3f8369"
      },
      "outputs": [
        {
          "data": {
            "text/plain": [
              "'The judges\\' comments on the fintech projects ranged from highlighting promising ideas with robust validation and impressive real-world impact to noting strong technical maturity and scalability. Specific remarks include:\\n\\n- \"Promising idea with robust experimental validation.\"\\n- \"Solid work with impressive real-world impact.\"\\n- \"Technically ambitious and well-executed.\"\\n- \"Strong quantitative results; add qualitative analysis next time.\"\\n- \"Conceptually strong but results need more benchmarking.\"\\n\\nOverall, judges recognized the projects for their technical quality, potential for impact, and innovative approaches, with some suggestions for further benchmarking and analysis.'"
            ]
          },
          "execution_count": 114,
          "metadata": {},
          "output_type": "execute_result"
        }
      ],
      "source": [
        "multi_query_retrieval_chain.invoke({\"question\" : \"What did judges have to say about the fintech projects?\"})[\"response\"].content"
      ]
    },
    {
      "cell_type": "markdown",
      "metadata": {},
      "source": [
        "#### ❓ Question #2:\n",
        "\n",
        "Explain how generating multiple reformulations of a user query can improve recall.\n",
        "\n",
        "##### ✅ Answer\n",
        "\n",
        "Query reformulation improves search coverage by generating multiple variations of a user's original query to account for synonyms, vocabulary mismatches, and both technical and general terminology across different domains. By retrieving context for all these query variations and synthesizing the results, the system achieves better coverage than simply answering the original question alone. This approach ensures that relevant documents using different terminology are captured, preventing important information from being missed due to vocabulary differences between the user's query and the document content.\n",
        "\n"
      ]
    },
    {
      "cell_type": "markdown",
      "metadata": {
        "id": "EDEawBf_d_3G"
      },
      "source": [
        "## Task 8: Parent Document Retriever\n",
        "\n",
        "A \"small-to-big\" strategy - the Parent Document Retriever works based on a simple strategy:\n",
        "\n",
        "1. Each un-split \"document\" will be designated as a \"parent document\" (You could use larger chunks of document as well, but our data format allows us to consider the overall document as the parent chunk)\n",
        "2. Store those \"parent documents\" in a memory store (not a VectorStore)\n",
        "3. We will chunk each of those documents into smaller documents, and associate them with their respective parents, and store those in a VectorStore. We'll call those \"child chunks\".\n",
        "4. When we query our Retriever, we will do a similarity search comparing our query vector to the \"child chunks\".\n",
        "5. Instead of returning the \"child chunks\", we'll return their associated \"parent chunks\".\n",
        "\n",
        "Okay, maybe that was a few steps - but the basic idea is this:\n",
        "\n",
        "- Search for small documents\n",
        "- Return big documents\n",
        "\n",
        "The intuition is that we're likely to find the most relevant information by limiting the amount of semantic information that is encoded in each embedding vector - but we're likely to miss relevant surrounding context if we only use that information.\n",
        "\n",
        "Let's start by creating our \"parent documents\" and defining a `RecursiveCharacterTextSplitter`."
      ]
    },
    {
      "cell_type": "code",
      "execution_count": 115,
      "metadata": {
        "id": "qJ53JJuMd_ZH"
      },
      "outputs": [],
      "source": [
        "from langchain.retrievers import ParentDocumentRetriever\n",
        "from langchain.storage import InMemoryStore\n",
        "from langchain_text_splitters import RecursiveCharacterTextSplitter\n",
        "from qdrant_client import QdrantClient, models\n",
        "\n",
        "parent_docs = synthetic_usecase_data\n",
        "child_splitter = RecursiveCharacterTextSplitter(chunk_size=750)"
      ]
    },
    {
      "cell_type": "markdown",
      "metadata": {
        "id": "oOpXfVUH3gL3"
      },
      "source": [
        "We'll need to set up a new QDrant vectorstore - and we'll use another useful pattern to do so!\n",
        "\n",
        "> NOTE: We are manually defining our embedding dimension, you'll need to change this if you're using a different embedding model."
      ]
    },
    {
      "cell_type": "code",
      "execution_count": 116,
      "metadata": {
        "colab": {
          "base_uri": "https://localhost:8080/"
        },
        "id": "rzFc-_9HlGQ-",
        "outputId": "223662dd-c36f-42f7-d1b0-b086e571484e"
      },
      "outputs": [],
      "source": [
        "from langchain_qdrant import QdrantVectorStore\n",
        "\n",
        "client = QdrantClient(location=\":memory:\")\n",
        "\n",
        "client.create_collection(\n",
        "    collection_name=\"full_documents\",\n",
        "    vectors_config=models.VectorParams(size=1536, distance=models.Distance.COSINE)\n",
        ")\n",
        "\n",
        "parent_document_vectorstore = QdrantVectorStore(\n",
        "    collection_name=\"full_documents\", embedding=OpenAIEmbeddings(model=\"text-embedding-3-small\"), client=client\n",
        ")"
      ]
    },
    {
      "cell_type": "markdown",
      "metadata": {
        "id": "sf_g95FA3s6w"
      },
      "source": [
        "Now we can create our `InMemoryStore` that will hold our \"parent documents\" - and build our retriever!"
      ]
    },
    {
      "cell_type": "code",
      "execution_count": 117,
      "metadata": {
        "id": "BpWVjPf4fLUp"
      },
      "outputs": [],
      "source": [
        "store = InMemoryStore()\n",
        "\n",
        "parent_document_retriever = ParentDocumentRetriever(\n",
        "    vectorstore = parent_document_vectorstore,\n",
        "    docstore=store,\n",
        "    child_splitter=child_splitter,\n",
        ")"
      ]
    },
    {
      "cell_type": "markdown",
      "metadata": {
        "id": "KoYmSWfE32Zo"
      },
      "source": [
        "By default, this is empty as we haven't added any documents - let's add some now!"
      ]
    },
    {
      "cell_type": "code",
      "execution_count": 118,
      "metadata": {
        "id": "iQ2ZzfKigMZc"
      },
      "outputs": [],
      "source": [
        "parent_document_retriever.add_documents(parent_docs, ids=None)"
      ]
    },
    {
      "cell_type": "markdown",
      "metadata": {
        "id": "bI7Tip1335rE"
      },
      "source": [
        "We'll create the same chain we did before - but substitute our new `parent_document_retriever`."
      ]
    },
    {
      "cell_type": "code",
      "execution_count": 119,
      "metadata": {
        "id": "Qq_adt2KlSqp"
      },
      "outputs": [],
      "source": [
        "parent_document_retrieval_chain = (\n",
        "    {\"context\": itemgetter(\"question\") | parent_document_retriever, \"question\": itemgetter(\"question\")}\n",
        "    | RunnablePassthrough.assign(context=itemgetter(\"context\"))\n",
        "    | {\"response\": rag_prompt | chat_model, \"context\": itemgetter(\"context\")}\n",
        ")"
      ]
    },
    {
      "cell_type": "markdown",
      "metadata": {
        "id": "jNolUVQb4Apt"
      },
      "source": [
        "Let's give it a whirl!"
      ]
    },
    {
      "cell_type": "code",
      "execution_count": 120,
      "metadata": {
        "colab": {
          "base_uri": "https://localhost:8080/",
          "height": 70
        },
        "id": "TXB5i89Zly5W",
        "outputId": "94c240be-7c5b-4c58-9eee-56d93285a054"
      },
      "outputs": [
        {
          "data": {
            "text/plain": [
              "'Based on the provided data, the most common project domain appears to be \"Security,\" which is mentioned as the project domain for \"InsightAI 36.\" However, since the sample includes at least four projects with different domains and without data on the total number of projects, I cannot definitively determine the most common domain overall. \\n\\nIf you need a specific answer, please provide more data or clarify the scope.'"
            ]
          },
          "execution_count": 120,
          "metadata": {},
          "output_type": "execute_result"
        }
      ],
      "source": [
        "parent_document_retrieval_chain.invoke({\"question\" : \"What is the most common project domain?\"})[\"response\"].content"
      ]
    },
    {
      "cell_type": "code",
      "execution_count": 121,
      "metadata": {
        "colab": {
          "base_uri": "https://localhost:8080/",
          "height": 36
        },
        "id": "V5F1T-wNl3cg",
        "outputId": "9b81e72e-5db7-4b8a-b25b-400ea0df5335"
      },
      "outputs": [
        {
          "data": {
            "text/plain": [
              "'Based on the provided context, there are no specific use cases explicitly about security. The projects mainly focus on federated learning to improve privacy in healthcare applications, which relates to security and privacy but does not directly address security use cases.'"
            ]
          },
          "execution_count": 121,
          "metadata": {},
          "output_type": "execute_result"
        }
      ],
      "source": [
        "parent_document_retrieval_chain.invoke({\"question\" : \"Were there any usecases about security?\"})[\"response\"].content"
      ]
    },
    {
      "cell_type": "code",
      "execution_count": 122,
      "metadata": {
        "colab": {
          "base_uri": "https://localhost:8080/",
          "height": 70
        },
        "id": "ZqARszGzvGcG",
        "outputId": "8867f83c-db13-4db4-d57f-9bd51d32cd8a"
      },
      "outputs": [
        {
          "data": {
            "text/plain": [
              "'The judges had positive comments about the fintech projects. For example, one judge described a project as a \"clever solution with measurable environmental benefit,\" and another noted a project as being \"technically ambitious and well-executed.\" Overall, the judge comments highlighted the innovation and technical quality of the fintech projects.'"
            ]
          },
          "execution_count": 122,
          "metadata": {},
          "output_type": "execute_result"
        }
      ],
      "source": [
        "parent_document_retrieval_chain.invoke({\"question\" : \"What did judges have to say about the fintech projects?\"})[\"response\"].content"
      ]
    },
    {
      "cell_type": "markdown",
      "metadata": {
        "id": "B41cj42s4DPM"
      },
      "source": [
        "Overall, the performance *seems* largely the same. We can leverage a tool like [Ragas]() to more effectively answer the question about the performance."
      ]
    },
    {
      "cell_type": "markdown",
      "metadata": {
        "id": "VUrIBKl_TwS9"
      },
      "source": [
        "## Task 9: Ensemble Retriever\n",
        "\n",
        "In brief, an Ensemble Retriever simply takes 2, or more, retrievers and combines their retrieved documents based on a rank-fusion algorithm.\n",
        "\n",
        "In this case - we're using the [Reciprocal Rank Fusion](https://plg.uwaterloo.ca/~gvcormac/cormacksigir09-rrf.pdf) algorithm.\n",
        "\n",
        "Setting it up is as easy as providing a list of our desired retrievers - and the weights for each retriever."
      ]
    },
    {
      "cell_type": "code",
      "execution_count": 123,
      "metadata": {
        "id": "8j7jpZsKTxic"
      },
      "outputs": [],
      "source": [
        "from langchain.retrievers import EnsembleRetriever\n",
        "\n",
        "retriever_list = [bm25_retriever, naive_retriever, parent_document_retriever, compression_retriever, multi_query_retriever]\n",
        "equal_weighting = [1/len(retriever_list)] * len(retriever_list)\n",
        "\n",
        "ensemble_retriever = EnsembleRetriever(\n",
        "    retrievers=retriever_list, weights=equal_weighting\n",
        ")"
      ]
    },
    {
      "cell_type": "markdown",
      "metadata": {
        "id": "kpo9Psl5hhJ-"
      },
      "source": [
        "We'll pack *all* of these retrievers together in an ensemble."
      ]
    },
    {
      "cell_type": "code",
      "execution_count": 124,
      "metadata": {
        "id": "KZ__EZwpUKkd"
      },
      "outputs": [],
      "source": [
        "ensemble_retrieval_chain = (\n",
        "    {\"context\": itemgetter(\"question\") | ensemble_retriever, \"question\": itemgetter(\"question\")}\n",
        "    | RunnablePassthrough.assign(context=itemgetter(\"context\"))\n",
        "    | {\"response\": rag_prompt | chat_model, \"context\": itemgetter(\"context\")}\n",
        ")"
      ]
    },
    {
      "cell_type": "markdown",
      "metadata": {
        "id": "SSsvHpRMj24L"
      },
      "source": [
        "Let's look at our results!"
      ]
    },
    {
      "cell_type": "code",
      "execution_count": 125,
      "metadata": {
        "colab": {
          "base_uri": "https://localhost:8080/",
          "height": 70
        },
        "id": "0lMvqL88UQI-",
        "outputId": "d86dd5f7-0a13-4836-c0ce-cc4c431fd889"
      },
      "outputs": [
        {
          "data": {
            "text/plain": [
              "'The most common project domain in the provided data appears to be \"Legal / Compliance,\" as it is mentioned twice among the listed projects.'"
            ]
          },
          "execution_count": 125,
          "metadata": {},
          "output_type": "execute_result"
        }
      ],
      "source": [
        "ensemble_retrieval_chain.invoke({\"question\" : \"What is the most common project domain?\"})[\"response\"].content"
      ]
    },
    {
      "cell_type": "code",
      "execution_count": 126,
      "metadata": {
        "colab": {
          "base_uri": "https://localhost:8080/",
          "height": 53
        },
        "id": "MNFWLYECURI1",
        "outputId": "b17973b5-66a9-4481-97d5-880b5754b5c5"
      },
      "outputs": [
        {
          "data": {
            "text/plain": [
              "'Yes, there was at least one use case related to security. Specifically, the project titled \"MediMind 17\" falls under the Security domain and involves a medical imaging solution aimed at improving early diagnosis through vision transformers.'"
            ]
          },
          "execution_count": 126,
          "metadata": {},
          "output_type": "execute_result"
        }
      ],
      "source": [
        "ensemble_retrieval_chain.invoke({\"question\" : \"Were there any usecases about security?\"})[\"response\"].content"
      ]
    },
    {
      "cell_type": "code",
      "execution_count": 127,
      "metadata": {
        "colab": {
          "base_uri": "https://localhost:8080/",
          "height": 88
        },
        "id": "A7qbHfWgUR4c",
        "outputId": "f7373144-59ef-4fc7-b75d-ca00e7df881e"
      },
      "outputs": [
        {
          "data": {
            "text/plain": [
              "'Judges generally had positive comments about the fintech projects. For example, one project described as a \"Finance / FinTech\" project called DataWeave received praise for \"excellent code quality and use of open-source libraries.\" Another fintech project, DocuCheck, was noted as having a \"conceptually strong\" idea, although it needed more benchmarking results. Overall, the judges recognized the strength of these projects, highlighting aspects such as code quality, practicality, and potential for impact.'"
            ]
          },
          "execution_count": 127,
          "metadata": {},
          "output_type": "execute_result"
        }
      ],
      "source": [
        "ensemble_retrieval_chain.invoke({\"question\" : \"What did judges have to say about the fintech projects?\"})[\"response\"].content"
      ]
    },
    {
      "cell_type": "markdown",
      "metadata": {
        "id": "MopbkNJAXVaN"
      },
      "source": [
        "## Task 10: Semantic Chunking\n",
        "\n",
        "While this is not a retrieval method - it *is* an effective way of increasing retrieval performance on corpora that have clean semantic breaks in them.\n",
        "\n",
        "Essentially, Semantic Chunking is implemented by:\n",
        "\n",
        "1. Embedding all sentences in the corpus.\n",
        "2. Combining or splitting sequences of sentences based on their semantic similarity based on a number of [possible thresholding methods](https://python.langchain.com/docs/how_to/semantic-chunker/):\n",
        "  - `percentile`\n",
        "  - `standard_deviation`\n",
        "  - `interquartile`\n",
        "  - `gradient`\n",
        "3. Each sequence of related sentences is kept as a document!\n",
        "\n",
        "Let's see how to implement this!"
      ]
    },
    {
      "cell_type": "markdown",
      "metadata": {
        "id": "U9ciZbFEldv_"
      },
      "source": [
        "We'll use the `percentile` thresholding method for this example which will:\n",
        "\n",
        "Calculate all distances between sentences, and then break apart sequences of setences that exceed a given percentile among all distances."
      ]
    },
    {
      "cell_type": "code",
      "execution_count": 128,
      "metadata": {
        "id": "66EIEWiEYl5y"
      },
      "outputs": [],
      "source": [
        "from langchain_experimental.text_splitter import SemanticChunker\n",
        "\n",
        "semantic_chunker = SemanticChunker(\n",
        "    embeddings,\n",
        "    breakpoint_threshold_type=\"percentile\"\n",
        ")"
      ]
    },
    {
      "cell_type": "markdown",
      "metadata": {
        "id": "YqoKmz12mhRW"
      },
      "source": [
        "Now we can split our documents."
      ]
    },
    {
      "cell_type": "code",
      "execution_count": 129,
      "metadata": {
        "id": "ROcV7o68ZIq7"
      },
      "outputs": [],
      "source": [
        "semantic_documents = semantic_chunker.split_documents(synthetic_usecase_data[:20])"
      ]
    },
    {
      "cell_type": "markdown",
      "metadata": {
        "id": "L8-LNC-Xmjex"
      },
      "source": [
        "Let's create a new vector store."
      ]
    },
    {
      "cell_type": "code",
      "execution_count": 130,
      "metadata": {
        "id": "h3sl9QjyZhIe"
      },
      "outputs": [],
      "source": [
        "semantic_vectorstore = Qdrant.from_documents(\n",
        "    semantic_documents,\n",
        "    embeddings,\n",
        "    location=\":memory:\",\n",
        "    collection_name=\"Synthetic_Usecase_Data_Semantic_Chunks\"\n",
        ")"
      ]
    },
    {
      "cell_type": "markdown",
      "metadata": {
        "id": "Eh_r_-LHmmKn"
      },
      "source": [
        "We'll use naive retrieval for this example."
      ]
    },
    {
      "cell_type": "code",
      "execution_count": 131,
      "metadata": {
        "id": "odVyDUHwZftc"
      },
      "outputs": [],
      "source": [
        "semantic_retriever = semantic_vectorstore.as_retriever(search_kwargs={\"k\" : 10})"
      ]
    },
    {
      "cell_type": "markdown",
      "metadata": {
        "id": "Mkeiv_ojmp6G"
      },
      "source": [
        "Finally we can create our classic chain!"
      ]
    },
    {
      "cell_type": "code",
      "execution_count": 132,
      "metadata": {
        "id": "xWE_0J0mZveG"
      },
      "outputs": [],
      "source": [
        "semantic_retrieval_chain = (\n",
        "    {\"context\": itemgetter(\"question\") | semantic_retriever, \"question\": itemgetter(\"question\")}\n",
        "    | RunnablePassthrough.assign(context=itemgetter(\"context\"))\n",
        "    | {\"response\": rag_prompt | chat_model, \"context\": itemgetter(\"context\")}\n",
        ")"
      ]
    },
    {
      "cell_type": "markdown",
      "metadata": {
        "id": "R5pfjLQ3ms9_"
      },
      "source": [
        "And view the results!"
      ]
    },
    {
      "cell_type": "code",
      "execution_count": 133,
      "metadata": {
        "colab": {
          "base_uri": "https://localhost:8080/",
          "height": 70
        },
        "id": "0lN2j-e4Z0SD",
        "outputId": "ef483e21-7200-4dfc-b8bf-aed4f23587b2"
      },
      "outputs": [
        {
          "data": {
            "text/plain": [
              "'The most common project domain in the provided data is \"Developer Tools / DevEx,\" which appears multiple times across the listed projects.'"
            ]
          },
          "execution_count": 133,
          "metadata": {},
          "output_type": "execute_result"
        }
      ],
      "source": [
        "semantic_retrieval_chain.invoke({\"question\" : \"What is the most common project domain?\"})[\"response\"].content"
      ]
    },
    {
      "cell_type": "code",
      "execution_count": 134,
      "metadata": {
        "colab": {
          "base_uri": "https://localhost:8080/",
          "height": 53
        },
        "id": "xdqfBH1SZ3f9",
        "outputId": "ed62b2d1-7586-46cc-aaf4-c54192a56155"
      },
      "outputs": [
        {
          "data": {
            "text/plain": [
              "'Yes, there are use cases related to security in the provided data. Specifically, one project titled \"BioForge\" is described as a medical imaging solution improving early diagnosis through vision transformers, and it is listed under the \"Security\" domain with the secondary domain \"Legal / Compliance.\" Additionally, \"Project Aurora\" is a low-latency inference system for multimodal agents in autonomous systems, also categorized under \"Security.\"'"
            ]
          },
          "execution_count": 134,
          "metadata": {},
          "output_type": "execute_result"
        }
      ],
      "source": [
        "semantic_retrieval_chain.invoke({\"question\" : \"Were there any usecases about security?\"})[\"response\"].content"
      ]
    },
    {
      "cell_type": "code",
      "execution_count": 135,
      "metadata": {
        "colab": {
          "base_uri": "https://localhost:8080/",
          "height": 70
        },
        "id": "rAcAObZnZ4o6",
        "outputId": "3f1cade3-41e4-4e42-ef71-048dd18e5e3a"
      },
      "outputs": [
        {
          "data": {
            "text/plain": [
              "'Judges generally viewed the fintech-related projects positively. For example, one project called \"WealthifyAI\" was described as having a \"comprehensive and technically mature approach\" with a high score of 80. Another project, \"TrendLens,\" was praised as \"technically ambitious and well-executed\" and received a score of 92. A third project, \"AutoMate,\" was noted for being \"a forward-looking idea with solid supporting data\" and scored 94. Overall, the judges appreciated the technical depth, ambition, and potential impact of these fintech projects.'"
            ]
          },
          "execution_count": 135,
          "metadata": {},
          "output_type": "execute_result"
        }
      ],
      "source": [
        "semantic_retrieval_chain.invoke({\"question\" : \"What did judges have to say about the fintech projects?\"})[\"response\"].content"
      ]
    },
    {
      "cell_type": "markdown",
      "metadata": {},
      "source": [
        "#### ❓ Question #3:\n",
        "\n",
        "If sentences are short and highly repetitive (e.g., FAQs), how might semantic chunking behave, and how would you adjust the algorithm?\n",
        "\n",
        "\n"
      ]
    },
    {
      "cell_type": "markdown",
      "metadata": {},
      "source": [
        "\n",
        "\n",
        "##### ✅ Answer\n",
        "For FAQ documents using semantic chunking strategy, it might assume to keep the related content together like all the questions and answers. When the sentences are short, it becomes hard to provide context as the infromation is limited. This loss of context and over chunking can lead to scenarios such as the questions about the same topic can get split losing relevancy. \n",
        "\n",
        "Grouping related questions, adjusting embedding and chunking strategy could help with the better results. Also some instructions like don't split the answer and keeping content like question and its answer together might help."
      ]
    },
    {
      "cell_type": "markdown",
      "metadata": {
        "id": "xk2n3-pnVWDJ"
      },
      "source": [
        "# 🤝 Breakout Room Part #2"
      ]
    },
    {
      "cell_type": "markdown",
      "metadata": {
        "id": "2SkJLYwMVZkj"
      },
      "source": [
        "#### 🏗️ Activity #1\n",
        "\n",
        "Your task is to evaluate the various Retriever methods against eachother.\n",
        "\n",
        "You are expected to:\n",
        "\n",
        "1. Create a \"golden dataset\"\n",
        " - Use Synthetic Data Generation (powered by Ragas, or otherwise) to create this dataset\n",
        "2. Evaluate each retriever with *retriever specific* Ragas metrics\n",
        " - Semantic Chunking is not considered a retriever method and will not be required for marks, but you may find it useful to do a \"semantic chunking on\" vs. \"semantic chunking off\" comparision between them\n",
        "3. Compile these in a list and write a small paragraph about which is best for this particular data and why.\n",
        "\n",
        "Your analysis should factor in:\n",
        "  - Cost\n",
        "  - Latency\n",
        "  - Performance\n",
        "\n",
        "> NOTE: This is **NOT** required to be completed in class. Please spend time in your breakout rooms creating a plan before moving on to writing code."
      ]
    },
    {
      "cell_type": "markdown",
      "metadata": {
        "id": "TWAr16a5XMub"
      },
      "source": [
        "##### HINTS:\n",
        "\n",
        "- LangSmith provides detailed information about latency and cost."
      ]
    },
    {
      "cell_type": "code",
      "execution_count": 136,
      "metadata": {},
      "outputs": [
        {
          "name": "stderr",
          "output_type": "stream",
          "text": [
            "[nltk_data] Downloading package punkt to\n",
            "[nltk_data]     /Users/powertothefuture/nltk_data...\n",
            "[nltk_data]   Package punkt is already up-to-date!\n",
            "[nltk_data] Downloading package averaged_perceptron_tagger to\n",
            "[nltk_data]     /Users/powertothefuture/nltk_data...\n",
            "[nltk_data]   Package averaged_perceptron_tagger is already up-to-\n",
            "[nltk_data]       date!\n"
          ]
        }
      ],
      "source": [
        "## YOUR CODE HERE\n",
        "# import required libraries\n",
        "import os, getpass, nltk, pandas as pd, time, copy, matplotlib.pyplot as plt\n",
        "from uuid import uuid4\n",
        "from langchain_community.document_loaders import DirectoryLoader, PyMuPDFLoader\n",
        "from langchain_openai import ChatOpenAI, OpenAIEmbeddings\n",
        "from ragas import evaluate, EvaluationDataset, RunConfig\n",
        "from ragas.testset import TestsetGenerator\n",
        "from ragas.llms import LangchainLLMWrapper\n",
        "from ragas.embeddings import LangchainEmbeddingsWrapper\n",
        "from ragas.metrics import (\n",
        "    LLMContextRecall, Faithfulness, FactualCorrectness, ResponseRelevancy\n",
        ")\n",
        "from ragas.testset.synthesizers import SingleHopSpecificQuerySynthesizer\n",
        "\n",
        "from langchain.chains import RetrievalQA\n",
        "from langchain.vectorstores import FAISS\n",
        "from langchain.text_splitter import RecursiveCharacterTextSplitter\n",
        "from langchain.embeddings import OpenAIEmbeddings as LCOpenAIEmbeddings\n",
        "from langchain.retrievers import BM25Retriever\n",
        "from langchain.retrievers.document_compressors import LLMChainExtractor\n",
        "from langchain.retrievers import ContextualCompressionRetriever\n",
        "\n",
        "nltk.download('punkt')\n",
        "nltk.download('averaged_perceptron_tagger')\n",
        "\n",
        "os.environ[\"LANGCHAIN_TRACING_V2\"] = \"true\"\n",
        "os.environ[\"LANGCHAIN_API_KEY\"] = getpass.getpass(\"LangChain API Key:\")\n",
        "os.environ[\"OPENAI_API_KEY\"] = getpass.getpass(\"OpenAI API Key:\")\n",
        "os.environ[\"LANGCHAIN_PROJECT\"] = f\"AIM - SDG - {uuid4().hex[:8]}\"\n"
      ]
    },
    {
      "cell_type": "code",
      "execution_count": 137,
      "metadata": {},
      "outputs": [
        {
          "name": "stdout",
          "output_type": "stream",
          "text": [
            "Loaded 64 documents\n"
          ]
        }
      ],
      "source": [
        "# Load PDF documents from \"data/\" folder\n",
        "loader = DirectoryLoader(\"data/\", glob=\"*.pdf\", loader_cls=PyMuPDFLoader)\n",
        "docs = loader.load()\n",
        "print(f\"Loaded {len(docs)} documents\")"
      ]
    },
    {
      "cell_type": "code",
      "execution_count": 138,
      "metadata": {},
      "outputs": [
        {
          "name": "stdout",
          "output_type": "stream",
          "text": [
            "Created vectorstore with 152 chunks\n"
          ]
        }
      ],
      "source": [
        "#Split documents into chunks and create vectorstore\n",
        "\n",
        "text_splitter = RecursiveCharacterTextSplitter(chunk_size=1000, chunk_overlap=30)\n",
        "split_docs = text_splitter.split_documents(docs)\n",
        "\n",
        "lc_embedding = LCOpenAIEmbeddings(model=\"text-embedding-3-small\")\n",
        "vectorstore = FAISS.from_documents(split_docs, lc_embedding)\n",
        "\n",
        "print(f\"Created vectorstore with {len(split_docs)} chunks\")"
      ]
    },
    {
      "cell_type": "code",
      "execution_count": 139,
      "metadata": {},
      "outputs": [
        {
          "name": "stderr",
          "output_type": "stream",
          "text": [
            "/var/folders/tk/bgf_wkp116b2ywt2295ppgv80000gn/T/ipykernel_4233/2147537324.py:6: DeprecationWarning: LangchainLLMWrapper is deprecated and will be removed in a future version. Use the modern LLM providers instead: from ragas.llms.base import llm_factory; llm = llm_factory('gpt-4o-mini') or from ragas.llms.base import instructor_llm_factory; llm = instructor_llm_factory('openai', client=openai_client)\n",
            "  llm_wrapper = LangchainLLMWrapper(chat_model)\n",
            "/var/folders/tk/bgf_wkp116b2ywt2295ppgv80000gn/T/ipykernel_4233/2147537324.py:7: DeprecationWarning: LangchainEmbeddingsWrapper is deprecated and will be removed in a future version. Use the modern embedding providers instead: embedding_factory('openai', model='text-embedding-3-small', client=openai_client) or from ragas.embeddings import OpenAIEmbeddings, GoogleEmbeddings, HuggingFaceEmbeddings\n",
            "  embedding_wrapper = LangchainEmbeddingsWrapper(OpenAIEmbeddings(model=\"text-embedding-3-small\"))\n"
          ]
        },
        {
          "data": {
            "application/vnd.jupyter.widget-view+json": {
              "model_id": "7c01e3abc5e7437bbd7f93501ec7f60e",
              "version_major": 2,
              "version_minor": 0
            },
            "text/plain": [
              "Applying HeadlinesExtractor:   0%|          | 0/21 [00:00<?, ?it/s]"
            ]
          },
          "metadata": {},
          "output_type": "display_data"
        },
        {
          "data": {
            "application/vnd.jupyter.widget-view+json": {
              "model_id": "9cdf3da317fb4a7385ea370885b124c7",
              "version_major": 2,
              "version_minor": 0
            },
            "text/plain": [
              "Applying HeadlineSplitter:   0%|          | 0/64 [00:00<?, ?it/s]"
            ]
          },
          "metadata": {},
          "output_type": "display_data"
        },
        {
          "data": {
            "application/vnd.jupyter.widget-view+json": {
              "model_id": "ef09ef62367743b2b6dcdf0ad78df6ac",
              "version_major": 2,
              "version_minor": 0
            },
            "text/plain": [
              "Applying SummaryExtractor:   0%|          | 0/29 [00:00<?, ?it/s]"
            ]
          },
          "metadata": {},
          "output_type": "display_data"
        },
        {
          "name": "stderr",
          "output_type": "stream",
          "text": [
            "Property 'summary' already exists in node '39dd78'. Skipping!\n",
            "Property 'summary' already exists in node '4b02b2'. Skipping!\n",
            "Property 'summary' already exists in node '8e9271'. Skipping!\n",
            "Property 'summary' already exists in node '7700b2'. Skipping!\n",
            "Property 'summary' already exists in node '6c6835'. Skipping!\n",
            "Property 'summary' already exists in node 'efd661'. Skipping!\n",
            "Property 'summary' already exists in node 'e9a0f4'. Skipping!\n",
            "Property 'summary' already exists in node 'caea86'. Skipping!\n"
          ]
        },
        {
          "data": {
            "application/vnd.jupyter.widget-view+json": {
              "model_id": "c4e0224668474ce6a6cd5cd8e36bb465",
              "version_major": 2,
              "version_minor": 0
            },
            "text/plain": [
              "Applying CustomNodeFilter:   0%|          | 0/26 [00:00<?, ?it/s]"
            ]
          },
          "metadata": {},
          "output_type": "display_data"
        },
        {
          "data": {
            "application/vnd.jupyter.widget-view+json": {
              "model_id": "83f55fcff3144abe974e49af295233bb",
              "version_major": 2,
              "version_minor": 0
            },
            "text/plain": [
              "Applying EmbeddingExtractor:   0%|          | 0/29 [00:00<?, ?it/s]"
            ]
          },
          "metadata": {},
          "output_type": "display_data"
        },
        {
          "name": "stderr",
          "output_type": "stream",
          "text": [
            "Property 'summary_embedding' already exists in node '4b02b2'. Skipping!\n",
            "Property 'summary_embedding' already exists in node '8e9271'. Skipping!\n",
            "Property 'summary_embedding' already exists in node 'efd661'. Skipping!\n",
            "Property 'summary_embedding' already exists in node 'e9a0f4'. Skipping!\n",
            "Property 'summary_embedding' already exists in node '39dd78'. Skipping!\n",
            "Property 'summary_embedding' already exists in node '6c6835'. Skipping!\n",
            "Property 'summary_embedding' already exists in node '7700b2'. Skipping!\n",
            "Property 'summary_embedding' already exists in node 'caea86'. Skipping!\n"
          ]
        },
        {
          "data": {
            "application/vnd.jupyter.widget-view+json": {
              "model_id": "564b57e0f7a94bf3805fb6d49c22589e",
              "version_major": 2,
              "version_minor": 0
            },
            "text/plain": [
              "Applying ThemesExtractor:   0%|          | 0/18 [00:00<?, ?it/s]"
            ]
          },
          "metadata": {},
          "output_type": "display_data"
        },
        {
          "data": {
            "application/vnd.jupyter.widget-view+json": {
              "model_id": "fdafc8020d5047f2b7de10c0a42eaacb",
              "version_major": 2,
              "version_minor": 0
            },
            "text/plain": [
              "Applying NERExtractor:   0%|          | 0/18 [00:00<?, ?it/s]"
            ]
          },
          "metadata": {},
          "output_type": "display_data"
        },
        {
          "data": {
            "application/vnd.jupyter.widget-view+json": {
              "model_id": "695f44145c5c4f278d63e3c1e106845a",
              "version_major": 2,
              "version_minor": 0
            },
            "text/plain": [
              "Applying CosineSimilarityBuilder:   0%|          | 0/1 [00:00<?, ?it/s]"
            ]
          },
          "metadata": {},
          "output_type": "display_data"
        },
        {
          "data": {
            "application/vnd.jupyter.widget-view+json": {
              "model_id": "3506a3cb274c4b658d14738332806905",
              "version_major": 2,
              "version_minor": 0
            },
            "text/plain": [
              "Applying OverlapScoreBuilder:   0%|          | 0/1 [00:00<?, ?it/s]"
            ]
          },
          "metadata": {},
          "output_type": "display_data"
        },
        {
          "data": {
            "application/vnd.jupyter.widget-view+json": {
              "model_id": "dc6e85cfd73d4982bdfcfc32370aa4b7",
              "version_major": 2,
              "version_minor": 0
            },
            "text/plain": [
              "Generating personas:   0%|          | 0/3 [00:00<?, ?it/s]"
            ]
          },
          "metadata": {},
          "output_type": "display_data"
        },
        {
          "data": {
            "application/vnd.jupyter.widget-view+json": {
              "model_id": "a955492f6d534a0cb52f35de50a0839f",
              "version_major": 2,
              "version_minor": 0
            },
            "text/plain": [
              "Generating Scenarios:   0%|          | 0/1 [00:00<?, ?it/s]"
            ]
          },
          "metadata": {},
          "output_type": "display_data"
        },
        {
          "data": {
            "application/vnd.jupyter.widget-view+json": {
              "model_id": "9e727b637d1242e697a9fd0d95fd0867",
              "version_major": 2,
              "version_minor": 0
            },
            "text/plain": [
              "Generating Samples:   0%|          | 0/5 [00:00<?, ?it/s]"
            ]
          },
          "metadata": {},
          "output_type": "display_data"
        },
        {
          "name": "stdout",
          "output_type": "stream",
          "text": [
            "Generated 5 test samples\n"
          ]
        }
      ],
      "source": [
        "# Setup RAGAS test dataset generator\n",
        "from langchain_openai import ChatOpenAI\n",
        "\n",
        "chat_model = ChatOpenAI(model=\"gpt-4.1-nano\")\n",
        "\n",
        "llm_wrapper = LangchainLLMWrapper(chat_model)\n",
        "embedding_wrapper = LangchainEmbeddingsWrapper(OpenAIEmbeddings(model=\"text-embedding-3-small\"))\n",
        "\n",
        "query_distribution = [\n",
        "    (SingleHopSpecificQuerySynthesizer(llm=llm_wrapper), 1.0)\n",
        "]\n",
        "\n",
        "generator = TestsetGenerator(llm=llm_wrapper, embedding_model=embedding_wrapper)\n",
        "test_dataset = generator.generate_with_langchain_docs(\n",
        "    docs,\n",
        "    testset_size=5,\n",
        "    query_distribution=query_distribution\n",
        ")\n",
        "print(f\"Generated {len(test_dataset)} test samples\")"
      ]
    },
    {
      "cell_type": "code",
      "execution_count": 169,
      "metadata": {},
      "outputs": [],
      "source": [
        "import time\n",
        "import copy\n",
        "\n",
        "def evaluate_retriever(chain, dataset, name):\n",
        "    print(f\"\\nEvaluating {name}...\")\n",
        "    start_time = time.time()\n",
        "    \n",
        "    # Deep copy dataset so we don't mutate original data\n",
        "    eval_data = copy.deepcopy(dataset)\n",
        "\n",
        "    for row in eval_data:\n",
        "        user_input = str(row.eval_sample.user_input)  # Make sure it's a string\n",
        "        try:\n",
        "            # Use get_relevant_documents for retrievers like VectorStoreRetriever\n",
        "            if hasattr(chain, \"get_relevant_documents\"):\n",
        "                docs = chain.get_relevant_documents(user_input)\n",
        "                response_text = \"Retrieved documents\"\n",
        "            else:\n",
        "                # Fallback to invoke if chain supports it (e.g. chain, not retriever)\n",
        "                resp = chain.invoke({\"query\": user_input})\n",
        "                response_text = resp.get(\"result\", \"\")\n",
        "                docs = resp.get(\"source_documents\", [])\n",
        "\n",
        "            # Store response and retrieved contexts\n",
        "            row.eval_sample.response = response_text\n",
        "            row.eval_sample.retrieved_contexts = [doc.page_content for doc in docs]\n",
        "\n",
        "        except Exception as e:\n",
        "            print(f\"Error invoking chain on query '{user_input}': {e}\")\n",
        "            row.eval_sample.response = \"Error\"\n",
        "            row.eval_sample.retrieved_contexts = []\n",
        "\n",
        "    latency = time.time() - start_time\n",
        "\n",
        "    # Convert eval_data to pandas then EvaluationDataset\n",
        "    eval_dataset = EvaluationDataset.from_pandas(eval_data.to_pandas())\n",
        "\n",
        "    try:\n",
        "        result = evaluate(\n",
        "            dataset=eval_dataset,\n",
        "            metrics=[\n",
        "                LLMContextRecall(),\n",
        "                Faithfulness(),\n",
        "                FactualCorrectness(),\n",
        "                ResponseRelevancy()\n",
        "            ],\n",
        "            llm=llm_wrapper,\n",
        "            run_config=RunConfig(timeout=300)\n",
        "        )\n",
        "        print(f\"Evaluation results for {name}:\", result)\n",
        "        return {'name': name, 'metrics': result, 'latency': latency}\n",
        "\n",
        "    except Exception as e:\n",
        "        print(f\"Error during evaluation for {name}: {e}\")\n",
        "        return {'name': name, 'metrics': None, 'latency': latency, 'error': str(e)}\n"
      ]
    },
    {
      "cell_type": "code",
      "execution_count": 170,
      "metadata": {},
      "outputs": [
        {
          "name": "stdout",
          "output_type": "stream",
          "text": [
            "\n",
            "Evaluating naive...\n"
          ]
        },
        {
          "name": "stderr",
          "output_type": "stream",
          "text": [
            "/var/folders/tk/bgf_wkp116b2ywt2295ppgv80000gn/T/ipykernel_4233/3559652545.py:16: LangChainDeprecationWarning: The method `BaseRetriever.get_relevant_documents` was deprecated in langchain-core 0.1.46 and will be removed in 1.0. Use :meth:`~invoke` instead.\n",
            "  docs = chain.get_relevant_documents(user_input)\n"
          ]
        },
        {
          "data": {
            "application/vnd.jupyter.widget-view+json": {
              "model_id": "45588e8992784c15b9f6a302216c3528",
              "version_major": 2,
              "version_minor": 0
            },
            "text/plain": [
              "Evaluating:   0%|          | 0/20 [00:00<?, ?it/s]"
            ]
          },
          "metadata": {},
          "output_type": "display_data"
        },
        {
          "name": "stderr",
          "output_type": "stream",
          "text": [
            "LLM returned 1 generations instead of requested 3. Proceeding with 1 generations.\n",
            "LLM returned 1 generations instead of requested 3. Proceeding with 1 generations.\n",
            "LLM returned 1 generations instead of requested 3. Proceeding with 1 generations.\n",
            "LLM returned 1 generations instead of requested 3. Proceeding with 1 generations.\n"
          ]
        },
        {
          "name": "stdout",
          "output_type": "stream",
          "text": [
            "Evaluation results for naive: {'context_recall': 0.8000, 'faithfulness': 0.0000, 'factual_correctness(mode=f1)': 0.0000, 'answer_relevancy': 0.7331}\n",
            "\n",
            "Evaluating bm25...\n"
          ]
        },
        {
          "data": {
            "application/vnd.jupyter.widget-view+json": {
              "model_id": "a18bd4c655b24b989ea249da12a6bd6d",
              "version_major": 2,
              "version_minor": 0
            },
            "text/plain": [
              "Evaluating:   0%|          | 0/20 [00:00<?, ?it/s]"
            ]
          },
          "metadata": {},
          "output_type": "display_data"
        },
        {
          "name": "stderr",
          "output_type": "stream",
          "text": [
            "LLM returned 1 generations instead of requested 3. Proceeding with 1 generations.\n",
            "LLM returned 1 generations instead of requested 3. Proceeding with 1 generations.\n",
            "LLM returned 1 generations instead of requested 3. Proceeding with 1 generations.\n",
            "LLM returned 1 generations instead of requested 3. Proceeding with 1 generations.\n",
            "LLM returned 1 generations instead of requested 3. Proceeding with 1 generations.\n"
          ]
        },
        {
          "name": "stdout",
          "output_type": "stream",
          "text": [
            "Evaluation results for bm25: {'context_recall': 0.8000, 'faithfulness': 0.0000, 'factual_correctness(mode=f1)': 0.0000, 'answer_relevancy': 0.7332}\n",
            "\n",
            "Evaluating compression...\n"
          ]
        },
        {
          "data": {
            "application/vnd.jupyter.widget-view+json": {
              "model_id": "a0bc2c5ac7da413e971387b088b4e5de",
              "version_major": 2,
              "version_minor": 0
            },
            "text/plain": [
              "Evaluating:   0%|          | 0/20 [00:00<?, ?it/s]"
            ]
          },
          "metadata": {},
          "output_type": "display_data"
        },
        {
          "name": "stderr",
          "output_type": "stream",
          "text": [
            "LLM returned 1 generations instead of requested 3. Proceeding with 1 generations.\n",
            "LLM returned 1 generations instead of requested 3. Proceeding with 1 generations.\n",
            "LLM returned 1 generations instead of requested 3. Proceeding with 1 generations.\n",
            "LLM returned 1 generations instead of requested 3. Proceeding with 1 generations.\n",
            "LLM returned 1 generations instead of requested 3. Proceeding with 1 generations.\n"
          ]
        },
        {
          "name": "stdout",
          "output_type": "stream",
          "text": [
            "Evaluation results for compression: {'context_recall': 0.7000, 'faithfulness': 0.1000, 'factual_correctness(mode=f1)': 0.0000, 'answer_relevancy': 0.7336}\n",
            "\n",
            "Evaluating multi_query...\n"
          ]
        },
        {
          "data": {
            "application/vnd.jupyter.widget-view+json": {
              "model_id": "5a605d8b7ff441db877ccaa2075e7919",
              "version_major": 2,
              "version_minor": 0
            },
            "text/plain": [
              "Evaluating:   0%|          | 0/20 [00:00<?, ?it/s]"
            ]
          },
          "metadata": {},
          "output_type": "display_data"
        },
        {
          "name": "stderr",
          "output_type": "stream",
          "text": [
            "LLM returned 1 generations instead of requested 3. Proceeding with 1 generations.\n",
            "LLM returned 1 generations instead of requested 3. Proceeding with 1 generations.\n",
            "LLM returned 1 generations instead of requested 3. Proceeding with 1 generations.\n",
            "LLM returned 1 generations instead of requested 3. Proceeding with 1 generations.\n",
            "LLM returned 1 generations instead of requested 3. Proceeding with 1 generations.\n"
          ]
        },
        {
          "name": "stdout",
          "output_type": "stream",
          "text": [
            "Evaluation results for multi_query: {'context_recall': 0.8000, 'faithfulness': 0.0000, 'factual_correctness(mode=f1)': 0.0000, 'answer_relevancy': 0.7226}\n",
            "\n",
            "Evaluating parent...\n"
          ]
        },
        {
          "data": {
            "application/vnd.jupyter.widget-view+json": {
              "model_id": "4447d1b7261e412e86fdd422b3a82c58",
              "version_major": 2,
              "version_minor": 0
            },
            "text/plain": [
              "Evaluating:   0%|          | 0/20 [00:00<?, ?it/s]"
            ]
          },
          "metadata": {},
          "output_type": "display_data"
        },
        {
          "name": "stderr",
          "output_type": "stream",
          "text": [
            "LLM returned 1 generations instead of requested 3. Proceeding with 1 generations.\n",
            "LLM returned 1 generations instead of requested 3. Proceeding with 1 generations.\n",
            "LLM returned 1 generations instead of requested 3. Proceeding with 1 generations.\n",
            "LLM returned 1 generations instead of requested 3. Proceeding with 1 generations.\n",
            "LLM returned 1 generations instead of requested 3. Proceeding with 1 generations.\n"
          ]
        },
        {
          "name": "stdout",
          "output_type": "stream",
          "text": [
            "Evaluation results for parent: {'context_recall': 0.8000, 'faithfulness': 0.1000, 'factual_correctness(mode=f1)': 0.0000, 'answer_relevancy': 0.7331}\n",
            "\n",
            "Evaluating ensemble...\n"
          ]
        },
        {
          "data": {
            "application/vnd.jupyter.widget-view+json": {
              "model_id": "74c2e891065e4336be3de61874c44cb7",
              "version_major": 2,
              "version_minor": 0
            },
            "text/plain": [
              "Evaluating:   0%|          | 0/20 [00:00<?, ?it/s]"
            ]
          },
          "metadata": {},
          "output_type": "display_data"
        },
        {
          "name": "stderr",
          "output_type": "stream",
          "text": [
            "LLM returned 1 generations instead of requested 3. Proceeding with 1 generations.\n",
            "LLM returned 1 generations instead of requested 3. Proceeding with 1 generations.\n",
            "LLM returned 1 generations instead of requested 3. Proceeding with 1 generations.\n",
            "LLM returned 1 generations instead of requested 3. Proceeding with 1 generations.\n",
            "LLM returned 1 generations instead of requested 3. Proceeding with 1 generations.\n"
          ]
        },
        {
          "name": "stdout",
          "output_type": "stream",
          "text": [
            "Evaluation results for ensemble: {'context_recall': 0.6000, 'faithfulness': 0.0000, 'factual_correctness(mode=f1)': 0.0000, 'answer_relevancy': 0.7332}\n",
            "\n",
            "Evaluating semantic...\n"
          ]
        },
        {
          "data": {
            "application/vnd.jupyter.widget-view+json": {
              "model_id": "6a7ed5e8b43a493890a90f86e44586d4",
              "version_major": 2,
              "version_minor": 0
            },
            "text/plain": [
              "Evaluating:   0%|          | 0/20 [00:00<?, ?it/s]"
            ]
          },
          "metadata": {},
          "output_type": "display_data"
        },
        {
          "name": "stderr",
          "output_type": "stream",
          "text": [
            "LLM returned 1 generations instead of requested 3. Proceeding with 1 generations.\n",
            "LLM returned 1 generations instead of requested 3. Proceeding with 1 generations.\n",
            "LLM returned 1 generations instead of requested 3. Proceeding with 1 generations.\n",
            "LLM returned 1 generations instead of requested 3. Proceeding with 1 generations.\n",
            "LLM returned 1 generations instead of requested 3. Proceeding with 1 generations.\n"
          ]
        },
        {
          "name": "stdout",
          "output_type": "stream",
          "text": [
            "Evaluation results for semantic: {'context_recall': 0.7000, 'faithfulness': 0.0000, 'factual_correctness(mode=f1)': 0.0000, 'answer_relevancy': 0.7265}\n"
          ]
        }
      ],
      "source": [
        "results = []\n",
        "for name, chain in retrievers.items():\n",
        "    results.append(evaluate_retriever(chain, test_dataset, name))\n"
      ]
    },
    {
      "cell_type": "code",
      "execution_count": 202,
      "metadata": {},
      "outputs": [
        {
          "name": "stdout",
          "output_type": "stream",
          "text": [
            "[{'name': 'naive', 'metrics': {'context_recall': 0.8, 'faithfulness': 0.0, 'factual_correctness(mode=f1)': 0.0, 'answer_relevancy': 0.7331}, 'latency': 1.8879408836364746}, {'name': 'bm25', 'metrics': {'context_recall': 0.8, 'faithfulness': 0.0, 'factual_correctness(mode=f1)': 0.0, 'answer_relevancy': 0.7332}, 'latency': 0.004433870315551758}, {'name': 'compression', 'metrics': {'context_recall': 0.7, 'faithfulness': 0.1, 'factual_correctness(mode=f1)': 0.0, 'answer_relevancy': 0.7336}, 'latency': 3.5942139625549316}, {'name': 'multi_query', 'metrics': {'context_recall': 0.8, 'faithfulness': 0.0, 'factual_correctness(mode=f1)': 0.0, 'answer_relevancy': 0.7226}, 'latency': 10.004251956939697}, {'name': 'parent', 'metrics': {'context_recall': 0.8, 'faithfulness': 0.1, 'factual_correctness(mode=f1)': 0.0, 'answer_relevancy': 0.7331}, 'latency': 1.3038699626922607}, {'name': 'ensemble', 'metrics': {'context_recall': 0.6, 'faithfulness': 0.0, 'factual_correctness(mode=f1)': 0.0, 'answer_relevancy': 0.7332}, 'latency': 12.474702835083008}, {'name': 'semantic', 'metrics': {'context_recall': 0.7, 'faithfulness': 0.0, 'factual_correctness(mode=f1)': 0.0, 'answer_relevancy': 0.7265}, 'latency': 1.1596570014953613}]\n",
            "================================================================================\n",
            "📊 ADVANCED RETRIEVAL METHODS EVALUATION RESULTS\n",
            "================================================================================\n",
            "  Retriever Context Recall Faithfulness Factual Correctness Answer Relevancy Latency (s)\n",
            "      Naive          80.0%         0.0%                0.0%            73.3%       1.888\n",
            "       Bm25          80.0%         0.0%                0.0%            73.3%       0.004\n",
            "Compression          70.0%        10.0%                0.0%            73.4%       3.594\n",
            "Multi_Query          80.0%         0.0%                0.0%            72.3%      10.004\n",
            "     Parent          80.0%        10.0%                0.0%            73.3%       1.304\n",
            "   Ensemble          60.0%         0.0%                0.0%            73.3%      12.475\n",
            "   Semantic          70.0%         0.0%                0.0%            72.7%       1.160\n",
            "================================================================================\n"
          ]
        },
        {
          "data": {
            "image/png": "[encoded data removed]",
            "text/plain": [
              "<Figure size 1500x1200 with 4 Axes>"
            ]
          },
          "metadata": {},
          "output_type": "display_data"
        }
      ],
      "source": [
        "print(results)\n",
        "import pandas as pd\n",
        "import matplotlib.pyplot as plt\n",
        "import seaborn as sns\n",
        "\n",
        "# Your results data\n",
        "results = [\n",
        "    {'name': 'naive', 'metrics': {'context_recall': 0.8000, 'faithfulness': 0.0000, 'factual_correctness(mode=f1)': 0.0000, 'answer_relevancy': 0.7331}, 'latency': 1.8879408836364746},\n",
        "    {'name': 'bm25', 'metrics': {'context_recall': 0.8000, 'faithfulness': 0.0000, 'factual_correctness(mode=f1)': 0.0000, 'answer_relevancy': 0.7332}, 'latency': 0.004433870315551758},\n",
        "    {'name': 'compression', 'metrics': {'context_recall': 0.7000, 'faithfulness': 0.1000, 'factual_correctness(mode=f1)': 0.0000, 'answer_relevancy': 0.7336}, 'latency': 3.5942139625549316},\n",
        "    {'name': 'multi_query', 'metrics': {'context_recall': 0.8000, 'faithfulness': 0.0000, 'factual_correctness(mode=f1)': 0.0000, 'answer_relevancy': 0.7226}, 'latency': 10.004251956939697},\n",
        "    {'name': 'parent', 'metrics': {'context_recall': 0.8000, 'faithfulness': 0.1000, 'factual_correctness(mode=f1)': 0.0000, 'answer_relevancy': 0.7331}, 'latency': 1.3038699626922607},\n",
        "    {'name': 'ensemble', 'metrics': {'context_recall': 0.6000, 'faithfulness': 0.0000, 'factual_correctness(mode=f1)': 0.0000, 'answer_relevancy': 0.7332}, 'latency': 12.474702835083008},\n",
        "    {'name': 'semantic', 'metrics': {'context_recall': 0.7000, 'faithfulness': 0.0000, 'factual_correctness(mode=f1)': 0.0000, 'answer_relevancy': 0.7265}, 'latency': 1.1596570014953613}\n",
        "]\n",
        "\n",
        "# Convert to DataFrame for better display\n",
        "df_results = []\n",
        "for result in results:\n",
        "    df_results.append({\n",
        "        'Retriever': result['name'].title(),\n",
        "        'Context Recall': f\"{result['metrics']['context_recall']:.1%}\",\n",
        "        'Faithfulness': f\"{result['metrics']['faithfulness']:.1%}\",\n",
        "        'Factual Correctness': f\"{result['metrics']['factual_correctness(mode=f1)']:.1%}\",\n",
        "        'Answer Relevancy': f\"{result['metrics']['answer_relevancy']:.1%}\",\n",
        "        'Latency (s)': f\"{result['latency']:.3f}\"\n",
        "    })\n",
        "\n",
        "df = pd.DataFrame(df_results)\n",
        "\n",
        "# Display the results table\n",
        "print(\"=\" * 80)\n",
        "print(\"📊 ADVANCED RETRIEVAL METHODS EVALUATION RESULTS\")\n",
        "print(\"=\" * 80)\n",
        "print(df.to_string(index=False))\n",
        "print(\"=\" * 80)\n",
        "\n",
        "# Create visualizations\n",
        "fig, axes = plt.subplots(2, 2, figsize=(15, 12))\n",
        "fig.suptitle('Advanced Retrieval Methods Performance Analysis', fontsize=16, fontweight='bold')\n",
        "\n",
        "# Extract data for plotting\n",
        "retrievers = [r['name'].title() for r in results]\n",
        "context_recall = [r['metrics']['context_recall'] for r in results]\n",
        "faithfulness = [r['metrics']['faithfulness'] for r in results]\n",
        "answer_relevancy = [r['metrics']['answer_relevancy'] for r in results]\n",
        "latency = [r['latency'] for r in results]\n",
        "\n",
        "# 1. Context Recall\n",
        "axes[0,0].bar(retrievers, context_recall, color='skyblue', alpha=0.7)\n",
        "axes[0,0].set_title('Context Recall Performance', fontweight='bold')\n",
        "axes[0,0].set_ylabel('Score')\n",
        "axes[0,0].tick_params(axis='x', rotation=45)\n",
        "axes[0,0].set_ylim(0, 1)\n",
        "\n",
        "# 2. Faithfulness\n",
        "axes[0,1].bar(retrievers, faithfulness, color='lightcoral', alpha=0.7)\n",
        "axes[0,1].set_title('Faithfulness Performance', fontweight='bold')\n",
        "axes[0,1].set_ylabel('Score')\n",
        "axes[0,1].tick_params(axis='x', rotation=45)\n",
        "axes[0,1].set_ylim(0, 1)\n",
        "\n",
        "# 3. Answer Relevancy\n",
        "axes[1,0].bar(retrievers, answer_relevancy, color='lightgreen', alpha=0.7)\n",
        "axes[1,0].set_title('Answer Relevancy Performance', fontweight='bold')\n",
        "axes[1,0].set_ylabel('Score')\n",
        "axes[1,0].tick_params(axis='x', rotation=45)\n",
        "axes[1,0].set_ylim(0, 1)\n",
        "\n",
        "# 4. Latency (log scale for better visualization)\n",
        "axes[1,1].bar(retrievers, latency, color='orange', alpha=0.7)\n",
        "axes[1,1].set_title('Latency Performance (Lower is Better)', fontweight='bold')\n",
        "axes[1,1].set_ylabel('Latency (seconds)')\n",
        "axes[1,1].tick_params(axis='x', rotation=45)\n",
        "axes[1,1].set_yscale('log')  # Log scale due to wide range\n",
        "\n",
        "plt.tight_layout()\n",
        "plt.show()\n"
      ]
    },
    {
      "cell_type": "markdown",
      "metadata": {},
      "source": [
        "## Analysis and Recommendations\n",
        "\n",
        "The comprehensive evaluation of seven advanced retrieval methods reveals BM25 as the clear winner from this experiement overall, achieving the optimal balance of performance, cost, and speed. While BM25 delivers 80% context recall and 73.32% answer relevancy with low 0.004s latency, the most concerning finding is the systematic failure across all methods in faithfulness (0-10%) and factual correctness (0%). This suggests the core issue lies not in retrieval quality but in response generation, indicating potential problems with the LLM prompting strategy or evaluation setup.\n",
        "\n",
        "### Performance Analysis:\n",
        "Context Recall: Most methods achieve 80% (except ensemble 60%, semantic/compression 70%)\n",
        "Answer Relevancy: All methods perform similarly (72-73%)\n",
        "Faithfulness: Consistently low across all methods (0-10%) - critical issue\n",
        "Factual Correctness: All methods score 0% - major red flag\n",
        "\n",
        "### Latency Analysis:\n",
        "Ultra-Fast: BM25 (0.004s)\n",
        "Fast: Semantic (1.16s), Parent (1.30s), Naive (1.89s)\n",
        "Moderate: Compression (3.59s)\n",
        "Slow: Multi-Query (10.00s), Ensemble (12.47s)\n",
        "\n",
        "### Cost Analysis:\n",
        "Most Cost-Effective: BM25 - no LLM calls, minimal resources, scalable\n",
        "Most Expensive: Ensemble & Multi-Query - multiple LLM calls, high overhead, diminishing returns\n",
        "The evaluation reveals that retrieval systems are performing adequately, but the downstream LLM responses are failing quality metrics. This indicates a fundamental issue with the response generation pipeline rather than the retrieval mechanisms themselves.\n",
        "\n",
        "### Recommendations:\n",
        "\n",
        "BM25 - best overall performance with minimal cost and fastest response times\n",
        "Parent Document for high quality retrieval - only method with 10% faithfulness and reasonable latency (1.30s)\n",
        "Use Ensemble & Multi-Query only when high quality and precision is required as it incurs high cost with minimal performance gains and complex implementation"
      ]
    }
  ],
  "metadata": {
    "colab": {
      "provenance": [],
      "toc_visible": true
    },
    "kernelspec": {
      "display_name": ".venv",
      "language": "python",
      "name": "python3"
    },
    "language_info": {
      "codemirror_mode": {
        "name": "ipython",
        "version": 3
      },
      "file_extension": ".py",
      "mimetype": "text/x-python",
      "name": "python",
      "nbconvert_exporter": "python",
      "pygments_lexer": "ipython3",
      "version": "3.13.0"
    }
  },
  "nbformat": 4,
  "nbformat_minor": 0
}
